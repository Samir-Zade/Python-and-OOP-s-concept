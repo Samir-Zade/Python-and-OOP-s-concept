{
  "nbformat": 4,
  "nbformat_minor": 0,
  "metadata": {
    "colab": {
      "provenance": []
    },
    "kernelspec": {
      "name": "python3",
      "display_name": "Python 3"
    },
    "language_info": {
      "name": "python"
    }
  },
  "cells": [
    {
      "cell_type": "code",
      "execution_count": null,
      "metadata": {
        "id": "qGuG7Pzn7vFK"
      },
      "outputs": [],
      "source": [
        "a = 1 #a is object, variable or instance"
      ]
    },
    {
      "cell_type": "code",
      "source": [
        "print(type(a))"
      ],
      "metadata": {
        "colab": {
          "base_uri": "https://localhost:8080/"
        },
        "id": "v86mkFV57-aU",
        "outputId": "19ea88bd-f372-45a6-e25a-7822618a51a5"
      },
      "execution_count": null,
      "outputs": [
        {
          "output_type": "stream",
          "name": "stdout",
          "text": [
            "<class 'int'>\n"
          ]
        }
      ]
    },
    {
      "cell_type": "code",
      "source": [
        "print(type(\"mumbai\"))"
      ],
      "metadata": {
        "colab": {
          "base_uri": "https://localhost:8080/"
        },
        "id": "5NwDTlxA8Bl_",
        "outputId": "0a51cad1-a944-4ecb-b307-be9582126aa8"
      },
      "execution_count": null,
      "outputs": [
        {
          "output_type": "stream",
          "name": "stdout",
          "text": [
            "<class 'str'>\n"
          ]
        }
      ]
    },
    {
      "cell_type": "markdown",
      "source": [
        "## class - classification of real world entity\n",
        "\n",
        "used for classfied or structured all the programs based on their identities and re-usability.\n",
        "- Encapsulation : helps in keeping related code organized and prevents data from being accessed directly from outside the class\n",
        "- Abstraction : makes the code more understandable and maintainable.\n",
        "- Inheritance : promotes code reusability and enables the creation of hierarchies of classes\n",
        "- Polymorphism : allows objects of different classes to be treated as objects of a common superclass.\n",
        "- Modularity : makes it easier to break down complex systems into smaller, more manageable parts, which can be developed, tested, and maintained independently."
      ],
      "metadata": {
        "id": "z2eK5li58S1l"
      }
    },
    {
      "cell_type": "code",
      "source": [
        "#for blank class\n",
        "class test:\n",
        "  pass"
      ],
      "metadata": {
        "id": "9-WYz6Wu8EJj"
      },
      "execution_count": null,
      "outputs": []
    },
    {
      "cell_type": "code",
      "source": [
        "a = test()"
      ],
      "metadata": {
        "id": "WCjN3YvZ8vpn"
      },
      "execution_count": null,
      "outputs": []
    },
    {
      "cell_type": "code",
      "source": [
        "type(a)"
      ],
      "metadata": {
        "colab": {
          "base_uri": "https://localhost:8080/"
        },
        "id": "kNQI0l5c-iBL",
        "outputId": "940c0140-d194-4e20-c3a1-455ee020e5bc"
      },
      "execution_count": null,
      "outputs": [
        {
          "output_type": "execute_result",
          "data": {
            "text/plain": [
              "__main__.test"
            ]
          },
          "metadata": {},
          "execution_count": 6
        }
      ]
    },
    {
      "cell_type": "code",
      "source": [
        "print(type(a))"
      ],
      "metadata": {
        "colab": {
          "base_uri": "https://localhost:8080/"
        },
        "id": "U8CcVTGn-i9m",
        "outputId": "c72270f9-254f-430c-a604-a8246b2534de"
      },
      "execution_count": null,
      "outputs": [
        {
          "output_type": "stream",
          "name": "stdout",
          "text": [
            "<class '__main__.test'>\n"
          ]
        }
      ]
    },
    {
      "cell_type": "code",
      "source": [
        "class pwskills:\n",
        "  def welcome_msg(self): #self used to make it member of class, it shows that function is related to the class\n",
        "    print(\"Welcome to pwskills\")"
      ],
      "metadata": {
        "id": "MUhxjniK-mjh"
      },
      "execution_count": null,
      "outputs": []
    },
    {
      "cell_type": "code",
      "source": [
        "rohan = pwskills()"
      ],
      "metadata": {
        "id": "2MZ8VJ8i_BbK"
      },
      "execution_count": null,
      "outputs": []
    },
    {
      "cell_type": "code",
      "source": [
        "print(type(rohan))"
      ],
      "metadata": {
        "colab": {
          "base_uri": "https://localhost:8080/"
        },
        "id": "kZqb7mu8_EPt",
        "outputId": "92c2cfc4-33d7-4b33-821b-59b13045ed36"
      },
      "execution_count": null,
      "outputs": [
        {
          "output_type": "stream",
          "name": "stdout",
          "text": [
            "<class '__main__.pwskills'>\n"
          ]
        }
      ]
    },
    {
      "cell_type": "code",
      "source": [
        "rohan.welcome_msg()"
      ],
      "metadata": {
        "colab": {
          "base_uri": "https://localhost:8080/"
        },
        "id": "5EzNEOit_Hkc",
        "outputId": "b78c6191-8220-4547-8b83-98423ed0772e"
      },
      "execution_count": null,
      "outputs": [
        {
          "output_type": "stream",
          "name": "stdout",
          "text": [
            "Welcome to pwskills\n"
          ]
        }
      ]
    },
    {
      "cell_type": "code",
      "source": [
        "gaurav = pwskills()\n",
        "gaurav.welcome_msg()"
      ],
      "metadata": {
        "colab": {
          "base_uri": "https://localhost:8080/"
        },
        "id": "mVprgNDy_O_J",
        "outputId": "dc55093f-bb0b-4f62-f051-9f191ab3da23"
      },
      "execution_count": null,
      "outputs": [
        {
          "output_type": "stream",
          "name": "stdout",
          "text": [
            "Welcome to pwskills\n"
          ]
        }
      ]
    },
    {
      "cell_type": "code",
      "source": [
        "class pwskills1:\n",
        "\n",
        "  #to pass or get the data into class\n",
        "  def __init__(self, phone_number, email_id, student_id):\n",
        "    self.phone_number = phone_number\n",
        "    self.email_id = email_id\n",
        "    self.student_id = student_id\n",
        "\n",
        "  def return_student_details(self):\n",
        "    return self.student_id, self.phone_number, self.email_id"
      ],
      "metadata": {
        "id": "hwPic8mNAUo3"
      },
      "execution_count": null,
      "outputs": []
    },
    {
      "cell_type": "code",
      "source": [
        "rohan = pwskills1(34335333, \"rohan@x.com\", 292)"
      ],
      "metadata": {
        "id": "wAzdtHswC1g4"
      },
      "execution_count": null,
      "outputs": []
    },
    {
      "cell_type": "code",
      "source": [
        "rohan.return_student_details()"
      ],
      "metadata": {
        "colab": {
          "base_uri": "https://localhost:8080/"
        },
        "id": "IMb1wczPDDFQ",
        "outputId": "0401a627-5357-41cc-c596-601747f2743b"
      },
      "execution_count": null,
      "outputs": [
        {
          "output_type": "execute_result",
          "data": {
            "text/plain": [
              "(292, 34335333, 'rohan@x.com')"
            ]
          },
          "metadata": {},
          "execution_count": 15
        }
      ]
    },
    {
      "cell_type": "code",
      "source": [
        "gaurav = pwskills1(499085, \"gaurav@x.com\", 343)"
      ],
      "metadata": {
        "id": "KugwRbenDjOO"
      },
      "execution_count": null,
      "outputs": []
    },
    {
      "cell_type": "code",
      "source": [
        "gaurav.return_student_details()"
      ],
      "metadata": {
        "colab": {
          "base_uri": "https://localhost:8080/"
        },
        "id": "mQPPUkl_EMdG",
        "outputId": "6cd7e08d-2307-40d7-fed5-a92de24847aa"
      },
      "execution_count": null,
      "outputs": [
        {
          "output_type": "execute_result",
          "data": {
            "text/plain": [
              "(343, 499085, 'gaurav@x.com')"
            ]
          },
          "metadata": {},
          "execution_count": 17
        }
      ]
    },
    {
      "cell_type": "code",
      "source": [
        "class pwskills:\n",
        "\n",
        "  #to pass or get the data into class\n",
        "  def __init__(self, phone_number, email_id, student_id):\n",
        "    self.phone_number1 = phone_number\n",
        "    self.email_id1 = email_id\n",
        "    self.student_id1 = student_id\n",
        "\n",
        "  def return_student_details2(self):\n",
        "    return self.student_id1, self.phone_number1, self.email_id1"
      ],
      "metadata": {
        "id": "SkYSrnb8Ean9"
      },
      "execution_count": null,
      "outputs": []
    },
    {
      "cell_type": "code",
      "source": [
        "sudh = pwskills(987484738474, \"sudh@x.com\", 1)"
      ],
      "metadata": {
        "id": "LyjcS1KQErvu"
      },
      "execution_count": null,
      "outputs": []
    },
    {
      "cell_type": "code",
      "source": [
        "sudh"
      ],
      "metadata": {
        "colab": {
          "base_uri": "https://localhost:8080/"
        },
        "id": "7-Mzz2XXE1bs",
        "outputId": "0ed71e4a-154d-4a8d-ef34-015cb4e3b7dc"
      },
      "execution_count": null,
      "outputs": [
        {
          "output_type": "execute_result",
          "data": {
            "text/plain": [
              "<__main__.pwskills at 0x7c25ba6327d0>"
            ]
          },
          "metadata": {},
          "execution_count": 20
        }
      ]
    },
    {
      "cell_type": "code",
      "source": [
        "sudh.phone_number1"
      ],
      "metadata": {
        "colab": {
          "base_uri": "https://localhost:8080/"
        },
        "id": "bz9Ux7w6E8eh",
        "outputId": "ba147f6b-5042-47f8-f023-59f09703a0a4"
      },
      "execution_count": null,
      "outputs": [
        {
          "output_type": "execute_result",
          "data": {
            "text/plain": [
              "987484738474"
            ]
          },
          "metadata": {},
          "execution_count": 21
        }
      ]
    },
    {
      "cell_type": "code",
      "source": [
        "sudh.email_id1 #data is related to self is correct original"
      ],
      "metadata": {
        "colab": {
          "base_uri": "https://localhost:8080/",
          "height": 36
        },
        "id": "YffycUZxFH9F",
        "outputId": "15c93378-6942-4838-a555-ff469cc7e92b"
      },
      "execution_count": null,
      "outputs": [
        {
          "output_type": "execute_result",
          "data": {
            "text/plain": [
              "'sudh@x.com'"
            ],
            "application/vnd.google.colaboratory.intrinsic+json": {
              "type": "string"
            }
          },
          "metadata": {},
          "execution_count": 22
        }
      ]
    },
    {
      "cell_type": "code",
      "source": [
        "sudh.student_id1"
      ],
      "metadata": {
        "colab": {
          "base_uri": "https://localhost:8080/"
        },
        "id": "csxIudAHFPYr",
        "outputId": "aac83d57-c3f5-4173-f80f-b36886b5d4a8"
      },
      "execution_count": null,
      "outputs": [
        {
          "output_type": "execute_result",
          "data": {
            "text/plain": [
              "1"
            ]
          },
          "metadata": {},
          "execution_count": 23
        }
      ]
    },
    {
      "cell_type": "code",
      "source": [
        "sudh.return_student_details2()"
      ],
      "metadata": {
        "colab": {
          "base_uri": "https://localhost:8080/"
        },
        "id": "MkO84Kd2FSyq",
        "outputId": "4c80b200-9e6c-4f3f-e070-7bef833dd60d"
      },
      "execution_count": null,
      "outputs": [
        {
          "output_type": "execute_result",
          "data": {
            "text/plain": [
              "(1, 987484738474, 'sudh@x.com')"
            ]
          },
          "metadata": {},
          "execution_count": 24
        }
      ]
    },
    {
      "cell_type": "code",
      "source": [
        "class pwskills:\n",
        "\n",
        "  #to pass or get the data into class\n",
        "  def __init__(sudh, phone_number, email_id, student_id):\n",
        "    sudh.phone_number1 = phone_number\n",
        "    sudh.email_id1 = email_id\n",
        "    sudh.student_id1 = student_id\n",
        "\n",
        "  def return_student_details2(sudh):\n",
        "    return sudh.student_id1, sudh.phone_number1, sudh.email_id1"
      ],
      "metadata": {
        "id": "-1qLC8ULFib3"
      },
      "execution_count": null,
      "outputs": []
    },
    {
      "cell_type": "code",
      "source": [
        "rohan = pwskills(123423242323, \"rohan@x.com\", 1)"
      ],
      "metadata": {
        "id": "nKSlpHfBGV5b"
      },
      "execution_count": null,
      "outputs": []
    },
    {
      "cell_type": "code",
      "source": [
        "type(rohan)"
      ],
      "metadata": {
        "colab": {
          "base_uri": "https://localhost:8080/",
          "height": 103
        },
        "id": "b9ZeoiiAGevE",
        "outputId": "ad8495f4-5610-4d19-e345-433f830959ff"
      },
      "execution_count": null,
      "outputs": [
        {
          "output_type": "execute_result",
          "data": {
            "text/plain": [
              "__main__.pwskills"
            ],
            "text/html": [
              "<div style=\"max-width:800px; border: 1px solid var(--colab-border-color);\"><style>\n",
              "      pre.function-repr-contents {\n",
              "        overflow-x: auto;\n",
              "        padding: 8px 12px;\n",
              "        max-height: 500px;\n",
              "      }\n",
              "\n",
              "      pre.function-repr-contents.function-repr-contents-collapsed {\n",
              "        cursor: pointer;\n",
              "        max-height: 100px;\n",
              "      }\n",
              "    </style>\n",
              "    <pre style=\"white-space: initial; background:\n",
              "         var(--colab-secondary-surface-color); padding: 8px 12px;\n",
              "         border-bottom: 1px solid var(--colab-border-color);\"><b>pwskills</b><br/>def __init__(sudh, phone_number, email_id, student_id)</pre><pre class=\"function-repr-contents function-repr-contents-collapsed\" style=\"\"><a class=\"filepath\" style=\"display:none\" href=\"#\"></a>&lt;no docstring&gt;</pre></div>"
            ]
          },
          "metadata": {},
          "execution_count": 27
        }
      ]
    },
    {
      "cell_type": "code",
      "source": [
        "rohan.return_student_details2()"
      ],
      "metadata": {
        "colab": {
          "base_uri": "https://localhost:8080/"
        },
        "id": "15q-9kQ3Gg-A",
        "outputId": "1bca73fe-fcba-486e-8f24-45c93c464564"
      },
      "execution_count": null,
      "outputs": [
        {
          "output_type": "execute_result",
          "data": {
            "text/plain": [
              "(1, 123423242323, 'rohan@x.com')"
            ]
          },
          "metadata": {},
          "execution_count": 28
        }
      ]
    },
    {
      "cell_type": "markdown",
      "source": [
        "## Encapsulation\n",
        "\n",
        "- to hide the internal structure from user we used encapsulation"
      ],
      "metadata": {
        "id": "gWniuirKqtDl"
      }
    },
    {
      "cell_type": "code",
      "source": [
        "class test:\n",
        "\n",
        "  def __init__(self, a, b):\n",
        "    self.a = a\n",
        "    self.b = b"
      ],
      "metadata": {
        "id": "-bsmpx_GGlH4"
      },
      "execution_count": null,
      "outputs": []
    },
    {
      "cell_type": "code",
      "source": [
        "t = test(23, 34)"
      ],
      "metadata": {
        "id": "8xJPx1OCq-DY"
      },
      "execution_count": null,
      "outputs": []
    },
    {
      "cell_type": "code",
      "source": [
        "t.a = 23343"
      ],
      "metadata": {
        "id": "v94iE71NrBig"
      },
      "execution_count": null,
      "outputs": []
    },
    {
      "cell_type": "code",
      "source": [
        "t.a #to hide the internal structure from user we used encapsulation"
      ],
      "metadata": {
        "colab": {
          "base_uri": "https://localhost:8080/"
        },
        "id": "7YvIHqrZrExi",
        "outputId": "4742d687-48bd-47d1-cb95-188b8f0ce0cd"
      },
      "execution_count": null,
      "outputs": [
        {
          "output_type": "execute_result",
          "data": {
            "text/plain": [
              "23343"
            ]
          },
          "metadata": {},
          "execution_count": 32
        }
      ]
    },
    {
      "cell_type": "code",
      "source": [
        "class car:\n",
        "\n",
        "##this below code is hide with help of encapsulation\n",
        "  def __init__(self, year, make, model, speed):\n",
        "    self.__year = year\n",
        "    self.__make = make\n",
        "    self.__model = model\n",
        "    self.__speed = 0\n",
        "\n",
        "#this code can been seen as it's not hide\n",
        "  def set_speed(self, speed):\n",
        "    self.__speed = 0 if speed < 0 else speed\n",
        "\n",
        "  def get_speed(self):\n",
        "    return self.__speed"
      ],
      "metadata": {
        "id": "_WB6koP3rFlU"
      },
      "execution_count": null,
      "outputs": []
    },
    {
      "cell_type": "code",
      "source": [
        "c = car(2021, \"toyota\", \"innova\", 12)"
      ],
      "metadata": {
        "id": "dqd0avz9rmZd"
      },
      "execution_count": null,
      "outputs": []
    },
    {
      "cell_type": "code",
      "source": [
        "c.year #can't access directly, encapsulation hide the interial variable (pata hi nhi chal payega)"
      ],
      "metadata": {
        "colab": {
          "base_uri": "https://localhost:8080/",
          "height": 158
        },
        "id": "QlOYvQJ5rrKV",
        "outputId": "7f693738-8875-46e3-9a47-2b840ad18ffc"
      },
      "execution_count": null,
      "outputs": [
        {
          "output_type": "error",
          "ename": "AttributeError",
          "evalue": "'car' object has no attribute 'year'",
          "traceback": [
            "\u001b[0;31m---------------------------------------------------------------------------\u001b[0m",
            "\u001b[0;31mAttributeError\u001b[0m                            Traceback (most recent call last)",
            "\u001b[0;32m<ipython-input-35-ebb4e8130cf0>\u001b[0m in \u001b[0;36m<cell line: 1>\u001b[0;34m()\u001b[0m\n\u001b[0;32m----> 1\u001b[0;31m \u001b[0mc\u001b[0m\u001b[0;34m.\u001b[0m\u001b[0myear\u001b[0m \u001b[0;31m#can't access directly, encapsulation hide the interial variable (pata hi nhi chal payega)\u001b[0m\u001b[0;34m\u001b[0m\u001b[0;34m\u001b[0m\u001b[0m\n\u001b[0m",
            "\u001b[0;31mAttributeError\u001b[0m: 'car' object has no attribute 'year'"
          ]
        }
      ]
    },
    {
      "cell_type": "code",
      "source": [
        "c._car__year #(_classname__classfunctin)"
      ],
      "metadata": {
        "colab": {
          "base_uri": "https://localhost:8080/"
        },
        "id": "fvV0fE5TruEk",
        "outputId": "a6e8a1ba-0fbf-463c-a3ef-0fe287e60605"
      },
      "execution_count": null,
      "outputs": [
        {
          "output_type": "execute_result",
          "data": {
            "text/plain": [
              "2021"
            ]
          },
          "metadata": {},
          "execution_count": 36
        }
      ]
    },
    {
      "cell_type": "code",
      "source": [
        "c.set_speed(-3245)"
      ],
      "metadata": {
        "id": "_UdPdtbgryxh"
      },
      "execution_count": null,
      "outputs": []
    },
    {
      "cell_type": "code",
      "source": [
        "c.get_speed()"
      ],
      "metadata": {
        "colab": {
          "base_uri": "https://localhost:8080/"
        },
        "id": "C8mWXiEFsym9",
        "outputId": "793d7949-ec19-4d33-9847-4d320c533bac"
      },
      "execution_count": null,
      "outputs": [
        {
          "output_type": "execute_result",
          "data": {
            "text/plain": [
              "0"
            ]
          },
          "metadata": {},
          "execution_count": 38
        }
      ]
    },
    {
      "cell_type": "code",
      "source": [
        "c.set_speed(34)"
      ],
      "metadata": {
        "id": "Qk8e-kBkwohI"
      },
      "execution_count": null,
      "outputs": []
    },
    {
      "cell_type": "code",
      "source": [
        "c.get_speed()"
      ],
      "metadata": {
        "colab": {
          "base_uri": "https://localhost:8080/"
        },
        "id": "gtvkYggawtUH",
        "outputId": "70e31a6f-4f2c-4582-a0a0-932d3ef124f9"
      },
      "execution_count": null,
      "outputs": [
        {
          "output_type": "execute_result",
          "data": {
            "text/plain": [
              "34"
            ]
          },
          "metadata": {},
          "execution_count": 40
        }
      ]
    },
    {
      "cell_type": "code",
      "source": [
        "class bank_account:\n",
        "\n",
        "  def __init__(self, balance):\n",
        "    self.__balance = balance\n",
        "\n",
        "  def deposit(self, amount):\n",
        "    self.__balance += amount\n",
        "\n",
        "  def withdraw(self, amount):\n",
        "    if self.__balance >= amount:\n",
        "      self.__balance -= amount\n",
        "      return \"Withdraw is successful!\"\n",
        "    else:\n",
        "      return \"Out of credit!\"\n",
        "\n",
        "  def get_balance(self):\n",
        "    return self.__balance"
      ],
      "metadata": {
        "id": "qZbDaD8Owuml"
      },
      "execution_count": null,
      "outputs": []
    },
    {
      "cell_type": "code",
      "source": [
        "sudh = bank_account(1000)"
      ],
      "metadata": {
        "id": "xSYANtrizSn9"
      },
      "execution_count": null,
      "outputs": []
    },
    {
      "cell_type": "code",
      "source": [
        "sudh.get_balance()"
      ],
      "metadata": {
        "colab": {
          "base_uri": "https://localhost:8080/"
        },
        "id": "QosslD6_zZ1X",
        "outputId": "01ceed7a-3100-4396-f505-a7370b381060"
      },
      "execution_count": null,
      "outputs": [
        {
          "output_type": "execute_result",
          "data": {
            "text/plain": [
              "1000"
            ]
          },
          "metadata": {},
          "execution_count": 43
        }
      ]
    },
    {
      "cell_type": "code",
      "source": [
        "sudh.deposit(500)"
      ],
      "metadata": {
        "id": "msCvTkrlzu76"
      },
      "execution_count": null,
      "outputs": []
    },
    {
      "cell_type": "code",
      "source": [
        "sudh.get_balance()"
      ],
      "metadata": {
        "colab": {
          "base_uri": "https://localhost:8080/"
        },
        "id": "egMyHBxZzx1Q",
        "outputId": "8576d112-567b-45d4-d86f-1f951a69ceaa"
      },
      "execution_count": null,
      "outputs": [
        {
          "output_type": "execute_result",
          "data": {
            "text/plain": [
              "1500"
            ]
          },
          "metadata": {},
          "execution_count": 45
        }
      ]
    },
    {
      "cell_type": "code",
      "source": [
        "sudh.withdraw(533)"
      ],
      "metadata": {
        "colab": {
          "base_uri": "https://localhost:8080/",
          "height": 36
        },
        "id": "2GqHmwM4z0C9",
        "outputId": "33c46869-eebd-4d89-b708-c6f165302887"
      },
      "execution_count": null,
      "outputs": [
        {
          "output_type": "execute_result",
          "data": {
            "text/plain": [
              "'Withdraw is successful!'"
            ],
            "application/vnd.google.colaboratory.intrinsic+json": {
              "type": "string"
            }
          },
          "metadata": {},
          "execution_count": 46
        }
      ]
    },
    {
      "cell_type": "code",
      "source": [
        "sudh.get_balance()"
      ],
      "metadata": {
        "colab": {
          "base_uri": "https://localhost:8080/"
        },
        "id": "De5p28Tsz89E",
        "outputId": "ec0f6b8e-740e-4000-eabb-102e6d739988"
      },
      "execution_count": null,
      "outputs": [
        {
          "output_type": "execute_result",
          "data": {
            "text/plain": [
              "967"
            ]
          },
          "metadata": {},
          "execution_count": 47
        }
      ]
    },
    {
      "cell_type": "code",
      "source": [
        "sudh.withdraw(1000)"
      ],
      "metadata": {
        "colab": {
          "base_uri": "https://localhost:8080/",
          "height": 36
        },
        "id": "tYgkT4fiz_EV",
        "outputId": "8b637da8-791a-430f-ee37-a84fce179808"
      },
      "execution_count": null,
      "outputs": [
        {
          "output_type": "execute_result",
          "data": {
            "text/plain": [
              "'Out of credit!'"
            ],
            "application/vnd.google.colaboratory.intrinsic+json": {
              "type": "string"
            }
          },
          "metadata": {},
          "execution_count": 48
        }
      ]
    },
    {
      "cell_type": "markdown",
      "source": [
        "## Inheritance\n",
        "\n",
        "- reusability of existence of code from other to required."
      ],
      "metadata": {
        "id": "zHlMrmk80J1Q"
      }
    },
    {
      "cell_type": "code",
      "source": [
        "class test:\n",
        "\n",
        "  def test_math(self):\n",
        "    return \"This is my parent class\""
      ],
      "metadata": {
        "id": "jnHSwD6N0B3A"
      },
      "execution_count": null,
      "outputs": []
    },
    {
      "cell_type": "code",
      "source": [
        "class child_test(test):\n",
        "  pass"
      ],
      "metadata": {
        "id": "QXJArQ_Z0-uA"
      },
      "execution_count": null,
      "outputs": []
    },
    {
      "cell_type": "code",
      "source": [
        "child_test_obj = child_test()"
      ],
      "metadata": {
        "id": "J6y4lho_1D3J"
      },
      "execution_count": null,
      "outputs": []
    },
    {
      "cell_type": "code",
      "source": [
        "#here we call the function present in parent class with help of child class\n",
        "child_test_obj.test_math()"
      ],
      "metadata": {
        "colab": {
          "base_uri": "https://localhost:8080/",
          "height": 36
        },
        "id": "gBBx6xy21Ha2",
        "outputId": "56a96eb4-c2b4-45d8-fcd3-81e8b69462c4"
      },
      "execution_count": null,
      "outputs": [
        {
          "output_type": "execute_result",
          "data": {
            "text/plain": [
              "'This is my parent class'"
            ],
            "application/vnd.google.colaboratory.intrinsic+json": {
              "type": "string"
            }
          },
          "metadata": {},
          "execution_count": 52
        }
      ]
    },
    {
      "cell_type": "markdown",
      "source": [
        "#### Multilevel inheritance\n",
        "\n",
        "- if A --> B, B --> C then, A --> C"
      ],
      "metadata": {
        "id": "Vf4qFMXL131Y"
      }
    },
    {
      "cell_type": "code",
      "source": [
        "class class1:\n",
        "\n",
        "  def test_class1(self):\n",
        "    return \"This is from class 1\""
      ],
      "metadata": {
        "id": "dtpMbQPw1Kfz"
      },
      "execution_count": null,
      "outputs": []
    },
    {
      "cell_type": "code",
      "source": [
        "class class2(class1):\n",
        "\n",
        "  def test_class2(self):\n",
        "    return \"This is from class 2\""
      ],
      "metadata": {
        "id": "6lzHS9MF4CCr"
      },
      "execution_count": null,
      "outputs": []
    },
    {
      "cell_type": "code",
      "source": [
        "class class3(class2):\n",
        "  pass"
      ],
      "metadata": {
        "id": "z-yLj73F4Nn7"
      },
      "execution_count": null,
      "outputs": []
    },
    {
      "cell_type": "code",
      "source": [
        "obj_class3 = class3()"
      ],
      "metadata": {
        "id": "BlV-8w5x4RJK"
      },
      "execution_count": null,
      "outputs": []
    },
    {
      "cell_type": "code",
      "source": [
        "obj_class3.test_class1()"
      ],
      "metadata": {
        "colab": {
          "base_uri": "https://localhost:8080/",
          "height": 36
        },
        "id": "iIXQ6Uoq4ZA9",
        "outputId": "2554d6b2-e218-4a1a-9d0c-781ff5ffe931"
      },
      "execution_count": null,
      "outputs": [
        {
          "output_type": "execute_result",
          "data": {
            "text/plain": [
              "'This is from class 1'"
            ],
            "application/vnd.google.colaboratory.intrinsic+json": {
              "type": "string"
            }
          },
          "metadata": {},
          "execution_count": 57
        }
      ]
    },
    {
      "cell_type": "code",
      "source": [
        "obj_class3.test_class2()"
      ],
      "metadata": {
        "colab": {
          "base_uri": "https://localhost:8080/",
          "height": 36
        },
        "id": "zulJjh1w4baL",
        "outputId": "91a170e1-fcfc-4bf6-f0bc-164da04a8b8e"
      },
      "execution_count": null,
      "outputs": [
        {
          "output_type": "execute_result",
          "data": {
            "text/plain": [
              "'This is from class 2'"
            ],
            "application/vnd.google.colaboratory.intrinsic+json": {
              "type": "string"
            }
          },
          "metadata": {},
          "execution_count": 58
        }
      ]
    },
    {
      "cell_type": "markdown",
      "source": [
        "#### Multiple Inheritance\n",
        "\n",
        "- connection between two diffrent class in one class\n",
        "\n",
        "a -> b, c -> b, then we can access a, c from b"
      ],
      "metadata": {
        "id": "5L0QMAV54rib"
      }
    },
    {
      "cell_type": "code",
      "source": [
        "# Father Class\n",
        "class class1:\n",
        "  def test_class1(self):\n",
        "    return \"This is from my father class\""
      ],
      "metadata": {
        "id": "zGJ2uCeT4f4w"
      },
      "execution_count": null,
      "outputs": []
    },
    {
      "cell_type": "code",
      "source": [
        "#mother class\n",
        "class class2:\n",
        "  def test_class2(self):\n",
        "    return \"This is from my mother class\""
      ],
      "metadata": {
        "id": "WS04Ftjr5uhW"
      },
      "execution_count": null,
      "outputs": []
    },
    {
      "cell_type": "code",
      "source": [
        "#child class\n",
        "class class3(class1, class2):\n",
        "  pass"
      ],
      "metadata": {
        "id": "Ac35HpY253sq"
      },
      "execution_count": null,
      "outputs": []
    },
    {
      "cell_type": "code",
      "source": [
        "child_class = class3()"
      ],
      "metadata": {
        "id": "8TTfAA3b59ta"
      },
      "execution_count": null,
      "outputs": []
    },
    {
      "cell_type": "code",
      "source": [
        "child_class.test_class1()"
      ],
      "metadata": {
        "colab": {
          "base_uri": "https://localhost:8080/",
          "height": 36
        },
        "id": "RQirmMq16CCJ",
        "outputId": "8bd9df49-3a31-4eac-ab4d-dd97bb5169d1"
      },
      "execution_count": null,
      "outputs": [
        {
          "output_type": "execute_result",
          "data": {
            "text/plain": [
              "'This is from my father class'"
            ],
            "application/vnd.google.colaboratory.intrinsic+json": {
              "type": "string"
            }
          },
          "metadata": {},
          "execution_count": 63
        }
      ]
    },
    {
      "cell_type": "code",
      "source": [
        "child_class.test_class2()"
      ],
      "metadata": {
        "colab": {
          "base_uri": "https://localhost:8080/",
          "height": 36
        },
        "id": "Zk5sRBOi6Ec1",
        "outputId": "561a6fa7-8e56-497f-b29e-1cb5e712e439"
      },
      "execution_count": null,
      "outputs": [
        {
          "output_type": "execute_result",
          "data": {
            "text/plain": [
              "'This is from my mother class'"
            ],
            "application/vnd.google.colaboratory.intrinsic+json": {
              "type": "string"
            }
          },
          "metadata": {},
          "execution_count": 64
        }
      ]
    },
    {
      "cell_type": "markdown",
      "source": [
        "## Abstraction\n",
        "\n",
        "- it is skeleton or blueprint of class which might further used by any class"
      ],
      "metadata": {
        "id": "oebcyjix6UwN"
      }
    },
    {
      "cell_type": "code",
      "source": [
        "import abc\n",
        "class pwskills:\n",
        "\n",
        "  @abc.abstractmethod\n",
        "  def student_details(self):\n",
        "    pass\n",
        "\n",
        "  @abc.abstractmethod\n",
        "  def student_assignment(self):\n",
        "    pass\n",
        "\n",
        "  @abc.abstractmethod\n",
        "  def student_marks(self):\n",
        "    pass"
      ],
      "metadata": {
        "id": "H4TrYfkE6Gl3"
      },
      "execution_count": null,
      "outputs": []
    },
    {
      "cell_type": "code",
      "source": [
        "class student_details(pwskills):\n",
        "\n",
        "  def student_details(self):\n",
        "    return \"this is function of student details\"\n",
        "\n",
        "  def student_assignment(self):\n",
        "    return \"This is student assignment from student details\""
      ],
      "metadata": {
        "id": "noxmdag-8DNx"
      },
      "execution_count": null,
      "outputs": []
    },
    {
      "cell_type": "code",
      "source": [
        "class data_science_masters(pwskills):\n",
        "\n",
        "  def student_details(self):\n",
        "    return \"this will return a student for data science class\"\n",
        "\n",
        "  def student_assignment(self):\n",
        "    return \"this will give return a student assignment for data science master class\""
      ],
      "metadata": {
        "id": "9_dLZwqv8bb5"
      },
      "execution_count": null,
      "outputs": []
    },
    {
      "cell_type": "code",
      "source": [
        "dsm = data_science_masters()"
      ],
      "metadata": {
        "id": "d3DrsMBNC13h"
      },
      "execution_count": null,
      "outputs": []
    },
    {
      "cell_type": "code",
      "source": [
        "dsm.student_details()"
      ],
      "metadata": {
        "colab": {
          "base_uri": "https://localhost:8080/",
          "height": 36
        },
        "id": "S6ozdNamC64B",
        "outputId": "28e74fa9-7f9e-4a08-f9aa-c4987070f7c0"
      },
      "execution_count": null,
      "outputs": [
        {
          "output_type": "execute_result",
          "data": {
            "text/plain": [
              "'this will return a student for data science class'"
            ],
            "application/vnd.google.colaboratory.intrinsic+json": {
              "type": "string"
            }
          },
          "metadata": {},
          "execution_count": 69
        }
      ]
    },
    {
      "cell_type": "code",
      "source": [
        "dsm.student_assignment()"
      ],
      "metadata": {
        "colab": {
          "base_uri": "https://localhost:8080/",
          "height": 36
        },
        "id": "rNhqzQX0DBU1",
        "outputId": "889765ef-9dbb-4923-944d-6c64e6146078"
      },
      "execution_count": null,
      "outputs": [
        {
          "output_type": "execute_result",
          "data": {
            "text/plain": [
              "'this will give return a student assignment for data science master class'"
            ],
            "application/vnd.google.colaboratory.intrinsic+json": {
              "type": "string"
            }
          },
          "metadata": {},
          "execution_count": 70
        }
      ]
    },
    {
      "cell_type": "code",
      "source": [
        "dsm.student_marks() #we can call it but it is not function but present as syntax"
      ],
      "metadata": {
        "id": "voPaNLzsDDdu"
      },
      "execution_count": null,
      "outputs": []
    },
    {
      "cell_type": "code",
      "source": [
        "sd = student_details()"
      ],
      "metadata": {
        "id": "ajBFV5CRDFdc"
      },
      "execution_count": null,
      "outputs": []
    },
    {
      "cell_type": "code",
      "source": [
        "sd.student_marks()"
      ],
      "metadata": {
        "id": "h__qjig0DQia"
      },
      "execution_count": null,
      "outputs": []
    },
    {
      "cell_type": "code",
      "source": [
        "sd.student_details()"
      ],
      "metadata": {
        "colab": {
          "base_uri": "https://localhost:8080/",
          "height": 36
        },
        "id": "-bL1lmpADSNu",
        "outputId": "73f1d8d7-d38d-4b52-82bd-b5fbcd4e4cda"
      },
      "execution_count": null,
      "outputs": [
        {
          "output_type": "execute_result",
          "data": {
            "text/plain": [
              "'this is function of student details'"
            ],
            "application/vnd.google.colaboratory.intrinsic+json": {
              "type": "string"
            }
          },
          "metadata": {},
          "execution_count": 74
        }
      ]
    },
    {
      "cell_type": "code",
      "source": [
        "sd.student_assignment()"
      ],
      "metadata": {
        "colab": {
          "base_uri": "https://localhost:8080/",
          "height": 36
        },
        "id": "Qr_y4a3XDUNq",
        "outputId": "309330b9-caeb-460b-fa9f-369f7b9c2b5e"
      },
      "execution_count": null,
      "outputs": [
        {
          "output_type": "execute_result",
          "data": {
            "text/plain": [
              "'This is student assignment from student details'"
            ],
            "application/vnd.google.colaboratory.intrinsic+json": {
              "type": "string"
            }
          },
          "metadata": {},
          "execution_count": 75
        }
      ]
    },
    {
      "cell_type": "markdown",
      "source": [
        "## Decorator\n",
        "\n",
        "- used to decorate the code\n",
        "- stop the repeatation of code"
      ],
      "metadata": {
        "id": "xKg7-WaMDokM"
      }
    },
    {
      "cell_type": "code",
      "source": [
        " def deco(func):\n",
        "  def inner_dec():\n",
        "    print(\"This is start of function\")\n",
        "    func()\n",
        "    print(\"This is end of function\")\n",
        "  return inner_dec"
      ],
      "metadata": {
        "id": "31DlNOfaDWyh"
      },
      "execution_count": null,
      "outputs": []
    },
    {
      "cell_type": "code",
      "source": [
        "@deco #it used to link this function with decorate\n",
        "def test1():\n",
        "  print(3-4)"
      ],
      "metadata": {
        "id": "lp8Om6ROE7B_"
      },
      "execution_count": null,
      "outputs": []
    },
    {
      "cell_type": "code",
      "source": [
        "test1()"
      ],
      "metadata": {
        "colab": {
          "base_uri": "https://localhost:8080/"
        },
        "id": "vtam8_suFGSl",
        "outputId": "9e77da06-5436-4938-efaa-6e89ff204570"
      },
      "execution_count": null,
      "outputs": [
        {
          "output_type": "stream",
          "name": "stdout",
          "text": [
            "This is start of function\n",
            "-1\n",
            "This is end of function\n"
          ]
        }
      ]
    },
    {
      "cell_type": "code",
      "source": [
        " def deco(func):\n",
        "  def inner_dec():\n",
        "    func()\n",
        "    print(\"This is start of function\")\n",
        "    print(\"This is end of function\")\n",
        "    func()\n",
        "  return inner_dec"
      ],
      "metadata": {
        "id": "tHmbCrUZFIDq"
      },
      "execution_count": null,
      "outputs": []
    },
    {
      "cell_type": "code",
      "source": [
        "@deco\n",
        "def test2():\n",
        "  print(33-32)"
      ],
      "metadata": {
        "id": "ljQ6zfXOF2Uh"
      },
      "execution_count": null,
      "outputs": []
    },
    {
      "cell_type": "code",
      "source": [
        "test2()"
      ],
      "metadata": {
        "colab": {
          "base_uri": "https://localhost:8080/"
        },
        "id": "D0KMz6tRF8xe",
        "outputId": "0aab88f4-857b-4568-b54d-ee7de67456db"
      },
      "execution_count": null,
      "outputs": [
        {
          "output_type": "stream",
          "name": "stdout",
          "text": [
            "1\n",
            "This is start of function\n",
            "This is end of function\n",
            "1\n"
          ]
        }
      ]
    },
    {
      "cell_type": "code",
      "source": [
        "#to calculate the time required to run a code\n",
        "import time\n",
        "\n",
        "def timer_test(func):\n",
        "  def timer_test_inner():\n",
        "    start = time.time()\n",
        "    func()\n",
        "    end = time.time()\n",
        "    print(f\"Required time: {start-end}\")\n",
        "  return timer_test_inner"
      ],
      "metadata": {
        "id": "20DJyjjYF9sJ"
      },
      "execution_count": null,
      "outputs": []
    },
    {
      "cell_type": "code",
      "source": [
        "@timer_test\n",
        "def test2():\n",
        "  print(\"Just Loading the code\")"
      ],
      "metadata": {
        "id": "OCNhE_tuHK7N"
      },
      "execution_count": null,
      "outputs": []
    },
    {
      "cell_type": "code",
      "source": [
        "test2()"
      ],
      "metadata": {
        "colab": {
          "base_uri": "https://localhost:8080/"
        },
        "id": "Iq3eEsR6HXCg",
        "outputId": "86946186-228c-488d-dcad-8a79652c8b0b"
      },
      "execution_count": null,
      "outputs": [
        {
          "output_type": "stream",
          "name": "stdout",
          "text": [
            "Just Loading the code\n",
            "Required time: -0.0008749961853027344\n"
          ]
        }
      ]
    },
    {
      "cell_type": "code",
      "source": [
        "@timer_test\n",
        "def test():\n",
        "  for i in range(10000000):\n",
        "    pass"
      ],
      "metadata": {
        "id": "UdF1O1HhHX4Z"
      },
      "execution_count": null,
      "outputs": []
    },
    {
      "cell_type": "code",
      "source": [
        "test()"
      ],
      "metadata": {
        "colab": {
          "base_uri": "https://localhost:8080/"
        },
        "id": "FtR-6zFbHs0T",
        "outputId": "90ce7100-6b4e-4cbe-9156-dff1468af8cc"
      },
      "execution_count": null,
      "outputs": [
        {
          "output_type": "stream",
          "name": "stdout",
          "text": [
            "Required time: -0.23730206489562988\n"
          ]
        }
      ]
    },
    {
      "cell_type": "code",
      "source": [
        "test()"
      ],
      "metadata": {
        "colab": {
          "base_uri": "https://localhost:8080/"
        },
        "id": "L0P2svO6HuDe",
        "outputId": "5a0c0159-15d3-4902-d196-e3fee24bdc09"
      },
      "execution_count": null,
      "outputs": [
        {
          "output_type": "stream",
          "name": "stdout",
          "text": [
            "Required time: -0.24810218811035156\n"
          ]
        }
      ]
    },
    {
      "cell_type": "markdown",
      "source": [
        "## Class Method"
      ],
      "metadata": {
        "id": "i8ofZ8H5IXQw"
      }
    },
    {
      "cell_type": "code",
      "source": [
        "class pwskills:\n",
        "\n",
        "  def __init__(self, name, email):\n",
        "    self.name = name\n",
        "    self.email = email\n",
        "\n",
        "  def students_details(self):\n",
        "    print(self.name, self.email)"
      ],
      "metadata": {
        "id": "O-9h2n8QH4xi"
      },
      "execution_count": null,
      "outputs": []
    },
    {
      "cell_type": "code",
      "source": [
        "pw = pwskills(\"Mohan\", \"Mohan@x.com\")"
      ],
      "metadata": {
        "id": "cq1lXEGZJAKO"
      },
      "execution_count": null,
      "outputs": []
    },
    {
      "cell_type": "code",
      "source": [
        "pw.name"
      ],
      "metadata": {
        "colab": {
          "base_uri": "https://localhost:8080/",
          "height": 36
        },
        "id": "8q2WN0FwJE_o",
        "outputId": "d6642d6d-a1d7-4805-9f3a-345113831ed9"
      },
      "execution_count": null,
      "outputs": [
        {
          "output_type": "execute_result",
          "data": {
            "text/plain": [
              "'Mohan'"
            ],
            "application/vnd.google.colaboratory.intrinsic+json": {
              "type": "string"
            }
          },
          "metadata": {},
          "execution_count": 90
        }
      ]
    },
    {
      "cell_type": "code",
      "source": [
        "pw.email"
      ],
      "metadata": {
        "colab": {
          "base_uri": "https://localhost:8080/",
          "height": 36
        },
        "id": "2w7OWLyQJGl8",
        "outputId": "383caf09-8556-4a8a-d568-ba06f3cf9cfe"
      },
      "execution_count": null,
      "outputs": [
        {
          "output_type": "execute_result",
          "data": {
            "text/plain": [
              "'Mohan@x.com'"
            ],
            "application/vnd.google.colaboratory.intrinsic+json": {
              "type": "string"
            }
          },
          "metadata": {},
          "execution_count": 91
        }
      ]
    },
    {
      "cell_type": "code",
      "source": [
        "pw.students_details()"
      ],
      "metadata": {
        "colab": {
          "base_uri": "https://localhost:8080/"
        },
        "id": "LCTzCOPaJHrh",
        "outputId": "e47db1aa-7cae-42c4-aaaa-2d66501889bf"
      },
      "execution_count": null,
      "outputs": [
        {
          "output_type": "stream",
          "name": "stdout",
          "text": [
            "Mohan Mohan@x.com\n"
          ]
        }
      ]
    },
    {
      "cell_type": "code",
      "source": [
        "class pwskills1:\n",
        "\n",
        "  def __init__(self, name, email):\n",
        "    self.name = name\n",
        "    self.email = email\n",
        "\n",
        "## without creating a object we access the details\n",
        "## this def details takes input from user without using __init__ function\n",
        "  @classmethod ##it is default recall for classmethod\n",
        "  def details(cls, name, email):\n",
        "    return cls(name, email)\n",
        "\n",
        "  def students_details(self):\n",
        "    print(self.name, self.email)"
      ],
      "metadata": {
        "id": "7TVpW-ecJJ0H"
      },
      "execution_count": null,
      "outputs": []
    },
    {
      "cell_type": "code",
      "source": [
        "pw1 = pwskills1.details(\"sudh\", \"sudh@x.com\")"
      ],
      "metadata": {
        "id": "Kv1kQyGkKVn8"
      },
      "execution_count": null,
      "outputs": []
    },
    {
      "cell_type": "code",
      "source": [
        "pw1.email"
      ],
      "metadata": {
        "colab": {
          "base_uri": "https://localhost:8080/",
          "height": 36
        },
        "id": "MMJFS8BmKhcq",
        "outputId": "1d11d458-52a8-44f2-eca2-444da1aac885"
      },
      "execution_count": null,
      "outputs": [
        {
          "output_type": "execute_result",
          "data": {
            "text/plain": [
              "'sudh@x.com'"
            ],
            "application/vnd.google.colaboratory.intrinsic+json": {
              "type": "string"
            }
          },
          "metadata": {},
          "execution_count": 95
        }
      ]
    },
    {
      "cell_type": "code",
      "source": [
        "pw1.name"
      ],
      "metadata": {
        "colab": {
          "base_uri": "https://localhost:8080/",
          "height": 36
        },
        "id": "friEGNT2Kod7",
        "outputId": "7c201a7c-dbd2-4a3c-ac50-eceb19204046"
      },
      "execution_count": null,
      "outputs": [
        {
          "output_type": "execute_result",
          "data": {
            "text/plain": [
              "'sudh'"
            ],
            "application/vnd.google.colaboratory.intrinsic+json": {
              "type": "string"
            }
          },
          "metadata": {},
          "execution_count": 96
        }
      ]
    },
    {
      "cell_type": "code",
      "source": [
        "pw1.students_details()"
      ],
      "metadata": {
        "colab": {
          "base_uri": "https://localhost:8080/"
        },
        "id": "BUWaRl0_KqG0",
        "outputId": "516546e2-6e3a-4687-e2b7-656f23b14284"
      },
      "execution_count": null,
      "outputs": [
        {
          "output_type": "stream",
          "name": "stdout",
          "text": [
            "sudh sudh@x.com\n"
          ]
        }
      ]
    },
    {
      "cell_type": "code",
      "source": [
        "class pwskills2:\n",
        "\n",
        "  mobile_num = 9123456792\n",
        "\n",
        "  def __init__(self, name, email):\n",
        "    self.name = name\n",
        "    self.email = email\n",
        "\n",
        "#here we overload or not use __init__, we can run code without it\n",
        "  @classmethod\n",
        "  def change_number(cls, mobile):\n",
        "    pwskills2.mobile_num = mobile\n",
        "\n",
        "  @classmethod ##it is default recall for classmethod\n",
        "  def details(cls, name, email):\n",
        "    return cls(name, email)\n",
        "\n",
        "  def students_details(self):\n",
        "    print(self.name, self.email, self.mobile_num)"
      ],
      "metadata": {
        "id": "wTnaylOxKslR"
      },
      "execution_count": null,
      "outputs": []
    },
    {
      "cell_type": "code",
      "source": [
        "pwskills2.mobile_num"
      ],
      "metadata": {
        "colab": {
          "base_uri": "https://localhost:8080/"
        },
        "id": "YsaiVJSQM4Ks",
        "outputId": "08cdd201-ac30-412b-fc46-5e63109fa934"
      },
      "execution_count": null,
      "outputs": [
        {
          "output_type": "execute_result",
          "data": {
            "text/plain": [
              "9123456792"
            ]
          },
          "metadata": {},
          "execution_count": 99
        }
      ]
    },
    {
      "cell_type": "code",
      "source": [
        "pwskills2.change_number(93333024)"
      ],
      "metadata": {
        "id": "v82P1n7WM9qN"
      },
      "execution_count": null,
      "outputs": []
    },
    {
      "cell_type": "code",
      "source": [
        "pwskills2.mobile_num"
      ],
      "metadata": {
        "colab": {
          "base_uri": "https://localhost:8080/"
        },
        "id": "-RaYCFcXNFek",
        "outputId": "b92e0d74-3ec3-46f2-dca9-71d8edc8daed"
      },
      "execution_count": null,
      "outputs": [
        {
          "output_type": "execute_result",
          "data": {
            "text/plain": [
              "93333024"
            ]
          },
          "metadata": {},
          "execution_count": 101
        }
      ]
    },
    {
      "cell_type": "code",
      "source": [
        "pw_obj = pwskills2(\"Sudh\", \"sudh@x.com\")"
      ],
      "metadata": {
        "id": "-SMIZUJqNIHj"
      },
      "execution_count": null,
      "outputs": []
    },
    {
      "cell_type": "code",
      "source": [
        "pw_obj.students_details()"
      ],
      "metadata": {
        "colab": {
          "base_uri": "https://localhost:8080/"
        },
        "id": "AoNezxElNSF9",
        "outputId": "e0dd3bc5-75c4-4996-a5a0-9ca1601ed6b8"
      },
      "execution_count": null,
      "outputs": [
        {
          "output_type": "stream",
          "name": "stdout",
          "text": [
            "Sudh sudh@x.com 93333024\n"
          ]
        }
      ]
    },
    {
      "cell_type": "code",
      "source": [
        "pw = pwskills2.details(\"gaurav\", \"gaurav@x.com\")"
      ],
      "metadata": {
        "id": "ofj7WYXANVlm"
      },
      "execution_count": null,
      "outputs": []
    },
    {
      "cell_type": "code",
      "source": [
        "pw.students_details()"
      ],
      "metadata": {
        "colab": {
          "base_uri": "https://localhost:8080/"
        },
        "id": "JIFT1NInNjcw",
        "outputId": "663c57d5-b30d-4d3a-ff12-bebbaf02034f"
      },
      "execution_count": null,
      "outputs": [
        {
          "output_type": "stream",
          "name": "stdout",
          "text": [
            "gaurav gaurav@x.com 93333024\n"
          ]
        }
      ]
    },
    {
      "cell_type": "code",
      "source": [
        "## how to add external class into main class\n",
        "class pwskills3:\n",
        "\n",
        "  mobile_num = 9123456792\n",
        "\n",
        "  def __init__(self, name, email):\n",
        "    self.name = name\n",
        "    self.email = email\n",
        "\n",
        "#here we overload or not use __init__, we can run code without it\n",
        "  @classmethod\n",
        "  def change_number(cls, mobile):\n",
        "    pwskills2.mobile_num = mobile\n",
        "\n",
        "  @classmethod ##it is default recall for classmethod\n",
        "  def details(cls, name, email):\n",
        "    return cls(name, email)\n",
        "\n",
        "  def students_details(self):\n",
        "    print(self.name, self.email, self.mobile_num)"
      ],
      "metadata": {
        "id": "RAOYDiLyNkzR"
      },
      "execution_count": null,
      "outputs": []
    },
    {
      "cell_type": "code",
      "source": [
        "##external class\n",
        "def course_details(cls, course_name):\n",
        "  print(\"course name is\",course_name)"
      ],
      "metadata": {
        "id": "9tYStnFLTek7"
      },
      "execution_count": null,
      "outputs": []
    },
    {
      "cell_type": "code",
      "source": [
        "#here, classmethod combine the course_detail class with main pwskills3 class\n",
        "pwskills3.course_details = classmethod(course_details)"
      ],
      "metadata": {
        "id": "FjP3g06-UHCn"
      },
      "execution_count": null,
      "outputs": []
    },
    {
      "cell_type": "code",
      "source": [
        "pwskills3.course_details(\"Data science masters\")"
      ],
      "metadata": {
        "colab": {
          "base_uri": "https://localhost:8080/"
        },
        "id": "5JlB-2zsUO4c",
        "outputId": "40703833-311b-44c1-9d94-949b9fbbafb1"
      },
      "execution_count": null,
      "outputs": [
        {
          "output_type": "stream",
          "name": "stdout",
          "text": [
            "course name is Data science masters\n"
          ]
        }
      ]
    },
    {
      "cell_type": "code",
      "source": [
        "## again add some more classes\n",
        "def mentor(cls, list_of_mentors):\n",
        "  print(list_of_mentors)"
      ],
      "metadata": {
        "id": "4A_bGfp8UfVf"
      },
      "execution_count": null,
      "outputs": []
    },
    {
      "cell_type": "code",
      "source": [
        "pwskills3.mentors = classmethod(mentor)"
      ],
      "metadata": {
        "id": "7xhrnEy4VM3M"
      },
      "execution_count": null,
      "outputs": []
    },
    {
      "cell_type": "code",
      "source": [
        "pwskills3.mentors([\"Sudh\", \"Ram\"])"
      ],
      "metadata": {
        "colab": {
          "base_uri": "https://localhost:8080/"
        },
        "id": "j5h9GdGoVTPC",
        "outputId": "14b8ee88-8f50-450b-8e73-15f812400618"
      },
      "execution_count": null,
      "outputs": [
        {
          "output_type": "stream",
          "name": "stdout",
          "text": [
            "['Sudh', 'Ram']\n"
          ]
        }
      ]
    },
    {
      "cell_type": "code",
      "source": [
        "##To delete the function present in class\n",
        "class pwskills4:\n",
        "\n",
        "  mobile_num = 9123456792\n",
        "\n",
        "  def __init__(self, name, email):\n",
        "    self.name = name\n",
        "    self.email = email\n",
        "\n",
        "  @classmethod\n",
        "  def change_number(cls, mobile):\n",
        "    pwskills2.mobile_num = mobile\n",
        "\n",
        "  @classmethod ##it is default recall for classmethod\n",
        "  def details(cls, name, email):\n",
        "    return cls(name, email)\n",
        "\n",
        "  def students_details(self):\n",
        "    print(self.name, self.email, self.mobile_num)"
      ],
      "metadata": {
        "id": "Ndi1HeGzVb_1"
      },
      "execution_count": null,
      "outputs": []
    },
    {
      "cell_type": "code",
      "source": [
        "#to delete 'change_number' function from main class\n",
        "del pwskills4.change_number"
      ],
      "metadata": {
        "id": "--wUvTFVVs5r"
      },
      "execution_count": null,
      "outputs": []
    },
    {
      "cell_type": "code",
      "source": [
        "#try to call it for check it related or not\n",
        "pwskills.change_number(343)"
      ],
      "metadata": {
        "colab": {
          "base_uri": "https://localhost:8080/",
          "height": 158
        },
        "id": "ucZae9CbWMJB",
        "outputId": "9a972af9-452c-42c4-e50c-b8a6aafc62f3"
      },
      "execution_count": null,
      "outputs": [
        {
          "output_type": "error",
          "ename": "AttributeError",
          "evalue": "type object 'pwskills' has no attribute 'change_number'",
          "traceback": [
            "\u001b[0;31m---------------------------------------------------------------------------\u001b[0m",
            "\u001b[0;31mAttributeError\u001b[0m                            Traceback (most recent call last)",
            "\u001b[0;32m<ipython-input-115-b9fe40e48875>\u001b[0m in \u001b[0;36m<cell line: 2>\u001b[0;34m()\u001b[0m\n\u001b[1;32m      1\u001b[0m \u001b[0;31m#try to call it for check it related or not\u001b[0m\u001b[0;34m\u001b[0m\u001b[0;34m\u001b[0m\u001b[0m\n\u001b[0;32m----> 2\u001b[0;31m \u001b[0mpwskills\u001b[0m\u001b[0;34m.\u001b[0m\u001b[0mchange_number\u001b[0m\u001b[0;34m(\u001b[0m\u001b[0;36m343\u001b[0m\u001b[0;34m)\u001b[0m\u001b[0;34m\u001b[0m\u001b[0;34m\u001b[0m\u001b[0m\n\u001b[0m",
            "\u001b[0;31mAttributeError\u001b[0m: type object 'pwskills' has no attribute 'change_number'"
          ]
        }
      ]
    },
    {
      "cell_type": "code",
      "source": [
        "#another way of delete a function\n",
        "delattr(pwskills4, \"details\")"
      ],
      "metadata": {
        "id": "0DVT-xGHWULf"
      },
      "execution_count": null,
      "outputs": []
    },
    {
      "cell_type": "code",
      "source": [
        "pwskills4.details"
      ],
      "metadata": {
        "colab": {
          "base_uri": "https://localhost:8080/",
          "height": 103
        },
        "id": "uou7txPJW7Kh",
        "outputId": "0cf6dbf1-2b9c-4a99-fd32-a39bea5140c5"
      },
      "execution_count": null,
      "outputs": [
        {
          "output_type": "execute_result",
          "data": {
            "text/plain": [
              "<bound method pwskills4.details of <class '__main__.pwskills4'>>"
            ],
            "text/html": [
              "<div style=\"max-width:800px; border: 1px solid var(--colab-border-color);\"><style>\n",
              "      pre.function-repr-contents {\n",
              "        overflow-x: auto;\n",
              "        padding: 8px 12px;\n",
              "        max-height: 500px;\n",
              "      }\n",
              "\n",
              "      pre.function-repr-contents.function-repr-contents-collapsed {\n",
              "        cursor: pointer;\n",
              "        max-height: 100px;\n",
              "      }\n",
              "    </style>\n",
              "    <pre style=\"white-space: initial; background:\n",
              "         var(--colab-secondary-surface-color); padding: 8px 12px;\n",
              "         border-bottom: 1px solid var(--colab-border-color);\"><b>pwskills4.details</b><br/>def details(cls, name, email)</pre><pre class=\"function-repr-contents function-repr-contents-collapsed\" style=\"\"><a class=\"filepath\" style=\"display:none\" href=\"#\">/content/&lt;ipython-input-113-9c503b3186b8&gt;</a>&lt;no docstring&gt;</pre></div>"
            ]
          },
          "metadata": {},
          "execution_count": 116
        }
      ]
    },
    {
      "cell_type": "code",
      "source": [
        "pwskills4.mobile_num"
      ],
      "metadata": {
        "colab": {
          "base_uri": "https://localhost:8080/"
        },
        "id": "We_E9yq4XAuT",
        "outputId": "77fb9b4c-b8cb-44bf-f1e2-7a268390242f"
      },
      "execution_count": null,
      "outputs": [
        {
          "output_type": "execute_result",
          "data": {
            "text/plain": [
              "9123456792"
            ]
          },
          "metadata": {},
          "execution_count": 117
        }
      ]
    },
    {
      "cell_type": "markdown",
      "source": [
        "## Static Method\n",
        "\n",
        "- it's used to save the memory for rerun and recall the same function number of times\n",
        "- it is common for all the fuctions passes from the class\n",
        "- instead of repeating the function we used static for all."
      ],
      "metadata": {
        "id": "k2lExP6sXXkJ"
      }
    },
    {
      "cell_type": "code",
      "source": [
        "class pwskills1:\n",
        "  def student_details(self, name, mail_id, number):\n",
        "    print(name, mail_id, number)\n",
        "\n",
        "#this is static, which is common for all the functions and call without creating the object\n",
        "  @staticmethod\n",
        "  def mentor_class(list_mentor):\n",
        "    print(list_mentor)\n",
        "\n",
        "  def mentor(self, mentor_list):\n",
        "    print(mentor_list)"
      ],
      "metadata": {
        "id": "q8ZJAvkGY38x"
      },
      "execution_count": null,
      "outputs": []
    },
    {
      "cell_type": "code",
      "source": [
        "pwskills1.mentor_class([\"sudh\", \"krish\"])"
      ],
      "metadata": {
        "colab": {
          "base_uri": "https://localhost:8080/"
        },
        "id": "L3IWOhb7XZRF",
        "outputId": "14e8e772-8e72-4203-f24c-746d14017675"
      },
      "execution_count": null,
      "outputs": [
        {
          "output_type": "stream",
          "name": "stdout",
          "text": [
            "['sudh', 'krish']\n"
          ]
        }
      ]
    },
    {
      "cell_type": "code",
      "source": [
        "##calling the staticmethod from classmethod\n",
        "class pwskills2:\n",
        "  def student_details(self, name, mail_id, number):\n",
        "    print(name, mail_id, number)\n",
        "\n",
        "  @staticmethod\n",
        "  def mentor_class(list_mentor):\n",
        "    print(list_mentor)\n",
        "\n",
        "  @classmethod\n",
        "  def class_name(cls): #cls act as class_name i.e pwskills1\n",
        "    cls.mentor_class([\"sudh\", \"ram\"])\n",
        "  def mentor(self, mentor_list):\n",
        "    print(mentor_list)"
      ],
      "metadata": {
        "id": "GQhNZ7JEZhN2"
      },
      "execution_count": null,
      "outputs": []
    },
    {
      "cell_type": "code",
      "source": [
        "pwskills2.class_name() #classmethod"
      ],
      "metadata": {
        "colab": {
          "base_uri": "https://localhost:8080/"
        },
        "id": "_QLAap0RerVJ",
        "outputId": "efaa5aae-3bc3-4a99-a51d-2a6d1ac9ba27"
      },
      "execution_count": null,
      "outputs": [
        {
          "output_type": "stream",
          "name": "stdout",
          "text": [
            "['sudh', 'ram']\n"
          ]
        }
      ]
    },
    {
      "cell_type": "code",
      "source": [
        "#calling one staticmethod into second staticmethod\n",
        "class pwskills3:\n",
        "  def student_details(self, name, mail_id, number):\n",
        "    print(name, mail_id, number)\n",
        "\n",
        "  @staticmethod\n",
        "  def mentor_mail_id(mail_id_mentor):\n",
        "    print(mail_id_mentor)\n",
        "\n",
        "  @staticmethod\n",
        "  def mentor_class(list_mentor):\n",
        "    pwskills3.mentor_mail_id([\"sudh@x.com\", \"yash@x.com\"])\n",
        "    print(list_mentor)\n",
        "\n",
        "  @classmethod\n",
        "  def class_name(cls): #cls act as class_name i.e pwskills1\n",
        "    cls.mentor_class([\"sudh\", \"yash\"])\n",
        "\n",
        "#instance method\n",
        "  def mentor(self, mentor_list):\n",
        "    print(mentor_list)\n",
        "    self.mentor_class([\"gaurav\", \"rohan\"])"
      ],
      "metadata": {
        "id": "7YIMnXQKfUFg"
      },
      "execution_count": null,
      "outputs": []
    },
    {
      "cell_type": "code",
      "source": [
        "pwskills3.mentor_class([\"sudh\", \"yash\"])"
      ],
      "metadata": {
        "colab": {
          "base_uri": "https://localhost:8080/"
        },
        "id": "iFKPW3vDgYkR",
        "outputId": "e6eb3c12-a618-4a19-ba18-2dea6c1e2cd8"
      },
      "execution_count": null,
      "outputs": [
        {
          "output_type": "stream",
          "name": "stdout",
          "text": [
            "['sudh@x.com', 'yash@x.com']\n",
            "['sudh', 'yash']\n"
          ]
        }
      ]
    },
    {
      "cell_type": "code",
      "source": [
        "pw = pwskills3()"
      ],
      "metadata": {
        "id": "01SL6ZKcghA0"
      },
      "execution_count": null,
      "outputs": []
    },
    {
      "cell_type": "code",
      "source": [
        "pw.mentor([\"krish\", \"sudh\"])"
      ],
      "metadata": {
        "colab": {
          "base_uri": "https://localhost:8080/"
        },
        "id": "sKypvQWWhlTC",
        "outputId": "808ee0ff-759b-496d-c6db-f07f589539cc"
      },
      "execution_count": null,
      "outputs": [
        {
          "output_type": "stream",
          "name": "stdout",
          "text": [
            "['krish', 'sudh']\n",
            "['sudh@x.com', 'yash@x.com']\n",
            "['gaurav', 'rohan']\n"
          ]
        }
      ]
    },
    {
      "cell_type": "markdown",
      "source": [
        "## Special Method(Dunder Method)\n",
        "Dunder method - \"_ __ _function___ _\""
      ],
      "metadata": {
        "id": "SzKc5M6ajqJt"
      }
    },
    {
      "cell_type": "code",
      "source": [
        "#we don't use dunder method or special magic method directly\n",
        "##it is used in build by all predefined functions"
      ],
      "metadata": {
        "id": "mQQsTgXIhnng"
      },
      "execution_count": null,
      "outputs": []
    },
    {
      "cell_type": "markdown",
      "source": [
        "## Property Decorator"
      ],
      "metadata": {
        "id": "fiV7KMGjO4uP"
      }
    },
    {
      "cell_type": "code",
      "source": [
        "##to give user acceess of decorator function which are hide from the user\n",
        "class pwskills:\n",
        "\n",
        "  def __init__(self, course_price, course_name):\n",
        "    self.__course_price = course_price\n",
        "    self.course_name = course_name\n",
        "\n",
        "  @property\n",
        "  #had given the access to user with new function\n",
        "  def course_price_access(self):\n",
        "    return self.__course_price\n",
        "\n",
        "  @course_price_access.setter\n",
        "  #had given access to modified the function\n",
        "  def course_price_set(self, price):\n",
        "    if price <= 3500:\n",
        "      pass\n",
        "    else:\n",
        "      self.__course_price = price\n",
        "\n",
        "  @course_price_access.deleter\n",
        "  #given access to user to delete the function\n",
        "  def delete_course_price(self):\n",
        "    del self.__course_price"
      ],
      "metadata": {
        "id": "AH7CWwXLO5Vf"
      },
      "execution_count": null,
      "outputs": []
    },
    {
      "cell_type": "code",
      "source": [
        "pwskills.course_price_access"
      ],
      "metadata": {
        "colab": {
          "base_uri": "https://localhost:8080/"
        },
        "id": "7ke8G91sR7Op",
        "outputId": "e8fd635e-f13e-493b-c0c2-4345cbab71c6"
      },
      "execution_count": null,
      "outputs": [
        {
          "output_type": "execute_result",
          "data": {
            "text/plain": [
              "<property at 0x7c2588359c10>"
            ]
          },
          "metadata": {},
          "execution_count": 134
        }
      ]
    },
    {
      "cell_type": "code",
      "source": [
        "pw = pwskills(4000, \"GATE\")"
      ],
      "metadata": {
        "id": "ZZDcZbakSAyI"
      },
      "execution_count": null,
      "outputs": []
    },
    {
      "cell_type": "code",
      "source": [
        "pw.course_price_access"
      ],
      "metadata": {
        "colab": {
          "base_uri": "https://localhost:8080/"
        },
        "id": "aJAVvFdRSGBb",
        "outputId": "8d55cf5c-637b-4c55-fb41-19ed34789aa4"
      },
      "execution_count": null,
      "outputs": [
        {
          "output_type": "execute_result",
          "data": {
            "text/plain": [
              "4000"
            ]
          },
          "metadata": {},
          "execution_count": 136
        }
      ]
    },
    {
      "cell_type": "code",
      "source": [
        "pw.course_price_set = 5000"
      ],
      "metadata": {
        "id": "HresEFuYSVBh"
      },
      "execution_count": null,
      "outputs": []
    },
    {
      "cell_type": "code",
      "source": [
        "pw.course_price_access"
      ],
      "metadata": {
        "colab": {
          "base_uri": "https://localhost:8080/"
        },
        "id": "Lw57G_qJSlaG",
        "outputId": "9bc497d4-e06c-41ad-ade2-6e0fcf0c50f8"
      },
      "execution_count": null,
      "outputs": [
        {
          "output_type": "execute_result",
          "data": {
            "text/plain": [
              "5000"
            ]
          },
          "metadata": {},
          "execution_count": 139
        }
      ]
    },
    {
      "cell_type": "code",
      "source": [
        "pw.course_price_set = 2000 #this code pass, as price is less thatn 3500"
      ],
      "metadata": {
        "id": "XChgXZGaSxff"
      },
      "execution_count": null,
      "outputs": []
    },
    {
      "cell_type": "code",
      "source": [
        "pw.course_price_access"
      ],
      "metadata": {
        "colab": {
          "base_uri": "https://localhost:8080/"
        },
        "id": "dbhPyHgRS0ic",
        "outputId": "4b721e32-bb6e-4e17-bf2c-9f1d2284b14b"
      },
      "execution_count": null,
      "outputs": [
        {
          "output_type": "execute_result",
          "data": {
            "text/plain": [
              "5000"
            ]
          },
          "metadata": {},
          "execution_count": 141
        }
      ]
    },
    {
      "cell_type": "code",
      "source": [
        "del pw.delete_course_price"
      ],
      "metadata": {
        "id": "iGXWENOYS3Cp"
      },
      "execution_count": null,
      "outputs": []
    },
    {
      "cell_type": "code",
      "source": [
        "pw.course_price_access ##course_price_access had'n deleted by del"
      ],
      "metadata": {
        "colab": {
          "base_uri": "https://localhost:8080/",
          "height": 263
        },
        "id": "YA3GGPwZTVJT",
        "outputId": "6835cb5a-a2fe-40e8-e64d-2f954a807fc1"
      },
      "execution_count": null,
      "outputs": [
        {
          "output_type": "error",
          "ename": "AttributeError",
          "evalue": "'pwskills' object has no attribute '_pwskills__course_price'",
          "traceback": [
            "\u001b[0;31m---------------------------------------------------------------------------\u001b[0m",
            "\u001b[0;31mAttributeError\u001b[0m                            Traceback (most recent call last)",
            "\u001b[0;32m<ipython-input-143-605ce0d9a072>\u001b[0m in \u001b[0;36m<cell line: 1>\u001b[0;34m()\u001b[0m\n\u001b[0;32m----> 1\u001b[0;31m \u001b[0mpw\u001b[0m\u001b[0;34m.\u001b[0m\u001b[0mcourse_price_access\u001b[0m\u001b[0;34m\u001b[0m\u001b[0;34m\u001b[0m\u001b[0m\n\u001b[0m",
            "\u001b[0;32m<ipython-input-132-e6ea4f6afba1>\u001b[0m in \u001b[0;36mcourse_price_access\u001b[0;34m(self)\u001b[0m\n\u001b[1;32m      9\u001b[0m   \u001b[0;31m#had given the access to user with new function\u001b[0m\u001b[0;34m\u001b[0m\u001b[0;34m\u001b[0m\u001b[0m\n\u001b[1;32m     10\u001b[0m   \u001b[0;32mdef\u001b[0m \u001b[0mcourse_price_access\u001b[0m\u001b[0;34m(\u001b[0m\u001b[0mself\u001b[0m\u001b[0;34m)\u001b[0m\u001b[0;34m:\u001b[0m\u001b[0;34m\u001b[0m\u001b[0;34m\u001b[0m\u001b[0m\n\u001b[0;32m---> 11\u001b[0;31m     \u001b[0;32mreturn\u001b[0m \u001b[0mself\u001b[0m\u001b[0;34m.\u001b[0m\u001b[0m__course_price\u001b[0m\u001b[0;34m\u001b[0m\u001b[0;34m\u001b[0m\u001b[0m\n\u001b[0m\u001b[1;32m     12\u001b[0m \u001b[0;34m\u001b[0m\u001b[0m\n\u001b[1;32m     13\u001b[0m   \u001b[0;34m@\u001b[0m\u001b[0mcourse_price_access\u001b[0m\u001b[0;34m.\u001b[0m\u001b[0msetter\u001b[0m\u001b[0;34m\u001b[0m\u001b[0;34m\u001b[0m\u001b[0m\n",
            "\u001b[0;31mAttributeError\u001b[0m: 'pwskills' object has no attribute '_pwskills__course_price'"
          ]
        }
      ]
    },
    {
      "cell_type": "code",
      "source": [
        "pw.course_name"
      ],
      "metadata": {
        "colab": {
          "base_uri": "https://localhost:8080/",
          "height": 36
        },
        "id": "wECnH7k3TW9G",
        "outputId": "04fc43e8-4317-4e51-abf5-420ca36410ee"
      },
      "execution_count": null,
      "outputs": [
        {
          "output_type": "execute_result",
          "data": {
            "text/plain": [
              "'GATE'"
            ],
            "application/vnd.google.colaboratory.intrinsic+json": {
              "type": "string"
            }
          },
          "metadata": {},
          "execution_count": 144
        }
      ]
    }
  ]
}