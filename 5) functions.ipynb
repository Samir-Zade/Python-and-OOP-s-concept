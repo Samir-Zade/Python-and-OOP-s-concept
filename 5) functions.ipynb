{
  "nbformat": 4,
  "nbformat_minor": 0,
  "metadata": {
    "colab": {
      "provenance": []
    },
    "kernelspec": {
      "name": "python3",
      "display_name": "Python 3"
    },
    "language_info": {
      "name": "python"
    }
  },
  "cells": [
    {
      "cell_type": "code",
      "execution_count": 6,
      "metadata": {
        "id": "OzbuF9KKWTO_"
      },
      "outputs": [],
      "source": [
        "#way to create the function\n",
        "def test():\n",
        "  print(\"This is first function\")"
      ]
    },
    {
      "cell_type": "code",
      "source": [
        "test()"
      ],
      "metadata": {
        "colab": {
          "base_uri": "https://localhost:8080/"
        },
        "id": "DkK38zqIW2j_",
        "outputId": "9fadeef3-5927-4bd1-ef1a-671312ace0dc"
      },
      "execution_count": 7,
      "outputs": [
        {
          "output_type": "stream",
          "name": "stdout",
          "text": [
            "This is first function\n"
          ]
        }
      ]
    },
    {
      "cell_type": "code",
      "source": [
        " test() + \"sudh\" #can't add the function with str value"
      ],
      "metadata": {
        "colab": {
          "base_uri": "https://localhost:8080/",
          "height": 158
        },
        "id": "__I8ElU1W5Mi",
        "outputId": "ddf0f3db-fe4a-45e0-dd70-fcd8d02e5710"
      },
      "execution_count": 8,
      "outputs": [
        {
          "output_type": "stream",
          "name": "stdout",
          "text": [
            "This is first function\n"
          ]
        },
        {
          "output_type": "error",
          "ename": "TypeError",
          "evalue": "unsupported operand type(s) for +: 'NoneType' and 'str'",
          "traceback": [
            "\u001b[0;31m---------------------------------------------------------------------------\u001b[0m",
            "\u001b[0;31mTypeError\u001b[0m                                 Traceback (most recent call last)",
            "\u001b[0;32m<ipython-input-8-6221d056f015>\u001b[0m in \u001b[0;36m<cell line: 1>\u001b[0;34m()\u001b[0m\n\u001b[0;32m----> 1\u001b[0;31m \u001b[0mtest\u001b[0m\u001b[0;34m(\u001b[0m\u001b[0;34m)\u001b[0m \u001b[0;34m+\u001b[0m \u001b[0;34m\"sudh\"\u001b[0m \u001b[0;31m#can't add the function with str value\u001b[0m\u001b[0;34m\u001b[0m\u001b[0;34m\u001b[0m\u001b[0m\n\u001b[0m",
            "\u001b[0;31mTypeError\u001b[0m: unsupported operand type(s) for +: 'NoneType' and 'str'"
          ]
        }
      ]
    },
    {
      "cell_type": "code",
      "source": [
        "def test1():\n",
        "  return \"this is return value\""
      ],
      "metadata": {
        "id": "HyYgWTvuXTiz"
      },
      "execution_count": 9,
      "outputs": []
    },
    {
      "cell_type": "code",
      "source": [
        "test1() + \" from here\" #with return value"
      ],
      "metadata": {
        "colab": {
          "base_uri": "https://localhost:8080/",
          "height": 35
        },
        "id": "kn8JOM2RXZ0J",
        "outputId": "a1dcf5fe-4d68-44b0-da22-0fde55a62eaa"
      },
      "execution_count": 10,
      "outputs": [
        {
          "output_type": "execute_result",
          "data": {
            "text/plain": [
              "'this is return value from here'"
            ],
            "application/vnd.google.colaboratory.intrinsic+json": {
              "type": "string"
            }
          },
          "metadata": {},
          "execution_count": 10
        }
      ]
    },
    {
      "cell_type": "code",
      "source": [
        "def test3():\n",
        "  return \"sudh\", 43, 66.664, [1, 2, 3, 4], {\"d\":4, \"i\":5}"
      ],
      "metadata": {
        "id": "XW-mEPWZXcs6"
      },
      "execution_count": 11,
      "outputs": []
    },
    {
      "cell_type": "code",
      "source": [
        "test3()"
      ],
      "metadata": {
        "colab": {
          "base_uri": "https://localhost:8080/"
        },
        "id": "7zue-GC6X6Hn",
        "outputId": "82f5a274-f8f7-43d2-d602-ae93b136d81c"
      },
      "execution_count": 12,
      "outputs": [
        {
          "output_type": "execute_result",
          "data": {
            "text/plain": [
              "('sudh', 43, 66.664, [1, 2, 3, 4], {'d': 4, 'i': 5})"
            ]
          },
          "metadata": {},
          "execution_count": 12
        }
      ]
    },
    {
      "cell_type": "code",
      "source": [
        "#converted it into each variable\n",
        "a, b, c, d, e = test3()"
      ],
      "metadata": {
        "id": "kkaz-oo8X7V5"
      },
      "execution_count": 13,
      "outputs": []
    },
    {
      "cell_type": "code",
      "source": [
        "a"
      ],
      "metadata": {
        "colab": {
          "base_uri": "https://localhost:8080/",
          "height": 35
        },
        "id": "QnMIaG8iYKUW",
        "outputId": "413a242c-a8cf-442a-ebc3-6a9c36734c6b"
      },
      "execution_count": 14,
      "outputs": [
        {
          "output_type": "execute_result",
          "data": {
            "text/plain": [
              "'sudh'"
            ],
            "application/vnd.google.colaboratory.intrinsic+json": {
              "type": "string"
            }
          },
          "metadata": {},
          "execution_count": 14
        }
      ]
    },
    {
      "cell_type": "code",
      "source": [
        "b"
      ],
      "metadata": {
        "colab": {
          "base_uri": "https://localhost:8080/"
        },
        "id": "5zj_tE4JYLVH",
        "outputId": "0ab935b2-bfc2-4d7b-d2b4-cfcbac582bef"
      },
      "execution_count": 15,
      "outputs": [
        {
          "output_type": "execute_result",
          "data": {
            "text/plain": [
              "43"
            ]
          },
          "metadata": {},
          "execution_count": 15
        }
      ]
    },
    {
      "cell_type": "code",
      "source": [
        "c"
      ],
      "metadata": {
        "colab": {
          "base_uri": "https://localhost:8080/"
        },
        "id": "Buhe8AB0YMGw",
        "outputId": "4a5eaa9d-ab56-4bf2-e968-1b3e9efc1b65"
      },
      "execution_count": 16,
      "outputs": [
        {
          "output_type": "execute_result",
          "data": {
            "text/plain": [
              "66.664"
            ]
          },
          "metadata": {},
          "execution_count": 16
        }
      ]
    },
    {
      "cell_type": "code",
      "source": [
        "d"
      ],
      "metadata": {
        "colab": {
          "base_uri": "https://localhost:8080/"
        },
        "id": "USXEE6PmYNY4",
        "outputId": "f0297bb4-4435-4980-81b5-5c5a3a1d7a85"
      },
      "execution_count": 17,
      "outputs": [
        {
          "output_type": "execute_result",
          "data": {
            "text/plain": [
              "[1, 2, 3, 4]"
            ]
          },
          "metadata": {},
          "execution_count": 17
        }
      ]
    },
    {
      "cell_type": "code",
      "source": [
        "e"
      ],
      "metadata": {
        "colab": {
          "base_uri": "https://localhost:8080/"
        },
        "id": "Yv717DzPYOA9",
        "outputId": "b481a2c4-4925-4d2f-8c29-b83d439003c6"
      },
      "execution_count": 18,
      "outputs": [
        {
          "output_type": "execute_result",
          "data": {
            "text/plain": [
              "{'d': 4, 'i': 5}"
            ]
          },
          "metadata": {},
          "execution_count": 18
        }
      ]
    },
    {
      "cell_type": "code",
      "source": [
        "def test4():\n",
        "  a = 5/6+4\n",
        "  return a"
      ],
      "metadata": {
        "id": "bJDaibwqYPTG"
      },
      "execution_count": 19,
      "outputs": []
    },
    {
      "cell_type": "code",
      "source": [
        "test4()"
      ],
      "metadata": {
        "colab": {
          "base_uri": "https://localhost:8080/"
        },
        "id": "cbOOjoCcZEEJ",
        "outputId": "2c2566a6-2595-4519-e596-cee4f9c180da"
      },
      "execution_count": 20,
      "outputs": [
        {
          "output_type": "execute_result",
          "data": {
            "text/plain": [
              "4.833333333333333"
            ]
          },
          "metadata": {},
          "execution_count": 20
        }
      ]
    },
    {
      "cell_type": "code",
      "source": [
        "def test5(a, b, c):\n",
        "  d = a/b+c\n",
        "  return d"
      ],
      "metadata": {
        "id": "fefOrE_cZFSb"
      },
      "execution_count": 21,
      "outputs": []
    },
    {
      "cell_type": "code",
      "source": [
        "test5(5, 6, 7)"
      ],
      "metadata": {
        "colab": {
          "base_uri": "https://localhost:8080/"
        },
        "id": "Yog1ObU7ZOU9",
        "outputId": "ce6d3ab3-2a56-40e0-9240-5949cfd12aeb"
      },
      "execution_count": 22,
      "outputs": [
        {
          "output_type": "execute_result",
          "data": {
            "text/plain": [
              "7.833333333333333"
            ]
          },
          "metadata": {},
          "execution_count": 22
        }
      ]
    },
    {
      "cell_type": "code",
      "source": [
        "def test6(a, b):\n",
        "  return a+b"
      ],
      "metadata": {
        "id": "N1dPEItcZbC2"
      },
      "execution_count": 23,
      "outputs": []
    },
    {
      "cell_type": "code",
      "source": [
        "test6(4, 5)"
      ],
      "metadata": {
        "colab": {
          "base_uri": "https://localhost:8080/"
        },
        "id": "P90txs_OZqqO",
        "outputId": "c76f3744-71d1-4c73-d3e4-722fa74f6779"
      },
      "execution_count": 24,
      "outputs": [
        {
          "output_type": "execute_result",
          "data": {
            "text/plain": [
              "9"
            ]
          },
          "metadata": {},
          "execution_count": 24
        }
      ]
    },
    {
      "cell_type": "code",
      "source": [
        "test6(\"lenovo\", \" laptop\")"
      ],
      "metadata": {
        "colab": {
          "base_uri": "https://localhost:8080/",
          "height": 35
        },
        "id": "q7MTvl0TZshz",
        "outputId": "654e2782-d2a1-4974-9303-2d9cb70a9077"
      },
      "execution_count": 25,
      "outputs": [
        {
          "output_type": "execute_result",
          "data": {
            "text/plain": [
              "'lenovo laptop'"
            ],
            "application/vnd.google.colaboratory.intrinsic+json": {
              "type": "string"
            }
          },
          "metadata": {},
          "execution_count": 25
        }
      ]
    },
    {
      "cell_type": "code",
      "source": [
        "l = [1, 2, 3, 4, \"june\", \"july\", [1, 2, 3, 4, 5, 6]]"
      ],
      "metadata": {
        "id": "k7slJyxEZxGk"
      },
      "execution_count": 26,
      "outputs": []
    },
    {
      "cell_type": "code",
      "source": [
        "#Normal way to find the elements which are (int or float)\n",
        "l1 = []\n",
        "for i in l:\n",
        "  if type(i) == int or type(i) == float:\n",
        "    l1.append(i)"
      ],
      "metadata": {
        "id": "8WN4M8M3Z9h1"
      },
      "execution_count": 27,
      "outputs": []
    },
    {
      "cell_type": "code",
      "source": [
        "l1"
      ],
      "metadata": {
        "colab": {
          "base_uri": "https://localhost:8080/"
        },
        "id": "3L-o-RpXaWZX",
        "outputId": "1f99430b-2ffe-472b-f90d-7a6b971af5ba"
      },
      "execution_count": 28,
      "outputs": [
        {
          "output_type": "execute_result",
          "data": {
            "text/plain": [
              "[1, 2, 3, 4]"
            ]
          },
          "metadata": {},
          "execution_count": 28
        }
      ]
    },
    {
      "cell_type": "code",
      "source": [
        "#this function can further used for another work - way to find the elements which are (int or float)\n",
        "def test7(l):\n",
        "  l1 = []\n",
        "  for i in l:\n",
        "    if type(i) == int or type(i) == float:\n",
        "      l1.append(i)\n",
        "  return l1"
      ],
      "metadata": {
        "id": "hT_MCz4haXe9"
      },
      "execution_count": 29,
      "outputs": []
    },
    {
      "cell_type": "code",
      "source": [
        "test7(l)"
      ],
      "metadata": {
        "colab": {
          "base_uri": "https://localhost:8080/"
        },
        "id": "74ugIZ4CagFB",
        "outputId": "f9fe491c-590e-4239-9c62-698831ff68a9"
      },
      "execution_count": 30,
      "outputs": [
        {
          "output_type": "execute_result",
          "data": {
            "text/plain": [
              "[1, 2, 3, 4]"
            ]
          },
          "metadata": {},
          "execution_count": 30
        }
      ]
    },
    {
      "cell_type": "code",
      "source": [
        "l22 = [1, 2, 3, 4, \"june\", \"july\", [1, 2, 3, 4, 5, 6, \"ram\", \"shyam\"]]"
      ],
      "metadata": {
        "id": "bLkp7_vKc1-R"
      },
      "execution_count": 31,
      "outputs": []
    },
    {
      "cell_type": "code",
      "source": [
        "## appending the all number from list\n",
        "def test8(a):\n",
        "  \"\"\"this is function of extract data from list\"\"\"\n",
        "  l = []\n",
        "  for i in a:\n",
        "    if type(i) == list:\n",
        "      for j in i:\n",
        "        if type(j) == int or type(j) == float:\n",
        "          l.append(j)\n",
        "    else:\n",
        "      if type(i) == int or type(i) == float:\n",
        "        l.append(i)\n",
        "  return l"
      ],
      "metadata": {
        "id": "w1k3bHYlahWG"
      },
      "execution_count": 32,
      "outputs": []
    },
    {
      "cell_type": "code",
      "source": [
        "test8(l22)"
      ],
      "metadata": {
        "colab": {
          "base_uri": "https://localhost:8080/"
        },
        "id": "E5phwZd6c6dT",
        "outputId": "1960cd6c-03b1-4563-a15a-53a2ffd1c93c"
      },
      "execution_count": 33,
      "outputs": [
        {
          "output_type": "execute_result",
          "data": {
            "text/plain": [
              "[1, 2, 3, 4, 1, 2, 3, 4, 5, 6]"
            ]
          },
          "metadata": {},
          "execution_count": 33
        }
      ]
    },
    {
      "cell_type": "code",
      "source": [
        "#*args allow a function to take any number of positional arguments.\n",
        "def test(*args): #to get input in tuple format\n",
        "  return args"
      ],
      "metadata": {
        "id": "NUB4cr1gdA46"
      },
      "execution_count": 34,
      "outputs": []
    },
    {
      "cell_type": "code",
      "source": [
        "test(1, 2, 3, 4)"
      ],
      "metadata": {
        "colab": {
          "base_uri": "https://localhost:8080/"
        },
        "id": "S45-I9scc2SH",
        "outputId": "6e6a6b3c-a577-41d1-9d8d-dcf589863a12"
      },
      "execution_count": 35,
      "outputs": [
        {
          "output_type": "execute_result",
          "data": {
            "text/plain": [
              "(1, 2, 3, 4)"
            ]
          },
          "metadata": {},
          "execution_count": 35
        }
      ]
    },
    {
      "cell_type": "code",
      "source": [
        "test()"
      ],
      "metadata": {
        "colab": {
          "base_uri": "https://localhost:8080/"
        },
        "id": "4lVOtIUWc67U",
        "outputId": "a828a9e4-c77a-4930-ab03-9c3ae01fe915"
      },
      "execution_count": 36,
      "outputs": [
        {
          "output_type": "execute_result",
          "data": {
            "text/plain": [
              "()"
            ]
          },
          "metadata": {},
          "execution_count": 36
        }
      ]
    },
    {
      "cell_type": "code",
      "source": [
        "test(1, 2, 3, 4, [1, 2, 3, 4], \"acer\", \"laptop\")"
      ],
      "metadata": {
        "colab": {
          "base_uri": "https://localhost:8080/"
        },
        "id": "nFxs7L91c8Ww",
        "outputId": "c1b965fd-cf3a-413d-860c-d39d7384860d"
      },
      "execution_count": 37,
      "outputs": [
        {
          "output_type": "execute_result",
          "data": {
            "text/plain": [
              "(1, 2, 3, 4, [1, 2, 3, 4], 'acer', 'laptop')"
            ]
          },
          "metadata": {},
          "execution_count": 37
        }
      ]
    },
    {
      "cell_type": "code",
      "source": [
        "def test2(*acer):\n",
        "  return acer"
      ],
      "metadata": {
        "id": "HbLStgxbdBiw"
      },
      "execution_count": 38,
      "outputs": []
    },
    {
      "cell_type": "code",
      "source": [
        "test2(2, 3, 4, 5, \"san\")"
      ],
      "metadata": {
        "colab": {
          "base_uri": "https://localhost:8080/"
        },
        "id": "WSDBxsGkdSaX",
        "outputId": "40e96db7-ce5c-469c-d8a4-efab2a4388c3"
      },
      "execution_count": 39,
      "outputs": [
        {
          "output_type": "execute_result",
          "data": {
            "text/plain": [
              "(2, 3, 4, 5, 'san')"
            ]
          },
          "metadata": {},
          "execution_count": 39
        }
      ]
    },
    {
      "cell_type": "code",
      "source": [
        "##getting number of inputs from user with help of *args with functions\n",
        "def test3(*args, a):\n",
        "  return args, a"
      ],
      "metadata": {
        "id": "t-Zsv40-dVrx"
      },
      "execution_count": 40,
      "outputs": []
    },
    {
      "cell_type": "code",
      "source": [
        "test3(1, 2, 3, 4, a = \"file\")"
      ],
      "metadata": {
        "colab": {
          "base_uri": "https://localhost:8080/"
        },
        "id": "rDysTcpgdkEU",
        "outputId": "51247a4c-ea75-461e-ea77-31df87a29d8c"
      },
      "execution_count": 41,
      "outputs": [
        {
          "output_type": "execute_result",
          "data": {
            "text/plain": [
              "((1, 2, 3, 4), 'file')"
            ]
          },
          "metadata": {},
          "execution_count": 41
        }
      ]
    },
    {
      "cell_type": "code",
      "source": [
        "def test14(c, d, a = 23, b = 14):\n",
        "  return a, b, c, d"
      ],
      "metadata": {
        "id": "psmBOMXodqPC"
      },
      "execution_count": 42,
      "outputs": []
    },
    {
      "cell_type": "code",
      "source": [
        "test14()"
      ],
      "metadata": {
        "colab": {
          "base_uri": "https://localhost:8080/",
          "height": 141
        },
        "id": "kLMT2y_YeBIc",
        "outputId": "28de5d33-4967-41b8-a0e2-26e58c4ef510"
      },
      "execution_count": 43,
      "outputs": [
        {
          "output_type": "error",
          "ename": "TypeError",
          "evalue": "test14() missing 2 required positional arguments: 'c' and 'd'",
          "traceback": [
            "\u001b[0;31m---------------------------------------------------------------------------\u001b[0m",
            "\u001b[0;31mTypeError\u001b[0m                                 Traceback (most recent call last)",
            "\u001b[0;32m<ipython-input-43-c7ff4ccd62ad>\u001b[0m in \u001b[0;36m<cell line: 1>\u001b[0;34m()\u001b[0m\n\u001b[0;32m----> 1\u001b[0;31m \u001b[0mtest14\u001b[0m\u001b[0;34m(\u001b[0m\u001b[0;34m)\u001b[0m\u001b[0;34m\u001b[0m\u001b[0;34m\u001b[0m\u001b[0m\n\u001b[0m",
            "\u001b[0;31mTypeError\u001b[0m: test14() missing 2 required positional arguments: 'c' and 'd'"
          ]
        }
      ]
    },
    {
      "cell_type": "code",
      "source": [
        "test14(3, 4)"
      ],
      "metadata": {
        "colab": {
          "base_uri": "https://localhost:8080/"
        },
        "id": "bc_KrsvzeEXj",
        "outputId": "748d2143-c2ea-48dc-b905-5801994347b2"
      },
      "execution_count": 44,
      "outputs": [
        {
          "output_type": "execute_result",
          "data": {
            "text/plain": [
              "(23, 14, 3, 4)"
            ]
          },
          "metadata": {},
          "execution_count": 44
        }
      ]
    },
    {
      "cell_type": "code",
      "source": [
        "##**kwargs is used to get input value in dict format ie. key: value format\n",
        "def test15(**kwargs):\n",
        "  return kwargs ##dictionary format"
      ],
      "metadata": {
        "id": "uoUCSniseG6h"
      },
      "execution_count": 45,
      "outputs": []
    },
    {
      "cell_type": "code",
      "source": [
        "test15(a = [1, 2, 3, 4], b = \"sudh\", c = 24.43)"
      ],
      "metadata": {
        "colab": {
          "base_uri": "https://localhost:8080/"
        },
        "id": "bD2rxUK8fFGG",
        "outputId": "f4c5b0f6-6392-4d07-ea24-17184d22e772"
      },
      "execution_count": 46,
      "outputs": [
        {
          "output_type": "execute_result",
          "data": {
            "text/plain": [
              "{'a': [1, 2, 3, 4], 'b': 'sudh', 'c': 24.43}"
            ]
          },
          "metadata": {},
          "execution_count": 46
        }
      ]
    },
    {
      "cell_type": "markdown",
      "source": [
        "# Generator functions"
      ],
      "metadata": {
        "id": "HznnzlOei2H5"
      }
    },
    {
      "cell_type": "code",
      "source": [
        "#fibonnaci series\n",
        "def test_fib(n):\n",
        "  a, b = 0, 1\n",
        "  for i in range(n):\n",
        "    yield a\n",
        "    a, b = b, a + b"
      ],
      "metadata": {
        "id": "2EL49rGJfSxO"
      },
      "execution_count": 47,
      "outputs": []
    },
    {
      "cell_type": "code",
      "source": [
        "test_fib(5)"
      ],
      "metadata": {
        "colab": {
          "base_uri": "https://localhost:8080/"
        },
        "id": "HwYjGnU7mQzn",
        "outputId": "a5f08053-b283-4a30-cce1-b800b7d05dfe"
      },
      "execution_count": 48,
      "outputs": [
        {
          "output_type": "execute_result",
          "data": {
            "text/plain": [
              "<generator object test_fib at 0x7acea3888190>"
            ]
          },
          "metadata": {},
          "execution_count": 48
        }
      ]
    },
    {
      "cell_type": "code",
      "source": [
        "for i in test_fib(10):\n",
        "  print(i)"
      ],
      "metadata": {
        "colab": {
          "base_uri": "https://localhost:8080/"
        },
        "id": "RHUhSqJgmUkt",
        "outputId": "6f3f9e53-a2ce-4f08-f859-4342f2c9e13a"
      },
      "execution_count": 49,
      "outputs": [
        {
          "output_type": "stream",
          "name": "stdout",
          "text": [
            "0\n",
            "1\n",
            "1\n",
            "2\n",
            "3\n",
            "5\n",
            "8\n",
            "13\n",
            "21\n",
            "34\n"
          ]
        }
      ]
    },
    {
      "cell_type": "code",
      "source": [
        "def test_fib1():\n",
        "  a, b = 0, 1\n",
        "  while True:\n",
        "    yield a       #yeild - similar to return statement\n",
        "    a, b = b, a+b"
      ],
      "metadata": {
        "id": "EaTbKgUhmYLc"
      },
      "execution_count": 50,
      "outputs": []
    },
    {
      "cell_type": "code",
      "source": [
        "fib = test_fib1()"
      ],
      "metadata": {
        "id": "k4gbME3Yoj9V"
      },
      "execution_count": 51,
      "outputs": []
    },
    {
      "cell_type": "code",
      "source": [
        "for i in range(10):\n",
        "  print(next(fib))"
      ],
      "metadata": {
        "colab": {
          "base_uri": "https://localhost:8080/"
        },
        "id": "k1kWV7voonlq",
        "outputId": "a49a24f8-52e7-41a8-b332-48acd48f3206"
      },
      "execution_count": 52,
      "outputs": [
        {
          "output_type": "stream",
          "name": "stdout",
          "text": [
            "0\n",
            "1\n",
            "1\n",
            "2\n",
            "3\n",
            "5\n",
            "8\n",
            "13\n",
            "21\n",
            "34\n"
          ]
        }
      ]
    },
    {
      "cell_type": "code",
      "source": [
        "name = \"acer\"\n",
        "for i in name:\n",
        "  print(i)"
      ],
      "metadata": {
        "colab": {
          "base_uri": "https://localhost:8080/"
        },
        "id": "bpllZFTzor3E",
        "outputId": "627e88ef-253b-4677-bea4-97fee630a1a0"
      },
      "execution_count": 53,
      "outputs": [
        {
          "output_type": "stream",
          "name": "stdout",
          "text": [
            "a\n",
            "c\n",
            "e\n",
            "r\n"
          ]
        }
      ]
    },
    {
      "cell_type": "code",
      "source": [
        "name"
      ],
      "metadata": {
        "colab": {
          "base_uri": "https://localhost:8080/",
          "height": 35
        },
        "id": "xCFzIAOAo8cJ",
        "outputId": "4ea0b1db-354d-4146-e477-d746c2280c28"
      },
      "execution_count": 54,
      "outputs": [
        {
          "output_type": "execute_result",
          "data": {
            "text/plain": [
              "'acer'"
            ],
            "application/vnd.google.colaboratory.intrinsic+json": {
              "type": "string"
            }
          },
          "metadata": {},
          "execution_count": 54
        }
      ]
    },
    {
      "cell_type": "code",
      "source": [
        "next(name)"
      ],
      "metadata": {
        "colab": {
          "base_uri": "https://localhost:8080/",
          "height": 141
        },
        "id": "4Cs0Z3m3pAIt",
        "outputId": "876df6e7-bee5-4c81-ce74-d313f823fe33"
      },
      "execution_count": 55,
      "outputs": [
        {
          "output_type": "error",
          "ename": "TypeError",
          "evalue": "'str' object is not an iterator",
          "traceback": [
            "\u001b[0;31m---------------------------------------------------------------------------\u001b[0m",
            "\u001b[0;31mTypeError\u001b[0m                                 Traceback (most recent call last)",
            "\u001b[0;32m<ipython-input-55-2f689c2ef075>\u001b[0m in \u001b[0;36m<cell line: 1>\u001b[0;34m()\u001b[0m\n\u001b[0;32m----> 1\u001b[0;31m \u001b[0mnext\u001b[0m\u001b[0;34m(\u001b[0m\u001b[0mname\u001b[0m\u001b[0;34m)\u001b[0m\u001b[0;34m\u001b[0m\u001b[0;34m\u001b[0m\u001b[0m\n\u001b[0m",
            "\u001b[0;31mTypeError\u001b[0m: 'str' object is not an iterator"
          ]
        }
      ]
    },
    {
      "cell_type": "code",
      "source": [
        "s1 = iter(name) #convert str object into iterator format"
      ],
      "metadata": {
        "id": "yl817iF2pBiq"
      },
      "execution_count": 56,
      "outputs": []
    },
    {
      "cell_type": "code",
      "source": [
        "next(s1)"
      ],
      "metadata": {
        "colab": {
          "base_uri": "https://localhost:8080/",
          "height": 35
        },
        "id": "Vt-Epp5VpGFk",
        "outputId": "576163b8-9e4a-45a4-b91a-7acab922c593"
      },
      "execution_count": 57,
      "outputs": [
        {
          "output_type": "execute_result",
          "data": {
            "text/plain": [
              "'a'"
            ],
            "application/vnd.google.colaboratory.intrinsic+json": {
              "type": "string"
            }
          },
          "metadata": {},
          "execution_count": 57
        }
      ]
    },
    {
      "cell_type": "code",
      "source": [
        "next(s1)"
      ],
      "metadata": {
        "colab": {
          "base_uri": "https://localhost:8080/",
          "height": 35
        },
        "id": "Xz3c2npcpHgk",
        "outputId": "b9665b89-a12a-4c61-854c-03aeb601b7d3"
      },
      "execution_count": 58,
      "outputs": [
        {
          "output_type": "execute_result",
          "data": {
            "text/plain": [
              "'c'"
            ],
            "application/vnd.google.colaboratory.intrinsic+json": {
              "type": "string"
            }
          },
          "metadata": {},
          "execution_count": 58
        }
      ]
    },
    {
      "cell_type": "code",
      "source": [
        "next(s1)"
      ],
      "metadata": {
        "colab": {
          "base_uri": "https://localhost:8080/",
          "height": 35
        },
        "id": "euT0HSD4pJFC",
        "outputId": "e413c89e-b5de-4532-98ff-6ade02d7c34a"
      },
      "execution_count": 59,
      "outputs": [
        {
          "output_type": "execute_result",
          "data": {
            "text/plain": [
              "'e'"
            ],
            "application/vnd.google.colaboratory.intrinsic+json": {
              "type": "string"
            }
          },
          "metadata": {},
          "execution_count": 59
        }
      ]
    },
    {
      "cell_type": "code",
      "source": [
        "next(s1)"
      ],
      "metadata": {
        "colab": {
          "base_uri": "https://localhost:8080/",
          "height": 35
        },
        "id": "eiysSbd6pLaC",
        "outputId": "a629c176-e3b0-4f08-a67b-25f91fc453b3"
      },
      "execution_count": 60,
      "outputs": [
        {
          "output_type": "execute_result",
          "data": {
            "text/plain": [
              "'r'"
            ],
            "application/vnd.google.colaboratory.intrinsic+json": {
              "type": "string"
            }
          },
          "metadata": {},
          "execution_count": 60
        }
      ]
    },
    {
      "cell_type": "code",
      "source": [
        "next(s1)  #iterator value is at end"
      ],
      "metadata": {
        "colab": {
          "base_uri": "https://localhost:8080/",
          "height": 141
        },
        "id": "31QI69dspM7Y",
        "outputId": "10d561e7-7660-4768-d31e-dd9b5da007e5"
      },
      "execution_count": 61,
      "outputs": [
        {
          "output_type": "error",
          "ename": "StopIteration",
          "evalue": "",
          "traceback": [
            "\u001b[0;31m---------------------------------------------------------------------------\u001b[0m",
            "\u001b[0;31mStopIteration\u001b[0m                             Traceback (most recent call last)",
            "\u001b[0;32m<ipython-input-61-261266a1174d>\u001b[0m in \u001b[0;36m<cell line: 1>\u001b[0;34m()\u001b[0m\n\u001b[0;32m----> 1\u001b[0;31m \u001b[0mnext\u001b[0m\u001b[0;34m(\u001b[0m\u001b[0ms1\u001b[0m\u001b[0;34m)\u001b[0m  \u001b[0;31m#iterator value is at end\u001b[0m\u001b[0;34m\u001b[0m\u001b[0;34m\u001b[0m\u001b[0m\n\u001b[0m",
            "\u001b[0;31mStopIteration\u001b[0m: "
          ]
        }
      ]
    },
    {
      "cell_type": "code",
      "source": [
        "type(s1)"
      ],
      "metadata": {
        "colab": {
          "base_uri": "https://localhost:8080/"
        },
        "id": "hHiw1fIbpOqR",
        "outputId": "5262eb8c-cade-4328-9744-0d6ef0e21832"
      },
      "execution_count": 62,
      "outputs": [
        {
          "output_type": "execute_result",
          "data": {
            "text/plain": [
              "str_iterator"
            ]
          },
          "metadata": {},
          "execution_count": 62
        }
      ]
    },
    {
      "cell_type": "code",
      "source": [
        "next(47)     #'int' object is not an iterator"
      ],
      "metadata": {
        "colab": {
          "base_uri": "https://localhost:8080/",
          "height": 141
        },
        "id": "E9TC_yT7pWJ9",
        "outputId": "73213600-a19f-4bea-8981-9efb195a98cc"
      },
      "execution_count": 63,
      "outputs": [
        {
          "output_type": "error",
          "ename": "TypeError",
          "evalue": "'int' object is not an iterator",
          "traceback": [
            "\u001b[0;31m---------------------------------------------------------------------------\u001b[0m",
            "\u001b[0;31mTypeError\u001b[0m                                 Traceback (most recent call last)",
            "\u001b[0;32m<ipython-input-63-bb65bbbe8363>\u001b[0m in \u001b[0;36m<cell line: 1>\u001b[0;34m()\u001b[0m\n\u001b[0;32m----> 1\u001b[0;31m \u001b[0mnext\u001b[0m\u001b[0;34m(\u001b[0m\u001b[0;36m47\u001b[0m\u001b[0;34m)\u001b[0m     \u001b[0;31m#'int' object is not an iterator\u001b[0m\u001b[0;34m\u001b[0m\u001b[0;34m\u001b[0m\u001b[0m\n\u001b[0m",
            "\u001b[0;31mTypeError\u001b[0m: 'int' object is not an iterator"
          ]
        }
      ]
    },
    {
      "cell_type": "markdown",
      "source": [
        "Iterator - data which can been extracted or call by using next(),\n",
        "ex: string\n",
        "\n",
        "Iterable - which can't be iterate or rotate like iterator but, can access by converting it into iterator\n",
        "ex: int"
      ],
      "metadata": {
        "id": "XlTxnOMmplLW"
      }
    },
    {
      "cell_type": "code",
      "source": [
        "def count__test(n):\n",
        "  count = 1\n",
        "  while count <= n:\n",
        "    yield count\n",
        "    count += 1"
      ],
      "metadata": {
        "id": "QMG2YYYVpddn"
      },
      "execution_count": 64,
      "outputs": []
    },
    {
      "cell_type": "code",
      "source": [
        "c = count__test(5)"
      ],
      "metadata": {
        "id": "e9tb0Z-crFau"
      },
      "execution_count": 65,
      "outputs": []
    },
    {
      "cell_type": "code",
      "source": [
        "c"
      ],
      "metadata": {
        "colab": {
          "base_uri": "https://localhost:8080/"
        },
        "id": "gdhOv7w4tq00",
        "outputId": "90e69081-bd6b-4b22-a68f-ab2a65128769"
      },
      "execution_count": 66,
      "outputs": [
        {
          "output_type": "execute_result",
          "data": {
            "text/plain": [
              "<generator object count__test at 0x7acea3888120>"
            ]
          },
          "metadata": {},
          "execution_count": 66
        }
      ]
    },
    {
      "cell_type": "code",
      "source": [
        "for i in c:print(i)"
      ],
      "metadata": {
        "id": "sBGlWgcYrKT-",
        "colab": {
          "base_uri": "https://localhost:8080/"
        },
        "outputId": "fd397462-0915-4229-ab1b-c2ad60a15d29"
      },
      "execution_count": 67,
      "outputs": [
        {
          "output_type": "stream",
          "name": "stdout",
          "text": [
            "1\n",
            "2\n",
            "3\n",
            "4\n",
            "5\n"
          ]
        }
      ]
    },
    {
      "cell_type": "code",
      "source": [
        "type(c)"
      ],
      "metadata": {
        "id": "v9x7n6MBrM33",
        "colab": {
          "base_uri": "https://localhost:8080/"
        },
        "outputId": "c45f8648-429a-4ba7-e4e3-b7f66c5446ee"
      },
      "execution_count": 68,
      "outputs": [
        {
          "output_type": "execute_result",
          "data": {
            "text/plain": [
              "generator"
            ]
          },
          "metadata": {},
          "execution_count": 68
        }
      ]
    },
    {
      "cell_type": "markdown",
      "source": [
        "#Lamba Function"
      ],
      "metadata": {
        "id": "jrolLTJOsLnw"
      }
    },
    {
      "cell_type": "code",
      "source": [
        "n, p = 3, 2"
      ],
      "metadata": {
        "id": "MaM80sVkr-ul"
      },
      "execution_count": 69,
      "outputs": []
    },
    {
      "cell_type": "code",
      "source": [
        "def test(n, p): #creating the function which shows root functions\n",
        "  return n**p"
      ],
      "metadata": {
        "id": "Oeef6l_usYj8"
      },
      "execution_count": 70,
      "outputs": []
    },
    {
      "cell_type": "code",
      "source": [
        "test(2, 3)"
      ],
      "metadata": {
        "id": "VK3rL2Vfsb_L",
        "colab": {
          "base_uri": "https://localhost:8080/"
        },
        "outputId": "cf203be6-f7a2-4ffc-d38c-96d0073c5b86"
      },
      "execution_count": 71,
      "outputs": [
        {
          "output_type": "execute_result",
          "data": {
            "text/plain": [
              "8"
            ]
          },
          "metadata": {},
          "execution_count": 71
        }
      ]
    },
    {
      "cell_type": "code",
      "source": [
        "test(3, 2)"
      ],
      "metadata": {
        "id": "obCSrUWhsdSG",
        "colab": {
          "base_uri": "https://localhost:8080/"
        },
        "outputId": "e055b68b-64a3-41d5-c148-a11b1ae0abf9"
      },
      "execution_count": 72,
      "outputs": [
        {
          "output_type": "execute_result",
          "data": {
            "text/plain": [
              "9"
            ]
          },
          "metadata": {},
          "execution_count": 72
        }
      ]
    },
    {
      "cell_type": "code",
      "source": [
        "a = lambda n, p: n**p"
      ],
      "metadata": {
        "id": "z0pQViJ-seqg"
      },
      "execution_count": 73,
      "outputs": []
    },
    {
      "cell_type": "code",
      "source": [
        "a(3, 2) #same answer as function"
      ],
      "metadata": {
        "id": "1r6ii8WJs0Av",
        "colab": {
          "base_uri": "https://localhost:8080/"
        },
        "outputId": "10d27974-d736-4acf-e019-1330bd15657d"
      },
      "execution_count": 74,
      "outputs": [
        {
          "output_type": "execute_result",
          "data": {
            "text/plain": [
              "9"
            ]
          },
          "metadata": {},
          "execution_count": 74
        }
      ]
    },
    {
      "cell_type": "code",
      "source": [
        "add = lambda x, y : x+y"
      ],
      "metadata": {
        "id": "e1U_Xcpos1JB"
      },
      "execution_count": 75,
      "outputs": []
    },
    {
      "cell_type": "code",
      "source": [
        "add(44, 5)"
      ],
      "metadata": {
        "id": "bPToMYT6s9fb",
        "colab": {
          "base_uri": "https://localhost:8080/"
        },
        "outputId": "c4d4d3b7-6658-4ea4-90ac-e0c80b5bcbca"
      },
      "execution_count": 76,
      "outputs": [
        {
          "output_type": "execute_result",
          "data": {
            "text/plain": [
              "49"
            ]
          },
          "metadata": {},
          "execution_count": 76
        }
      ]
    },
    {
      "cell_type": "code",
      "source": [
        "c_to_f = lambda c: (9/5)*c + 32"
      ],
      "metadata": {
        "id": "NJnyfc42s-bo"
      },
      "execution_count": 77,
      "outputs": []
    },
    {
      "cell_type": "code",
      "source": [
        "c_to_f(51)"
      ],
      "metadata": {
        "id": "LkE_iy3GtY7T",
        "colab": {
          "base_uri": "https://localhost:8080/"
        },
        "outputId": "f0a6354a-3b7a-48bc-c3ef-26ffc6e380e6"
      },
      "execution_count": 78,
      "outputs": [
        {
          "output_type": "execute_result",
          "data": {
            "text/plain": [
              "123.8"
            ]
          },
          "metadata": {},
          "execution_count": 78
        }
      ]
    },
    {
      "cell_type": "code",
      "source": [
        "## finding of maximum from two number\n",
        "find_max = lambda x, y : x if x > y else y"
      ],
      "metadata": {
        "id": "pZKdi-RBtbTX"
      },
      "execution_count": 79,
      "outputs": []
    },
    {
      "cell_type": "code",
      "source": [
        "find_max(32, 23)"
      ],
      "metadata": {
        "id": "4gh0DPMOtpDY",
        "colab": {
          "base_uri": "https://localhost:8080/"
        },
        "outputId": "64e403bf-0453-45fb-bc3d-7c4b0241e994"
      },
      "execution_count": 80,
      "outputs": [
        {
          "output_type": "execute_result",
          "data": {
            "text/plain": [
              "32"
            ]
          },
          "metadata": {},
          "execution_count": 80
        }
      ]
    },
    {
      "cell_type": "code",
      "source": [
        "find_max(32, 44)"
      ],
      "metadata": {
        "id": "R8BfYSVktqgB",
        "colab": {
          "base_uri": "https://localhost:8080/"
        },
        "outputId": "5e474213-4a8b-4305-b2c7-55d2858a8875"
      },
      "execution_count": 81,
      "outputs": [
        {
          "output_type": "execute_result",
          "data": {
            "text/plain": [
              "44"
            ]
          },
          "metadata": {},
          "execution_count": 81
        }
      ]
    },
    {
      "cell_type": "code",
      "source": [
        "s = \"pwskills\""
      ],
      "metadata": {
        "id": "7SL4NuKtttey"
      },
      "execution_count": 82,
      "outputs": []
    },
    {
      "cell_type": "code",
      "source": [
        "find_len = lambda s: len(s)"
      ],
      "metadata": {
        "id": "YC8enMlHtxH1"
      },
      "execution_count": 83,
      "outputs": []
    },
    {
      "cell_type": "code",
      "source": [
        "find_len(s)"
      ],
      "metadata": {
        "id": "Obhug0Eft0_3",
        "colab": {
          "base_uri": "https://localhost:8080/"
        },
        "outputId": "f66f1795-e568-400f-de80-d026004707a8"
      },
      "execution_count": 84,
      "outputs": [
        {
          "output_type": "execute_result",
          "data": {
            "text/plain": [
              "8"
            ]
          },
          "metadata": {},
          "execution_count": 84
        }
      ]
    },
    {
      "cell_type": "markdown",
      "source": [
        "# Map, Reduce and Filter functions"
      ],
      "metadata": {
        "id": "YL5VXIwLuQDb"
      }
    },
    {
      "cell_type": "code",
      "source": [
        "#wan't to do any operation from given data\n",
        "l = [2, 3, 4, 5, 6]"
      ],
      "metadata": {
        "id": "--aIT3ijt2MP"
      },
      "execution_count": 85,
      "outputs": []
    },
    {
      "cell_type": "code",
      "source": [
        "def test(l): #normal way\n",
        "  l1 = []\n",
        "  for i in l:\n",
        "    l1.append(i**2)\n",
        "  return l1"
      ],
      "metadata": {
        "id": "B6kbN45BubsW"
      },
      "execution_count": 86,
      "outputs": []
    },
    {
      "cell_type": "code",
      "source": [
        "test(l)"
      ],
      "metadata": {
        "id": "zZ8SDeSWukou",
        "colab": {
          "base_uri": "https://localhost:8080/"
        },
        "outputId": "1fee930a-04d4-4d32-a5d3-b2397f2e4280"
      },
      "execution_count": 87,
      "outputs": [
        {
          "output_type": "execute_result",
          "data": {
            "text/plain": [
              "[4, 9, 16, 25, 36]"
            ]
          },
          "metadata": {},
          "execution_count": 87
        }
      ]
    },
    {
      "cell_type": "markdown",
      "source": [
        "#### map copy the function which is given to it as sample and then calculate the remaining values"
      ],
      "metadata": {
        "id": "YR22R4a3vvYW"
      }
    },
    {
      "cell_type": "code",
      "source": [
        "#using map function\n",
        "def sqr(x):\n",
        "  return x**2"
      ],
      "metadata": {
        "id": "KYdn31QiumvF"
      },
      "execution_count": 88,
      "outputs": []
    },
    {
      "cell_type": "code",
      "source": [
        "list(map(sqr, l))"
      ],
      "metadata": {
        "id": "imvy_MYXvoQJ",
        "colab": {
          "base_uri": "https://localhost:8080/"
        },
        "outputId": "711033a4-420c-43b2-dad0-6f2e14ad142e"
      },
      "execution_count": 89,
      "outputs": [
        {
          "output_type": "execute_result",
          "data": {
            "text/plain": [
              "[4, 9, 16, 25, 36]"
            ]
          },
          "metadata": {},
          "execution_count": 89
        }
      ]
    },
    {
      "cell_type": "code",
      "source": [
        "list(map(lambda x : x**2, l)) #map using lambda function"
      ],
      "metadata": {
        "id": "ex24sf8LvryP",
        "colab": {
          "base_uri": "https://localhost:8080/"
        },
        "outputId": "0080be18-4f6a-4ad1-9cff-e1d7230e9a43"
      },
      "execution_count": 90,
      "outputs": [
        {
          "output_type": "execute_result",
          "data": {
            "text/plain": [
              "[4, 9, 16, 25, 36]"
            ]
          },
          "metadata": {},
          "execution_count": 90
        }
      ]
    },
    {
      "cell_type": "code",
      "source": [
        "#sum of two list by index wise\n",
        "l1 = [1, 2, 3, 4, 5]\n",
        "l2 = [6, 7, 8, 9, 10]\n",
        "\n",
        "list(map(lambda x, y: x+y, l1, l2))"
      ],
      "metadata": {
        "id": "I-QZmM-0wGI8",
        "colab": {
          "base_uri": "https://localhost:8080/"
        },
        "outputId": "f7164273-8fc2-4883-8392-1e6a0ac18b00"
      },
      "execution_count": 91,
      "outputs": [
        {
          "output_type": "execute_result",
          "data": {
            "text/plain": [
              "[7, 9, 11, 13, 15]"
            ]
          },
          "metadata": {},
          "execution_count": 91
        }
      ]
    },
    {
      "cell_type": "code",
      "source": [
        "def add(x, y):\n",
        "  return x + y"
      ],
      "metadata": {
        "id": "WHfwj74mwhqe"
      },
      "execution_count": 92,
      "outputs": []
    },
    {
      "cell_type": "code",
      "source": [
        "list(map(add, l1, l2)) #both have similar answers"
      ],
      "metadata": {
        "id": "5tSexBSuwqLD",
        "colab": {
          "base_uri": "https://localhost:8080/"
        },
        "outputId": "a4a5fa43-70bf-415d-a692-9e7703ceb7c3"
      },
      "execution_count": 93,
      "outputs": [
        {
          "output_type": "execute_result",
          "data": {
            "text/plain": [
              "[7, 9, 11, 13, 15]"
            ]
          },
          "metadata": {},
          "execution_count": 93
        }
      ]
    },
    {
      "cell_type": "code",
      "source": [
        "#capitalize the string and store one by one in list\n",
        "s = \"pwskills\"\n",
        "\n",
        "list(map(lambda x : x.upper(), s))"
      ],
      "metadata": {
        "id": "0YqCwcXZwshT",
        "colab": {
          "base_uri": "https://localhost:8080/"
        },
        "outputId": "4684d9f5-c56f-45e6-bc87-5cde46d53bac"
      },
      "execution_count": 94,
      "outputs": [
        {
          "output_type": "execute_result",
          "data": {
            "text/plain": [
              "['P', 'W', 'S', 'K', 'I', 'L', 'L', 'S']"
            ]
          },
          "metadata": {},
          "execution_count": 94
        }
      ]
    },
    {
      "cell_type": "markdown",
      "source": [
        "#### Reduce Function"
      ],
      "metadata": {
        "id": "ZIWDCeAxxPLi"
      }
    },
    {
      "cell_type": "code",
      "source": [
        "#reduce is not present by default so we have to import it\n",
        "from functools import reduce"
      ],
      "metadata": {
        "id": "Nv-ntEdxxKpz"
      },
      "execution_count": 95,
      "outputs": []
    },
    {
      "cell_type": "code",
      "source": [
        "l = [1, 2, 3, 4, 5]"
      ],
      "metadata": {
        "id": "GiZDu-x3xiMR"
      },
      "execution_count": 96,
      "outputs": []
    },
    {
      "cell_type": "code",
      "source": [
        "reduce(lambda x, y: x+y , l)"
      ],
      "metadata": {
        "id": "1WF1QHZUxl5r",
        "colab": {
          "base_uri": "https://localhost:8080/"
        },
        "outputId": "443db847-a04c-4fac-e10e-1c7179824a3e"
      },
      "execution_count": 97,
      "outputs": [
        {
          "output_type": "execute_result",
          "data": {
            "text/plain": [
              "15"
            ]
          },
          "metadata": {},
          "execution_count": 97
        }
      ]
    },
    {
      "cell_type": "code",
      "source": [
        "reduce(lambda x, y, z : x + y, l)"
      ],
      "metadata": {
        "id": "pbUx4egXxqxZ",
        "colab": {
          "base_uri": "https://localhost:8080/",
          "height": 141
        },
        "outputId": "735915ac-d876-4c10-d522-45395f147e23"
      },
      "execution_count": 98,
      "outputs": [
        {
          "output_type": "error",
          "ename": "TypeError",
          "evalue": "<lambda>() missing 1 required positional argument: 'z'",
          "traceback": [
            "\u001b[0;31m---------------------------------------------------------------------------\u001b[0m",
            "\u001b[0;31mTypeError\u001b[0m                                 Traceback (most recent call last)",
            "\u001b[0;32m<ipython-input-98-b1c54632d9f3>\u001b[0m in \u001b[0;36m<cell line: 1>\u001b[0;34m()\u001b[0m\n\u001b[0;32m----> 1\u001b[0;31m \u001b[0mreduce\u001b[0m\u001b[0;34m(\u001b[0m\u001b[0;32mlambda\u001b[0m \u001b[0mx\u001b[0m\u001b[0;34m,\u001b[0m \u001b[0my\u001b[0m\u001b[0;34m,\u001b[0m \u001b[0mz\u001b[0m \u001b[0;34m:\u001b[0m \u001b[0mx\u001b[0m \u001b[0;34m+\u001b[0m \u001b[0my\u001b[0m\u001b[0;34m,\u001b[0m \u001b[0ml\u001b[0m\u001b[0;34m)\u001b[0m\u001b[0;34m\u001b[0m\u001b[0;34m\u001b[0m\u001b[0m\n\u001b[0m",
            "\u001b[0;31mTypeError\u001b[0m: <lambda>() missing 1 required positional argument: 'z'"
          ]
        }
      ]
    },
    {
      "cell_type": "code",
      "source": [
        "l2 = [1, 2, 3, 4, 5, 6, 7]"
      ],
      "metadata": {
        "id": "JFWL1kufySHK"
      },
      "execution_count": 99,
      "outputs": []
    },
    {
      "cell_type": "code",
      "source": [
        "reduce(lambda x, y, z : x + y + z, l2) #only two parameters with reduce"
      ],
      "metadata": {
        "id": "6ND1XHVeyZf2",
        "colab": {
          "base_uri": "https://localhost:8080/",
          "height": 141
        },
        "outputId": "2b855c61-35dc-40dc-d5ad-916195ba2061"
      },
      "execution_count": 100,
      "outputs": [
        {
          "output_type": "error",
          "ename": "TypeError",
          "evalue": "<lambda>() missing 1 required positional argument: 'z'",
          "traceback": [
            "\u001b[0;31m---------------------------------------------------------------------------\u001b[0m",
            "\u001b[0;31mTypeError\u001b[0m                                 Traceback (most recent call last)",
            "\u001b[0;32m<ipython-input-100-48723702583e>\u001b[0m in \u001b[0;36m<cell line: 1>\u001b[0;34m()\u001b[0m\n\u001b[0;32m----> 1\u001b[0;31m \u001b[0mreduce\u001b[0m\u001b[0;34m(\u001b[0m\u001b[0;32mlambda\u001b[0m \u001b[0mx\u001b[0m\u001b[0;34m,\u001b[0m \u001b[0my\u001b[0m\u001b[0;34m,\u001b[0m \u001b[0mz\u001b[0m \u001b[0;34m:\u001b[0m \u001b[0mx\u001b[0m \u001b[0;34m+\u001b[0m \u001b[0my\u001b[0m \u001b[0;34m+\u001b[0m \u001b[0mz\u001b[0m\u001b[0;34m,\u001b[0m \u001b[0ml2\u001b[0m\u001b[0;34m)\u001b[0m \u001b[0;31m#only two parameters with reduce\u001b[0m\u001b[0;34m\u001b[0m\u001b[0;34m\u001b[0m\u001b[0m\n\u001b[0m",
            "\u001b[0;31mTypeError\u001b[0m: <lambda>() missing 1 required positional argument: 'z'"
          ]
        }
      ]
    },
    {
      "cell_type": "code",
      "source": [
        "reduce(lambda x, y : x * y, l2)"
      ],
      "metadata": {
        "id": "Y26CbPW8yas6",
        "colab": {
          "base_uri": "https://localhost:8080/"
        },
        "outputId": "21fde047-dd19-4d92-e73f-ef7a03647d9a"
      },
      "execution_count": 101,
      "outputs": [
        {
          "output_type": "execute_result",
          "data": {
            "text/plain": [
              "5040"
            ]
          },
          "metadata": {},
          "execution_count": 101
        }
      ]
    },
    {
      "cell_type": "code",
      "source": [
        "reduce(lambda x, y: x if x > y else y, l2)"
      ],
      "metadata": {
        "id": "6opVacskzAvC",
        "colab": {
          "base_uri": "https://localhost:8080/"
        },
        "outputId": "c380c2e5-b00d-4ffe-be6e-c9d1b3db3e61"
      },
      "execution_count": 102,
      "outputs": [
        {
          "output_type": "execute_result",
          "data": {
            "text/plain": [
              "7"
            ]
          },
          "metadata": {},
          "execution_count": 102
        }
      ]
    },
    {
      "cell_type": "code",
      "source": [
        "l2"
      ],
      "metadata": {
        "id": "Ab4XyZUnzQi5",
        "colab": {
          "base_uri": "https://localhost:8080/"
        },
        "outputId": "aa68aa11-03d6-405b-8ea8-3a1a994ceb23"
      },
      "execution_count": 103,
      "outputs": [
        {
          "output_type": "execute_result",
          "data": {
            "text/plain": [
              "[1, 2, 3, 4, 5, 6, 7]"
            ]
          },
          "metadata": {},
          "execution_count": 103
        }
      ]
    },
    {
      "cell_type": "code",
      "source": [
        "l"
      ],
      "metadata": {
        "id": "sMhUiSWlzSkl",
        "colab": {
          "base_uri": "https://localhost:8080/"
        },
        "outputId": "4fc6c5af-4422-4cb1-fff0-c0a84b113ee9"
      },
      "execution_count": 104,
      "outputs": [
        {
          "output_type": "execute_result",
          "data": {
            "text/plain": [
              "[1, 2, 3, 4, 5]"
            ]
          },
          "metadata": {},
          "execution_count": 104
        }
      ]
    },
    {
      "cell_type": "code",
      "source": [
        "list(filter(lambda x : x % 2 == 0, l)) #filter - filter out the data"
      ],
      "metadata": {
        "id": "T5p_Eupu5yXB",
        "colab": {
          "base_uri": "https://localhost:8080/"
        },
        "outputId": "c93672fa-907a-4a1e-ff2c-95f815881cf8"
      },
      "execution_count": 105,
      "outputs": [
        {
          "output_type": "execute_result",
          "data": {
            "text/plain": [
              "[2, 4]"
            ]
          },
          "metadata": {},
          "execution_count": 105
        }
      ]
    },
    {
      "cell_type": "code",
      "source": [
        "list(filter(lambda x : x % 2 != 0, l))"
      ],
      "metadata": {
        "id": "nxvPjswS56lq",
        "colab": {
          "base_uri": "https://localhost:8080/"
        },
        "outputId": "e72ffbad-4241-49be-e0ec-9c6a976f2d73"
      },
      "execution_count": 106,
      "outputs": [
        {
          "output_type": "execute_result",
          "data": {
            "text/plain": [
              "[1, 3, 5]"
            ]
          },
          "metadata": {},
          "execution_count": 106
        }
      ]
    },
    {
      "cell_type": "code",
      "source": [
        "l1 = [-3, -2, -1, 0, 1, 2, 3, 4]"
      ],
      "metadata": {
        "id": "XGisbA-L6GnK"
      },
      "execution_count": 107,
      "outputs": []
    },
    {
      "cell_type": "code",
      "source": [
        "list(filter(lambda x : x < 0, l1))"
      ],
      "metadata": {
        "id": "iq5qDWqC6RRK",
        "colab": {
          "base_uri": "https://localhost:8080/"
        },
        "outputId": "0e22dea6-0301-4c88-ed4f-cb3c407d28bf"
      },
      "execution_count": 108,
      "outputs": [
        {
          "output_type": "execute_result",
          "data": {
            "text/plain": [
              "[-3, -2, -1]"
            ]
          },
          "metadata": {},
          "execution_count": 108
        }
      ]
    },
    {
      "cell_type": "code",
      "source": [
        "l2 = [\"sudh\", \"pwskills\", \"banglore\", \"pune\", \"mumbai\"]"
      ],
      "metadata": {
        "id": "dS-IOmmv6Yzy"
      },
      "execution_count": 109,
      "outputs": []
    },
    {
      "cell_type": "code",
      "source": [
        "list(filter(lambda x : len(x) < 6, l2))"
      ],
      "metadata": {
        "id": "VBuzDvrS6ikF",
        "colab": {
          "base_uri": "https://localhost:8080/"
        },
        "outputId": "3531ddd2-08fe-4418-a2ed-18141e6a6ed3"
      },
      "execution_count": 110,
      "outputs": [
        {
          "output_type": "execute_result",
          "data": {
            "text/plain": [
              "['sudh', 'pune']"
            ]
          },
          "metadata": {},
          "execution_count": 110
        }
      ]
    }
  ]
}