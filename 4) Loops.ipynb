{
  "nbformat": 4,
  "nbformat_minor": 0,
  "metadata": {
    "colab": {
      "provenance": []
    },
    "kernelspec": {
      "name": "python3",
      "display_name": "Python 3"
    },
    "language_info": {
      "name": "python"
    }
  },
  "cells": [
    {
      "cell_type": "code",
      "execution_count": 1,
      "metadata": {
        "id": "AlYbrFUUz-39"
      },
      "outputs": [],
      "source": [
        "l = [1, 2, 3, 4, 5, 6, 7, 8]"
      ]
    },
    {
      "cell_type": "code",
      "source": [
        "# increment list by 1\n",
        "l1 = []\n",
        "for i in l:\n",
        "  l1.append(i+1)"
      ],
      "metadata": {
        "id": "2IC4CmFF00vt"
      },
      "execution_count": 2,
      "outputs": []
    },
    {
      "cell_type": "code",
      "source": [
        "l1, l"
      ],
      "metadata": {
        "colab": {
          "base_uri": "https://localhost:8080/"
        },
        "id": "AlAnWJ0n1QzS",
        "outputId": "b8d617e2-4415-4563-9f8c-b4a693bb078f"
      },
      "execution_count": 3,
      "outputs": [
        {
          "output_type": "execute_result",
          "data": {
            "text/plain": [
              "([2, 3, 4, 5, 6, 7, 8, 9], [1, 2, 3, 4, 5, 6, 7, 8])"
            ]
          },
          "metadata": {},
          "execution_count": 3
        }
      ]
    },
    {
      "cell_type": "code",
      "source": [
        "l = [\"lenovo\", \"samsung\", \"pwskills\", \"course\"]"
      ],
      "metadata": {
        "id": "8Nw8Ysb117gn"
      },
      "execution_count": 4,
      "outputs": []
    },
    {
      "cell_type": "code",
      "source": [
        "l1 = []\n",
        "for i in l:\n",
        "  l1.append(i.upper())"
      ],
      "metadata": {
        "id": "Twi_Xo8_2TjJ"
      },
      "execution_count": 7,
      "outputs": []
    },
    {
      "cell_type": "code",
      "source": [
        "l1"
      ],
      "metadata": {
        "colab": {
          "base_uri": "https://localhost:8080/"
        },
        "id": "m9m2KVwH2fX5",
        "outputId": "1e67049d-cb90-4934-f9e5-56ebe3ba0c04"
      },
      "execution_count": 8,
      "outputs": [
        {
          "output_type": "execute_result",
          "data": {
            "text/plain": [
              "['LENOVO', 'SAMSUNG', 'PWSKILLS', 'COURSE']"
            ]
          },
          "metadata": {},
          "execution_count": 8
        }
      ]
    },
    {
      "cell_type": "code",
      "source": [
        "l = [1, 2, 3, 4, 4, \"acer\", \"jupiter\", 232, 44.222, \"abc\"]"
      ],
      "metadata": {
        "id": "L1F52DGG2j71"
      },
      "execution_count": 9,
      "outputs": []
    },
    {
      "cell_type": "code",
      "source": [
        "l"
      ],
      "metadata": {
        "colab": {
          "base_uri": "https://localhost:8080/"
        },
        "id": "kFd3an3v2z0F",
        "outputId": "5c2d04eb-e4ad-448f-ea5f-a7c916978760"
      },
      "execution_count": 10,
      "outputs": [
        {
          "output_type": "execute_result",
          "data": {
            "text/plain": [
              "[1, 2, 3, 4, 4, 'acer', 'jupiter', 232, 44.222, 'abc']"
            ]
          },
          "metadata": {},
          "execution_count": 10
        }
      ]
    },
    {
      "cell_type": "code",
      "source": [
        "## we want to classify list on basis of number and string\n",
        "l1_num = []\n",
        "l2_str = []\n",
        "for i in l:\n",
        "  if type(i) == int or type(i) == float:\n",
        "    l1_num.append(i)\n",
        "  else:\n",
        "    l2_str.append(i)\n"
      ],
      "metadata": {
        "id": "hfeTKii420uu"
      },
      "execution_count": 11,
      "outputs": []
    },
    {
      "cell_type": "code",
      "source": [
        "l1_num, l2_str"
      ],
      "metadata": {
        "colab": {
          "base_uri": "https://localhost:8080/"
        },
        "id": "WIyoVkLw3irx",
        "outputId": "e2524349-425a-43dd-8b9c-f034649345d7"
      },
      "execution_count": null,
      "outputs": [
        {
          "output_type": "execute_result",
          "data": {
            "text/plain": [
              "([1, 2, 3, 4, 4, 232, 44.222], ['acer', 'jupiter', 'abc'])"
            ]
          },
          "metadata": {},
          "execution_count": 10
        }
      ]
    },
    {
      "cell_type": "code",
      "source": [
        "# for else loop"
      ],
      "metadata": {
        "id": "8QWwPpJm3l75"
      },
      "execution_count": null,
      "outputs": []
    },
    {
      "cell_type": "code",
      "source": [
        "for i in l:\n",
        "  print(i)\n",
        "else:\n",
        "  print(\"if for loop is able to complete itself then only else will execute\")"
      ],
      "metadata": {
        "colab": {
          "base_uri": "https://localhost:8080/"
        },
        "id": "sdewxwC66iVu",
        "outputId": "479ba4dd-6766-48fd-e47a-cead96985a9e"
      },
      "execution_count": null,
      "outputs": [
        {
          "output_type": "stream",
          "name": "stdout",
          "text": [
            "1\n",
            "2\n",
            "3\n",
            "4\n",
            "4\n",
            "acer\n",
            "jupiter\n",
            "232\n",
            "44.222\n",
            "abc\n",
            "if for loop is able to complete itself then only else will execute\n"
          ]
        }
      ]
    },
    {
      "cell_type": "code",
      "source": [
        "l"
      ],
      "metadata": {
        "colab": {
          "base_uri": "https://localhost:8080/"
        },
        "id": "3CRhMYAr6ohV",
        "outputId": "3fe15749-3f13-40ec-c05d-8d0beb0e37f1"
      },
      "execution_count": null,
      "outputs": [
        {
          "output_type": "execute_result",
          "data": {
            "text/plain": [
              "[1, 2, 3, 4, 4, 'acer', 'jupiter', 232, 44.222, 'abc']"
            ]
          },
          "metadata": {},
          "execution_count": 13
        }
      ]
    },
    {
      "cell_type": "code",
      "source": [
        "l = [\"january\", \"february\", \"march\", \"april\", \"may\"]"
      ],
      "metadata": {
        "id": "TQeXNrpD61y2"
      },
      "execution_count": null,
      "outputs": []
    },
    {
      "cell_type": "code",
      "source": [
        "for i in l:\n",
        "  if i == \"march\":\n",
        "    break           #break stop the program for excuting further.\n",
        "  print(i)"
      ],
      "metadata": {
        "colab": {
          "base_uri": "https://localhost:8080/"
        },
        "id": "hFbSa0ac7C3T",
        "outputId": "6597e6b9-70a3-4c98-a350-e7c29a7a772e"
      },
      "execution_count": null,
      "outputs": [
        {
          "output_type": "stream",
          "name": "stdout",
          "text": [
            "january\n",
            "february\n"
          ]
        }
      ]
    },
    {
      "cell_type": "code",
      "source": [
        "for i in l:\n",
        "  if i == \"april\":\n",
        "    continue      #continue execute the program without returning its conditinal value\n",
        "  print(i)"
      ],
      "metadata": {
        "colab": {
          "base_uri": "https://localhost:8080/"
        },
        "id": "pp8k3bdg7NHA",
        "outputId": "928f555a-4b33-4c75-984d-53b83634e9ab"
      },
      "execution_count": null,
      "outputs": [
        {
          "output_type": "stream",
          "name": "stdout",
          "text": [
            "january\n",
            "february\n",
            "march\n",
            "may\n"
          ]
        }
      ]
    },
    {
      "cell_type": "code",
      "source": [
        "range(5)"
      ],
      "metadata": {
        "colab": {
          "base_uri": "https://localhost:8080/"
        },
        "id": "E_ZcBLj58uwO",
        "outputId": "914d20b7-fc2e-48e3-8c6b-a1d4659bbfcc"
      },
      "execution_count": null,
      "outputs": [
        {
          "output_type": "execute_result",
          "data": {
            "text/plain": [
              "range(0, 5)"
            ]
          },
          "metadata": {},
          "execution_count": 17
        }
      ]
    },
    {
      "cell_type": "code",
      "source": [
        "list(range(5))"
      ],
      "metadata": {
        "colab": {
          "base_uri": "https://localhost:8080/"
        },
        "id": "673Zdtp8J_3f",
        "outputId": "939b128b-e52e-43f9-d3d4-1a6f204a31f0"
      },
      "execution_count": null,
      "outputs": [
        {
          "output_type": "execute_result",
          "data": {
            "text/plain": [
              "[0, 1, 2, 3, 4]"
            ]
          },
          "metadata": {},
          "execution_count": 18
        }
      ]
    },
    {
      "cell_type": "code",
      "source": [
        "list(range(0, 20, 2))"
      ],
      "metadata": {
        "colab": {
          "base_uri": "https://localhost:8080/"
        },
        "id": "7xab4tQWKCKm",
        "outputId": "20615cbe-3b66-4c44-aa03-0dfcccf35f90"
      },
      "execution_count": null,
      "outputs": [
        {
          "output_type": "execute_result",
          "data": {
            "text/plain": [
              "[0, 2, 4, 6, 8, 10, 12, 14, 16, 18]"
            ]
          },
          "metadata": {},
          "execution_count": 19
        }
      ]
    },
    {
      "cell_type": "code",
      "source": [
        "list(range(-10, 0, 2))"
      ],
      "metadata": {
        "colab": {
          "base_uri": "https://localhost:8080/"
        },
        "id": "Tra39bbOKFDn",
        "outputId": "c1793ea4-ee81-41e8-f560-fbb70d41eb9c"
      },
      "execution_count": null,
      "outputs": [
        {
          "output_type": "execute_result",
          "data": {
            "text/plain": [
              "[-10, -8, -6, -4, -2]"
            ]
          },
          "metadata": {},
          "execution_count": 20
        }
      ]
    },
    {
      "cell_type": "code",
      "source": [
        "l"
      ],
      "metadata": {
        "colab": {
          "base_uri": "https://localhost:8080/"
        },
        "id": "rMcPqJUaKJus",
        "outputId": "1e5d5ee2-d96f-4aca-8c0c-9dbb1ed6e45b"
      },
      "execution_count": null,
      "outputs": [
        {
          "output_type": "execute_result",
          "data": {
            "text/plain": [
              "['january', 'february', 'march', 'april', 'may']"
            ]
          },
          "metadata": {},
          "execution_count": 21
        }
      ]
    },
    {
      "cell_type": "code",
      "source": [
        "list(range(len(l)))"
      ],
      "metadata": {
        "colab": {
          "base_uri": "https://localhost:8080/"
        },
        "id": "2Jqw5f6mKMsh",
        "outputId": "e5989b69-9e24-4d28-bc96-6349643ef126"
      },
      "execution_count": null,
      "outputs": [
        {
          "output_type": "execute_result",
          "data": {
            "text/plain": [
              "[0, 1, 2, 3, 4]"
            ]
          },
          "metadata": {},
          "execution_count": 22
        }
      ]
    },
    {
      "cell_type": "code",
      "source": [
        "for i in range(len(l)): ##data in forward order\n",
        "  print(l[i])"
      ],
      "metadata": {
        "colab": {
          "base_uri": "https://localhost:8080/"
        },
        "id": "Ri7lpXkrKXKH",
        "outputId": "25ff575e-4ec0-4394-bf03-30d0e55c6ce5"
      },
      "execution_count": null,
      "outputs": [
        {
          "output_type": "stream",
          "name": "stdout",
          "text": [
            "january\n",
            "february\n",
            "march\n",
            "april\n",
            "may\n"
          ]
        }
      ]
    },
    {
      "cell_type": "code",
      "source": [
        "list(range(len(l)-1, -1, -1))"
      ],
      "metadata": {
        "colab": {
          "base_uri": "https://localhost:8080/"
        },
        "id": "cG3xTOpvLHtu",
        "outputId": "696d9a7c-f27b-4910-f55f-9892b7cb4d1a"
      },
      "execution_count": null,
      "outputs": [
        {
          "output_type": "execute_result",
          "data": {
            "text/plain": [
              "[4, 3, 2, 1, 0]"
            ]
          },
          "metadata": {},
          "execution_count": 24
        }
      ]
    },
    {
      "cell_type": "code",
      "source": [
        "for i in range(len(l)-1, -1, -1): ##data in reverse order\n",
        "  print(l[i])"
      ],
      "metadata": {
        "colab": {
          "base_uri": "https://localhost:8080/"
        },
        "id": "BKECOPmHKdlP",
        "outputId": "d209a413-3583-41de-bc6c-dfc64fceaa8c"
      },
      "execution_count": null,
      "outputs": [
        {
          "output_type": "stream",
          "name": "stdout",
          "text": [
            "may\n",
            "april\n",
            "march\n",
            "february\n",
            "january\n"
          ]
        }
      ]
    },
    {
      "cell_type": "code",
      "source": [
        "l2 = [1, 33, 45, 64, 644, 62, 23, 43, 64, 75, 70]"
      ],
      "metadata": {
        "id": "Bfo9jpk6K7sR"
      },
      "execution_count": null,
      "outputs": []
    },
    {
      "cell_type": "code",
      "source": [
        "list(range(0, len(l2), 2))"
      ],
      "metadata": {
        "colab": {
          "base_uri": "https://localhost:8080/"
        },
        "id": "FxPzFNGvL3V6",
        "outputId": "ea29edb6-13ca-4aed-d506-0efe3e8fe624"
      },
      "execution_count": null,
      "outputs": [
        {
          "output_type": "execute_result",
          "data": {
            "text/plain": [
              "[0, 2, 4, 6, 8, 10]"
            ]
          },
          "metadata": {},
          "execution_count": 27
        }
      ]
    },
    {
      "cell_type": "code",
      "source": [
        "for i in range(0, len(l2), 2): ##printing the even number in order\n",
        "  print(l2[i])"
      ],
      "metadata": {
        "colab": {
          "base_uri": "https://localhost:8080/"
        },
        "id": "TaO5QnNpMBkL",
        "outputId": "2665c78d-ccfe-43c0-f252-5d6efaf249e2"
      },
      "execution_count": null,
      "outputs": [
        {
          "output_type": "stream",
          "name": "stdout",
          "text": [
            "1\n",
            "45\n",
            "644\n",
            "23\n",
            "64\n",
            "70\n"
          ]
        }
      ]
    },
    {
      "cell_type": "code",
      "source": [
        "##summation of elements\n",
        "l3 = [23, 4, 26, 66, 4, 77, 76, 55]\n"
      ],
      "metadata": {
        "id": "2JrVvfH9MH2X"
      },
      "execution_count": null,
      "outputs": []
    },
    {
      "cell_type": "code",
      "source": [
        "result = 0\n",
        "\n",
        "for i in l3:\n",
        "  result = result + i\n",
        "print(result)"
      ],
      "metadata": {
        "colab": {
          "base_uri": "https://localhost:8080/"
        },
        "id": "9XC3Inx5MgYD",
        "outputId": "850e3b6c-742e-479d-eb45-45fb495b1c36"
      },
      "execution_count": null,
      "outputs": [
        {
          "output_type": "stream",
          "name": "stdout",
          "text": [
            "331\n"
          ]
        }
      ]
    },
    {
      "cell_type": "code",
      "source": [
        "t = (1, 2, 3, 4, 4, 5)"
      ],
      "metadata": {
        "id": "Zzi4OO-CMqqi"
      },
      "execution_count": null,
      "outputs": []
    },
    {
      "cell_type": "code",
      "source": [
        "result = 0\n",
        "for i in t:\n",
        "  result += i\n",
        "print(result)"
      ],
      "metadata": {
        "colab": {
          "base_uri": "https://localhost:8080/"
        },
        "id": "1ojUBGX9NVG-",
        "outputId": "9367f5a1-470e-4c4a-c74a-43282353a73f"
      },
      "execution_count": null,
      "outputs": [
        {
          "output_type": "stream",
          "name": "stdout",
          "text": [
            "19\n"
          ]
        }
      ]
    },
    {
      "cell_type": "code",
      "source": [
        "d = {\"name\" : \"sudh\", \"class\" : \"data science\", \"topic\" : [\"python\", \"machine learning\", \"DL\", \"NLP\", 'CV ']}"
      ],
      "metadata": {
        "id": "l9kFajliNdHw"
      },
      "execution_count": null,
      "outputs": []
    },
    {
      "cell_type": "code",
      "source": [
        "d.keys()"
      ],
      "metadata": {
        "colab": {
          "base_uri": "https://localhost:8080/"
        },
        "id": "GBbd8QOON6ik",
        "outputId": "51916884-450c-4446-92eb-a93e478cd669"
      },
      "execution_count": null,
      "outputs": [
        {
          "output_type": "execute_result",
          "data": {
            "text/plain": [
              "dict_keys(['name', 'class', 'topic'])"
            ]
          },
          "metadata": {},
          "execution_count": 34
        }
      ]
    },
    {
      "cell_type": "code",
      "source": [
        "for i in d.keys():\n",
        "  print(d[i])"
      ],
      "metadata": {
        "colab": {
          "base_uri": "https://localhost:8080/"
        },
        "id": "tzMwLQIXN85l",
        "outputId": "c6a3c1f3-1f4c-4073-a836-f5c4045351a9"
      },
      "execution_count": null,
      "outputs": [
        {
          "output_type": "stream",
          "name": "stdout",
          "text": [
            "sudh\n",
            "data science\n",
            "['python', 'machine learning', 'DL', 'NLP', 'CV ']\n"
          ]
        }
      ]
    },
    {
      "cell_type": "code",
      "source": [
        "d.items() #elements in form of tuple"
      ],
      "metadata": {
        "colab": {
          "base_uri": "https://localhost:8080/"
        },
        "id": "s-4KHWxyOC0m",
        "outputId": "c37001c1-22cc-4366-b6af-7982679ca9c5"
      },
      "execution_count": null,
      "outputs": [
        {
          "output_type": "execute_result",
          "data": {
            "text/plain": [
              "dict_items([('name', 'sudh'), ('class', 'data science'), ('topic', ['python', 'machine learning', 'DL', 'NLP', 'CV '])])"
            ]
          },
          "metadata": {},
          "execution_count": 36
        }
      ]
    },
    {
      "cell_type": "markdown",
      "source": [
        "#While Loop"
      ],
      "metadata": {
        "id": "FUs1Ac1PDUBE"
      }
    },
    {
      "cell_type": "code",
      "source": [
        "a = 1\n",
        "while a <= 10:\n",
        "  print(a)\n",
        "  a = a + 1"
      ],
      "metadata": {
        "id": "Sxd8vHnIORn0",
        "colab": {
          "base_uri": "https://localhost:8080/"
        },
        "outputId": "a5347c86-c31a-45e9-9f00-7ea5344abcbc"
      },
      "execution_count": null,
      "outputs": [
        {
          "output_type": "stream",
          "name": "stdout",
          "text": [
            "1\n",
            "2\n",
            "3\n",
            "4\n",
            "5\n",
            "6\n",
            "7\n",
            "8\n",
            "9\n",
            "10\n"
          ]
        }
      ]
    },
    {
      "cell_type": "markdown",
      "source": [
        "sum up the number till some point"
      ],
      "metadata": {
        "id": "KtSa-2TwD2OJ"
      }
    },
    {
      "cell_type": "code",
      "source": [
        "n = int(input(\"Enter you limit: \"))\n",
        "start = 0\n",
        "counter = 1\n",
        "\n",
        "while counter <= n:\n",
        "  start = start + counter\n",
        "  counter += 1\n",
        "start"
      ],
      "metadata": {
        "colab": {
          "base_uri": "https://localhost:8080/"
        },
        "id": "K2-_epq-Dv_C",
        "outputId": "2f50208b-b4f6-4e2c-e990-4cc0302f4d5b"
      },
      "execution_count": null,
      "outputs": [
        {
          "name": "stdout",
          "output_type": "stream",
          "text": [
            "Enter you limit: 5\n"
          ]
        },
        {
          "output_type": "execute_result",
          "data": {
            "text/plain": [
              "15"
            ]
          },
          "metadata": {},
          "execution_count": 42
        }
      ]
    },
    {
      "cell_type": "markdown",
      "source": [
        "Factorial of number"
      ],
      "metadata": {
        "id": "dGsFcT9VEvUY"
      }
    },
    {
      "cell_type": "code",
      "source": [
        "num = int(input(\"Enter your limit number: \"))\n",
        "factorial = 1\n",
        "\n",
        "while num > 0: #can't calculate factorial of -ve number\n",
        "  factorial *= num\n",
        "  num -= 1\n",
        "factorial"
      ],
      "metadata": {
        "colab": {
          "base_uri": "https://localhost:8080/"
        },
        "id": "9zS-8-iGEuUp",
        "outputId": "f60333a1-c10e-4440-f643-5193240db7db"
      },
      "execution_count": null,
      "outputs": [
        {
          "name": "stdout",
          "output_type": "stream",
          "text": [
            "Enter your limit number: 5\n"
          ]
        },
        {
          "output_type": "execute_result",
          "data": {
            "text/plain": [
              "120"
            ]
          },
          "metadata": {},
          "execution_count": 45
        }
      ]
    },
    {
      "cell_type": "markdown",
      "source": [
        "Fibonacci Series"
      ],
      "metadata": {
        "id": "8YH50AO_F01W"
      }
    },
    {
      "cell_type": "code",
      "source": [
        "num = int(input(\"Enter number upto required limit: \"))\n",
        "a, b = 0, 1\n",
        "counter = 0\n",
        "\n",
        "while counter < num:\n",
        "  print(a)\n",
        "  c = a + b\n",
        "  a = b\n",
        "  b = c\n",
        "  counter += 1"
      ],
      "metadata": {
        "colab": {
          "base_uri": "https://localhost:8080/"
        },
        "id": "oTcAx0ffEm5D",
        "outputId": "d48b7324-634e-4ed4-d815-6e946612c2eb"
      },
      "execution_count": null,
      "outputs": [
        {
          "output_type": "stream",
          "name": "stdout",
          "text": [
            "Enter number upto required limit: 10\n",
            "0\n",
            "1\n",
            "1\n",
            "2\n",
            "3\n",
            "5\n",
            "8\n",
            "13\n",
            "21\n",
            "34\n"
          ]
        }
      ]
    },
    {
      "cell_type": "code",
      "source": [
        "a, b = 0, 1\n",
        "\n",
        "for i in range(10):\n",
        "  print(a)\n",
        "  c = a + b\n",
        "  a = b\n",
        "  b = c"
      ],
      "metadata": {
        "colab": {
          "base_uri": "https://localhost:8080/"
        },
        "id": "OpxdzRVkHVtz",
        "outputId": "4ff10728-2c63-46dc-f10b-d9d13ca6a004"
      },
      "execution_count": null,
      "outputs": [
        {
          "output_type": "stream",
          "name": "stdout",
          "text": [
            "0\n",
            "1\n",
            "1\n",
            "2\n",
            "3\n",
            "5\n",
            "8\n",
            "13\n",
            "21\n",
            "34\n"
          ]
        }
      ]
    },
    {
      "cell_type": "code",
      "source": [
        "word = input(\"Enter your word for reverse: \")\n",
        "\n",
        "reverse = \"\"\n",
        "length = len(word)\n",
        "\n",
        "while length > 0:\n",
        "  reverse += word[length - 1]\n",
        "  length -= 1\n",
        "reverse"
      ],
      "metadata": {
        "colab": {
          "base_uri": "https://localhost:8080/",
          "height": 53
        },
        "id": "IUBjCXjlJD5z",
        "outputId": "b9c8fb4c-0f34-4d70-e2a1-8375197dc511"
      },
      "execution_count": null,
      "outputs": [
        {
          "name": "stdout",
          "output_type": "stream",
          "text": [
            "Enter your word for reverse: sudnih\n"
          ]
        },
        {
          "output_type": "execute_result",
          "data": {
            "text/plain": [
              "'hindus'"
            ],
            "application/vnd.google.colaboratory.intrinsic+json": {
              "type": "string"
            }
          },
          "metadata": {},
          "execution_count": 50
        }
      ]
    },
    {
      "cell_type": "code",
      "source": [
        "word = input(\"Enter the word: \")\n",
        "reverse = \"\"\n",
        "\n",
        "for i in word:\n",
        "  reverse = i + reverse\n",
        "reverse"
      ],
      "metadata": {
        "colab": {
          "base_uri": "https://localhost:8080/",
          "height": 53
        },
        "id": "8vxmtkI4KwXl",
        "outputId": "94d9ac64-6a09-496b-ba9f-25b468474e46"
      },
      "execution_count": null,
      "outputs": [
        {
          "name": "stdout",
          "output_type": "stream",
          "text": [
            "Enter the word: python\n"
          ]
        },
        {
          "output_type": "execute_result",
          "data": {
            "text/plain": [
              "'nohtyp'"
            ],
            "application/vnd.google.colaboratory.intrinsic+json": {
              "type": "string"
            }
          },
          "metadata": {},
          "execution_count": 64
        }
      ]
    },
    {
      "cell_type": "markdown",
      "source": [
        "printing the table of numbers"
      ],
      "metadata": {
        "id": "XrfhAinJOpaW"
      }
    },
    {
      "cell_type": "code",
      "source": [
        "num = int(input(\"Enter your number: \"))\n",
        "i = 1\n",
        "\n",
        "while i <= 10:\n",
        "  result = i * num\n",
        "  print(num, \"*\", i, \"=\", result)\n",
        "  i += 1"
      ],
      "metadata": {
        "colab": {
          "base_uri": "https://localhost:8080/"
        },
        "id": "Ldftkt9DMIi8",
        "outputId": "55d40588-b9bc-4e7d-8a09-89486a69af73"
      },
      "execution_count": null,
      "outputs": [
        {
          "output_type": "stream",
          "name": "stdout",
          "text": [
            "Enter your number: 2\n",
            "2 * 1 = 2\n",
            "2 * 2 = 4\n",
            "2 * 3 = 6\n",
            "2 * 4 = 8\n",
            "2 * 5 = 10\n",
            "2 * 6 = 12\n",
            "2 * 7 = 14\n",
            "2 * 8 = 16\n",
            "2 * 9 = 18\n",
            "2 * 10 = 20\n"
          ]
        }
      ]
    },
    {
      "cell_type": "code",
      "source": [
        "num = int(input(\"Enter your number: \"))\n",
        "\n",
        "for i in range(11):\n",
        "  if i == 0:\n",
        "    continue\n",
        "  result = i * num\n",
        "  print(num, \"*\", i, \"=\", result)"
      ],
      "metadata": {
        "colab": {
          "base_uri": "https://localhost:8080/"
        },
        "id": "sQzofxOwPxmx",
        "outputId": "cacd9cf4-8fa3-4a97-889c-5087ad6ee2b6"
      },
      "execution_count": null,
      "outputs": [
        {
          "output_type": "stream",
          "name": "stdout",
          "text": [
            "Enter your number: 2\n",
            "2 * 1 = 2\n",
            "2 * 2 = 4\n",
            "2 * 3 = 6\n",
            "2 * 4 = 8\n",
            "2 * 5 = 10\n",
            "2 * 6 = 12\n",
            "2 * 7 = 14\n",
            "2 * 8 = 16\n",
            "2 * 9 = 18\n",
            "2 * 10 = 20\n"
          ]
        }
      ]
    },
    {
      "cell_type": "markdown",
      "source": [
        "#Comprehension"
      ],
      "metadata": {
        "id": "HKeKDDYkSVH2"
      }
    },
    {
      "cell_type": "code",
      "source": [
        "#square of list\n",
        "l = [1, 2, 3, 4, 5, 6]\n",
        "l1 = []\n",
        "\n",
        "for i in l:\n",
        "  l1.append(i**2)\n",
        "l1"
      ],
      "metadata": {
        "colab": {
          "base_uri": "https://localhost:8080/"
        },
        "id": "YU-maRcqSUYn",
        "outputId": "7cb091f0-5bf8-4262-f154-514756bd1031"
      },
      "execution_count": null,
      "outputs": [
        {
          "output_type": "execute_result",
          "data": {
            "text/plain": [
              "[1, 4, 9, 16, 25, 36]"
            ]
          },
          "metadata": {},
          "execution_count": 77
        }
      ]
    },
    {
      "cell_type": "code",
      "source": [
        "##comprehension way\n",
        "l3 = [i**2 for i in l]"
      ],
      "metadata": {
        "id": "LpXMUnulQH3m"
      },
      "execution_count": null,
      "outputs": []
    },
    {
      "cell_type": "code",
      "source": [
        "l3"
      ],
      "metadata": {
        "colab": {
          "base_uri": "https://localhost:8080/"
        },
        "id": "bO6pSGfMS_sO",
        "outputId": "a83aaf75-2f98-402d-9f00-7d131fb3fd29"
      },
      "execution_count": null,
      "outputs": [
        {
          "output_type": "execute_result",
          "data": {
            "text/plain": [
              "[1, 4, 9, 16, 25, 36]"
            ]
          },
          "metadata": {},
          "execution_count": 80
        }
      ]
    },
    {
      "cell_type": "code",
      "source": [
        "# finding even number\n",
        "[i for i in l if i%2 == 0]"
      ],
      "metadata": {
        "colab": {
          "base_uri": "https://localhost:8080/"
        },
        "id": "f5EU_ywfTEUn",
        "outputId": "a8ff7f0f-4e85-4412-c89b-dc84426c91b6"
      },
      "execution_count": null,
      "outputs": [
        {
          "output_type": "execute_result",
          "data": {
            "text/plain": [
              "[2, 4, 6]"
            ]
          },
          "metadata": {},
          "execution_count": 81
        }
      ]
    },
    {
      "cell_type": "code",
      "source": [
        "l1 = [\"january\", \"february\", \"march\", \"april\"]"
      ],
      "metadata": {
        "id": "_KgPNr_GTrYH"
      },
      "execution_count": null,
      "outputs": []
    },
    {
      "cell_type": "code",
      "source": [
        "[i.upper() for i in l1]"
      ],
      "metadata": {
        "colab": {
          "base_uri": "https://localhost:8080/"
        },
        "id": "LpaouOjJT17a",
        "outputId": "a0a59692-743e-4041-cfe8-1c36f8c8e27b"
      },
      "execution_count": null,
      "outputs": [
        {
          "output_type": "execute_result",
          "data": {
            "text/plain": [
              "['JANUARY', 'FEBRUARY', 'MARCH', 'APRIL']"
            ]
          },
          "metadata": {},
          "execution_count": 83
        }
      ]
    },
    {
      "cell_type": "code",
      "source": [
        " ## tuple comprehension\n",
        "list(i**2 for i in l)"
      ],
      "metadata": {
        "colab": {
          "base_uri": "https://localhost:8080/"
        },
        "id": "5xUv742fT7ir",
        "outputId": "73c4f2c8-464d-40c0-b81e-aa119e914d10"
      },
      "execution_count": null,
      "outputs": [
        {
          "output_type": "execute_result",
          "data": {
            "text/plain": [
              "[1, 4, 9, 16, 25, 36]"
            ]
          },
          "metadata": {},
          "execution_count": 92
        }
      ]
    },
    {
      "cell_type": "code",
      "source": [
        "## dict comprehension\n",
        "d = {\"key1\":1, \"key2\":2, \"key3\":3, \"key4\":4}"
      ],
      "metadata": {
        "id": "XrwKlkuDUUWI"
      },
      "execution_count": null,
      "outputs": []
    },
    {
      "cell_type": "code",
      "source": [
        "{k:v**2 for k, v in d.items()}"
      ],
      "metadata": {
        "colab": {
          "base_uri": "https://localhost:8080/"
        },
        "id": "aPtFMnooU0VP",
        "outputId": "bb2325ef-752e-4849-ab17-5d92877b6b16"
      },
      "execution_count": null,
      "outputs": [
        {
          "output_type": "execute_result",
          "data": {
            "text/plain": [
              "{'key1': 1, 'key2': 4, 'key3': 9, 'key4': 16}"
            ]
          },
          "metadata": {},
          "execution_count": 89
        }
      ]
    },
    {
      "cell_type": "code",
      "source": [
        "d"
      ],
      "metadata": {
        "colab": {
          "base_uri": "https://localhost:8080/"
        },
        "id": "2TE3v0y9VIVb",
        "outputId": "b80ada8f-5b15-4a99-d031-ef82d3560dee"
      },
      "execution_count": null,
      "outputs": [
        {
          "output_type": "execute_result",
          "data": {
            "text/plain": [
              "{'key1': 1, 'key2': 2, 'key3': 3, 'key4': 4}"
            ]
          },
          "metadata": {},
          "execution_count": 93
        }
      ]
    },
    {
      "cell_type": "code",
      "source": [
        "{k: v for k, v in d.items() if v > 1}"
      ],
      "metadata": {
        "colab": {
          "base_uri": "https://localhost:8080/"
        },
        "id": "a49r52B9VUcm",
        "outputId": "0ed4af9f-4737-4379-a714-1e7650a610cd"
      },
      "execution_count": null,
      "outputs": [
        {
          "output_type": "execute_result",
          "data": {
            "text/plain": [
              "{'key2': 2, 'key3': 3, 'key4': 4}"
            ]
          },
          "metadata": {},
          "execution_count": 95
        }
      ]
    },
    {
      "cell_type": "markdown",
      "source": [
        "## Polymorphism\n",
        "- Diffrent or multiplebehavior in diffrent kind of situations"
      ],
      "metadata": {
        "id": "rw05rPlNE2h0"
      }
    },
    {
      "cell_type": "code",
      "source": [
        "#function is same but behave diffent at diffrent situation\n",
        "def test(a, b):\n",
        "  return a + b"
      ],
      "metadata": {
        "id": "PGQMRJjvViDq"
      },
      "execution_count": null,
      "outputs": []
    },
    {
      "cell_type": "code",
      "source": [
        "test(3, 4)"
      ],
      "metadata": {
        "colab": {
          "base_uri": "https://localhost:8080/"
        },
        "id": "JBOqOXOsFQV2",
        "outputId": "6fffa9f2-98c0-4b0b-8302-d25614c34131"
      },
      "execution_count": null,
      "outputs": [
        {
          "output_type": "execute_result",
          "data": {
            "text/plain": [
              "7"
            ]
          },
          "metadata": {},
          "execution_count": 3
        }
      ]
    },
    {
      "cell_type": "code",
      "source": [
        "test(\"mumbai\", \" Pune\")"
      ],
      "metadata": {
        "colab": {
          "base_uri": "https://localhost:8080/",
          "height": 36
        },
        "id": "m-ALmmnkFV5p",
        "outputId": "0ee06f2c-6cb1-4707-e043-c4b2f5c8c509"
      },
      "execution_count": null,
      "outputs": [
        {
          "output_type": "execute_result",
          "data": {
            "text/plain": [
              "'mumbai Pune'"
            ],
            "application/vnd.google.colaboratory.intrinsic+json": {
              "type": "string"
            }
          },
          "metadata": {},
          "execution_count": 4
        }
      ]
    },
    {
      "cell_type": "code",
      "source": [
        "test([1, 2, 3, 4], [5, 6, 7, 8])"
      ],
      "metadata": {
        "colab": {
          "base_uri": "https://localhost:8080/"
        },
        "id": "gx31iPyiFaKe",
        "outputId": "2a898155-7138-4f58-c1ef-17cd57893c81"
      },
      "execution_count": null,
      "outputs": [
        {
          "output_type": "execute_result",
          "data": {
            "text/plain": [
              "[1, 2, 3, 4, 5, 6, 7, 8]"
            ]
          },
          "metadata": {},
          "execution_count": 5
        }
      ]
    },
    {
      "cell_type": "code",
      "source": [
        "class data_science:\n",
        "\n",
        "  def syllabus(self):\n",
        "    print(\"This is my data science syllabus\")"
      ],
      "metadata": {
        "id": "GSONfKPTFee0"
      },
      "execution_count": null,
      "outputs": []
    },
    {
      "cell_type": "code",
      "source": [
        "class web_dev:\n",
        "\n",
        "  def syllabus(self):\n",
        "    print(\"This is web dev syllabus\")"
      ],
      "metadata": {
        "id": "D05eF4LjF0qd"
      },
      "execution_count": null,
      "outputs": []
    },
    {
      "cell_type": "code",
      "source": [
        "## it behaves like polymorphism - one function behaves diffrent at diffrent situations\n",
        "def class_parcer(class_obj):\n",
        "  for i in class_obj:\n",
        "    i.syllabus()"
      ],
      "metadata": {
        "id": "LBjAATFDF-KU"
      },
      "execution_count": null,
      "outputs": []
    },
    {
      "cell_type": "code",
      "source": [
        "data_science = data_science()\n",
        "web_dev = web_dev()"
      ],
      "metadata": {
        "id": "H9HcMpJ9GLN3"
      },
      "execution_count": null,
      "outputs": []
    },
    {
      "cell_type": "code",
      "source": [
        "class_obj = [data_science, web_dev]"
      ],
      "metadata": {
        "id": "VVud5Z5WGRZW"
      },
      "execution_count": null,
      "outputs": []
    },
    {
      "cell_type": "code",
      "source": [
        "class_parcer(class_obj)"
      ],
      "metadata": {
        "colab": {
          "base_uri": "https://localhost:8080/"
        },
        "id": "0M8SZFlKGWnn",
        "outputId": "43eebf8c-cbbd-4c0d-f6a2-1575b8ecd964"
      },
      "execution_count": null,
      "outputs": [
        {
          "output_type": "stream",
          "name": "stdout",
          "text": [
            "This is my data science syllabus\n",
            "This is web dev syllabus\n"
          ]
        }
      ]
    },
    {
      "cell_type": "code",
      "source": [],
      "metadata": {
        "id": "vr9Tdm06Gb74"
      },
      "execution_count": null,
      "outputs": []
    }
  ]
}