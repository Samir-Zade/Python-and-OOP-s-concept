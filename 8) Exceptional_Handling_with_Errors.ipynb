{
  "nbformat": 4,
  "nbformat_minor": 0,
  "metadata": {
    "colab": {
      "provenance": []
    },
    "kernelspec": {
      "name": "python3",
      "display_name": "Python 3"
    },
    "language_info": {
      "name": "python"
    }
  },
  "cells": [
    {
      "cell_type": "markdown",
      "source": [
        "### Exceptional Handling with\n",
        "1) Try\n",
        "\n",
        "2) Except\n",
        "\n",
        "3) Else\n",
        "\n",
        "4)Finally"
      ],
      "metadata": {
        "id": "tHETapAYL1ZL"
      }
    },
    {
      "cell_type": "code",
      "source": [
        "a = 10"
      ],
      "metadata": {
        "id": "gI5-9RQD9GZc"
      },
      "execution_count": null,
      "outputs": []
    },
    {
      "cell_type": "code",
      "source": [
        "a/0"
      ],
      "metadata": {
        "colab": {
          "base_uri": "https://localhost:8080/",
          "height": 141
        },
        "id": "zXt1FFngH9-R",
        "outputId": "ea24319f-cc02-4ad0-9afb-92644f91a0fe"
      },
      "execution_count": null,
      "outputs": [
        {
          "output_type": "error",
          "ename": "ZeroDivisionError",
          "evalue": "division by zero",
          "traceback": [
            "\u001b[0;31m---------------------------------------------------------------------------\u001b[0m",
            "\u001b[0;31mZeroDivisionError\u001b[0m                         Traceback (most recent call last)",
            "\u001b[0;32m<ipython-input-2-deacdc4ccabc>\u001b[0m in \u001b[0;36m<cell line: 1>\u001b[0;34m()\u001b[0m\n\u001b[0;32m----> 1\u001b[0;31m \u001b[0ma\u001b[0m\u001b[0;34m/\u001b[0m\u001b[0;36m0\u001b[0m\u001b[0;34m\u001b[0m\u001b[0;34m\u001b[0m\u001b[0m\n\u001b[0m",
            "\u001b[0;31mZeroDivisionError\u001b[0m: division by zero"
          ]
        }
      ]
    },
    {
      "cell_type": "code",
      "source": [
        "##to handle with the errors we used exception handling"
      ],
      "metadata": {
        "id": "SCPYl5fZIiGo"
      },
      "execution_count": null,
      "outputs": []
    },
    {
      "cell_type": "code",
      "source": [
        "f = open(\"test.txt\", 'r')"
      ],
      "metadata": {
        "id": "euggFIEuI2es"
      },
      "execution_count": null,
      "outputs": []
    },
    {
      "cell_type": "code",
      "source": [
        "try:\n",
        "  f = open(\"test.txt\", 'r')\n",
        "except Exception as e:\n",
        "  print(\"this is except block\", e)\n",
        "\n",
        "a = 5+4\n",
        "a"
      ],
      "metadata": {
        "colab": {
          "base_uri": "https://localhost:8080/"
        },
        "id": "RK8WeeGaJAFq",
        "outputId": "6bafa720-7435-49c7-f805-2de1fe4482f3"
      },
      "execution_count": null,
      "outputs": [
        {
          "output_type": "execute_result",
          "data": {
            "text/plain": [
              "9"
            ]
          },
          "metadata": {},
          "execution_count": 5
        }
      ]
    },
    {
      "cell_type": "code",
      "source": [
        "try:\n",
        "  f = open(\"test.txt\", 'w')\n",
        "except Exception as e:\n",
        "  print(\"this is except block\", e)"
      ],
      "metadata": {
        "id": "z-CIl56QbPGz"
      },
      "execution_count": null,
      "outputs": []
    },
    {
      "cell_type": "code",
      "source": [
        "#'write block' will create a file and 'write' in it, so there is need of try block\n",
        "try:\n",
        "  f = open(\"test.txt\", 'w')\n",
        "  f.write(\"write into my file\")\n",
        "  f.close()\n",
        "except Exception as e:\n",
        "  print(\"this is except block\", e)"
      ],
      "metadata": {
        "id": "GPxwj6UPJL0C"
      },
      "execution_count": null,
      "outputs": []
    },
    {
      "cell_type": "code",
      "source": [
        "try:\n",
        "  f = open(\"test1.txt\", 'w')\n",
        "  f.write(\"write into my file\")\n",
        "except Exception as e:\n",
        "  print(\"this is except block\", e)\n",
        "else:\n",
        "  f.close()\n",
        "  print(\"this will executed once your try block excute\")"
      ],
      "metadata": {
        "colab": {
          "base_uri": "https://localhost:8080/"
        },
        "id": "Am2pyRKXJeJU",
        "outputId": "c443357f-cf20-469d-d9f7-18a5b13c1b0a"
      },
      "execution_count": null,
      "outputs": [
        {
          "output_type": "stream",
          "name": "stdout",
          "text": [
            "this will executed once your try block excute\n"
          ]
        }
      ]
    },
    {
      "cell_type": "code",
      "source": [
        "try:\n",
        "  f = open(\"test2.txt\", 'r')\n",
        "  f.write(\"write into my file\")\n",
        "except Exception as e:\n",
        "  print(\"this is except block\", e)\n",
        "else:\n",
        "  f.close()\n",
        "  print(\"this will executed once your try block excute\")"
      ],
      "metadata": {
        "colab": {
          "base_uri": "https://localhost:8080/"
        },
        "id": "Sizc3YzMKRkp",
        "outputId": "c0e8cee7-7681-48dd-ba4a-0c2db4e5e1dd"
      },
      "execution_count": null,
      "outputs": [
        {
          "output_type": "stream",
          "name": "stdout",
          "text": [
            "this is except block not writable\n"
          ]
        }
      ]
    },
    {
      "cell_type": "code",
      "source": [
        "try:\n",
        "  f = open(\"test2.txt\", 'w')\n",
        "  f.write(\"write into my file\")\n",
        "except Exception as e:\n",
        "  print(\"this is except block\", e)\n",
        "else:\n",
        "  f.close()\n",
        "  print(\"this will executed once your try block excute\")"
      ],
      "metadata": {
        "colab": {
          "base_uri": "https://localhost:8080/"
        },
        "id": "3uXv9QWjKill",
        "outputId": "4883c333-0f34-4d73-97a5-6bacfb65263f"
      },
      "execution_count": null,
      "outputs": [
        {
          "output_type": "stream",
          "name": "stdout",
          "text": [
            "this will executed once your try block excute\n"
          ]
        }
      ]
    },
    {
      "cell_type": "code",
      "source": [
        "try:\n",
        "  f = open(\"test3.txt\", 'r') #no such file is exists\n",
        "  f.write(\"write something\")\n",
        "finally:\n",
        "  print(\"finally will execute itself in any situations\")"
      ],
      "metadata": {
        "colab": {
          "base_uri": "https://localhost:8080/",
          "height": 228
        },
        "id": "qi3PhcOeKyju",
        "outputId": "13a09f6e-02b1-4ba6-ad9e-167b676ea03f"
      },
      "execution_count": null,
      "outputs": [
        {
          "output_type": "stream",
          "name": "stdout",
          "text": [
            "finally will execute itself in any situations\n"
          ]
        },
        {
          "output_type": "error",
          "ename": "FileNotFoundError",
          "evalue": "[Errno 2] No such file or directory: 'test3.txt'",
          "traceback": [
            "\u001b[0;31m---------------------------------------------------------------------------\u001b[0m",
            "\u001b[0;31mFileNotFoundError\u001b[0m                         Traceback (most recent call last)",
            "\u001b[0;32m<ipython-input-11-0ded6f24599b>\u001b[0m in \u001b[0;36m<cell line: 1>\u001b[0;34m()\u001b[0m\n\u001b[1;32m      1\u001b[0m \u001b[0;32mtry\u001b[0m\u001b[0;34m:\u001b[0m\u001b[0;34m\u001b[0m\u001b[0;34m\u001b[0m\u001b[0m\n\u001b[0;32m----> 2\u001b[0;31m   \u001b[0mf\u001b[0m \u001b[0;34m=\u001b[0m \u001b[0mopen\u001b[0m\u001b[0;34m(\u001b[0m\u001b[0;34m\"test3.txt\"\u001b[0m\u001b[0;34m,\u001b[0m \u001b[0;34m'r'\u001b[0m\u001b[0;34m)\u001b[0m \u001b[0;31m#no such file is exists\u001b[0m\u001b[0;34m\u001b[0m\u001b[0;34m\u001b[0m\u001b[0m\n\u001b[0m\u001b[1;32m      3\u001b[0m   \u001b[0mf\u001b[0m\u001b[0;34m.\u001b[0m\u001b[0mwrite\u001b[0m\u001b[0;34m(\u001b[0m\u001b[0;34m\"write something\"\u001b[0m\u001b[0;34m)\u001b[0m\u001b[0;34m\u001b[0m\u001b[0;34m\u001b[0m\u001b[0m\n\u001b[1;32m      4\u001b[0m \u001b[0;32mfinally\u001b[0m\u001b[0;34m:\u001b[0m\u001b[0;34m\u001b[0m\u001b[0;34m\u001b[0m\u001b[0m\n\u001b[1;32m      5\u001b[0m   \u001b[0mprint\u001b[0m\u001b[0;34m(\u001b[0m\u001b[0;34m\"finally will execute itself in any situations\"\u001b[0m\u001b[0;34m)\u001b[0m\u001b[0;34m\u001b[0m\u001b[0;34m\u001b[0m\u001b[0m\n",
            "\u001b[0;31mFileNotFoundError\u001b[0m: [Errno 2] No such file or directory: 'test3.txt'"
          ]
        }
      ]
    },
    {
      "cell_type": "code",
      "source": [
        "try:\n",
        "  f = open(\"test2.txt\", 'r')\n",
        "finally:\n",
        "  print(\"finally will execute itself in any situations\")"
      ],
      "metadata": {
        "colab": {
          "base_uri": "https://localhost:8080/"
        },
        "id": "fqPdrYDKdM2y",
        "outputId": "87e9f1f3-651f-4ca0-a4c8-69f0f21c96d6"
      },
      "execution_count": null,
      "outputs": [
        {
          "output_type": "stream",
          "name": "stdout",
          "text": [
            "finally will execute itself in any situations\n"
          ]
        }
      ]
    },
    {
      "cell_type": "code",
      "source": [
        "#finally will execute no matter code shows error or not"
      ],
      "metadata": {
        "id": "RbT6m84cLj0Q"
      },
      "execution_count": null,
      "outputs": []
    },
    {
      "cell_type": "markdown",
      "source": [
        "### Custom Exception Handling\n",
        "\n",
        "- exceptional handling rather than default ways"
      ],
      "metadata": {
        "id": "nm5MX51hMqoz"
      }
    },
    {
      "cell_type": "code",
      "source": [
        "age = int(input(\"Enter your age: \"))"
      ],
      "metadata": {
        "colab": {
          "base_uri": "https://localhost:8080/"
        },
        "id": "AC6yzsAkMa5B",
        "outputId": "45fa7527-4609-4492-af5b-daabbfdff73f"
      },
      "execution_count": null,
      "outputs": [
        {
          "name": "stdout",
          "output_type": "stream",
          "text": [
            "Enter your age: -33\n"
          ]
        }
      ]
    },
    {
      "cell_type": "code",
      "source": [
        "## as we enter age which is -ve but it can't be -ve\n",
        "#so for understanding let's used custom exception handling way\n",
        "\n",
        "class validateage(Exception):\n",
        "\n",
        "  def __init__(self, msg):\n",
        "    self.msg = msg"
      ],
      "metadata": {
        "id": "IwInKUHdOTEd"
      },
      "execution_count": null,
      "outputs": []
    },
    {
      "cell_type": "code",
      "source": [
        "def valid_age(age):\n",
        "  if age < 0:\n",
        "    raise validateage(\"Entered age is negative\")\n",
        "  elif age > 200:\n",
        "    raise validateage(\"Entered age is very very high\")\n",
        "  else:\n",
        "    print(\"age is valid\")"
      ],
      "metadata": {
        "id": "mqFXpimOO2e5"
      },
      "execution_count": null,
      "outputs": []
    },
    {
      "cell_type": "code",
      "source": [
        "try:\n",
        "  age = int(input(\"Enter your age: \"))\n",
        "  valid_age(age)\n",
        "except validateage as e:\n",
        "  print(e)"
      ],
      "metadata": {
        "colab": {
          "base_uri": "https://localhost:8080/"
        },
        "id": "MRv2ArKpPLfb",
        "outputId": "69ce521e-1a8c-4200-f637-ccb87c7453e7"
      },
      "execution_count": null,
      "outputs": [
        {
          "output_type": "stream",
          "name": "stdout",
          "text": [
            "Enter your age: -32\n",
            "Entered age is negative\n"
          ]
        }
      ]
    },
    {
      "cell_type": "code",
      "source": [
        "try:\n",
        "  age = int(input(\"Enter your age: \"))\n",
        "  valid_age(age)\n",
        "except validateage as e:\n",
        "  print(e)"
      ],
      "metadata": {
        "colab": {
          "base_uri": "https://localhost:8080/"
        },
        "id": "Gz3FzjTRPdTe",
        "outputId": "27b743b3-ff33-4698-d668-f9aeeb731537"
      },
      "execution_count": null,
      "outputs": [
        {
          "output_type": "stream",
          "name": "stdout",
          "text": [
            "Enter your age: 332\n",
            "Entered age is very very high\n"
          ]
        }
      ]
    },
    {
      "cell_type": "code",
      "source": [
        "try:\n",
        "  age = int(input(\"Enter your age: \"))\n",
        "  valid_age(age)\n",
        "except validateage as e:\n",
        "  print(e)"
      ],
      "metadata": {
        "colab": {
          "base_uri": "https://localhost:8080/"
        },
        "id": "iPLhfk-7P1Om",
        "outputId": "a1a37bd6-bf1d-4cfd-9430-57f95484da44"
      },
      "execution_count": null,
      "outputs": [
        {
          "output_type": "stream",
          "name": "stdout",
          "text": [
            "Enter your age: 34\n",
            "age is valid\n"
          ]
        }
      ]
    },
    {
      "cell_type": "markdown",
      "source": [
        "### General Use of Exceptions"
      ],
      "metadata": {
        "id": "2r57lOPTarAl"
      }
    },
    {
      "cell_type": "code",
      "source": [
        "#zero division error\n",
        "try:\n",
        "  a = 10/0\n",
        "except ZeroDivisionError as e:\n",
        "  print(e)"
      ],
      "metadata": {
        "id": "lwrvI1lJP24a",
        "colab": {
          "base_uri": "https://localhost:8080/"
        },
        "outputId": "3e07b97a-badc-4ff7-d02c-c4698cd53e27"
      },
      "execution_count": null,
      "outputs": [
        {
          "output_type": "stream",
          "name": "stdout",
          "text": [
            "division by zero\n"
          ]
        }
      ]
    },
    {
      "cell_type": "code",
      "source": [
        "#input has value error or type error\n",
        "try:\n",
        "  int(\"sudh\")\n",
        "except (ValueError, TypeError) as e:\n",
        "  print(e)"
      ],
      "metadata": {
        "colab": {
          "base_uri": "https://localhost:8080/"
        },
        "id": "TdiUedKxeGRP",
        "outputId": "ec8df2c9-f329-4b15-e683-ed75ae2d0b25"
      },
      "execution_count": null,
      "outputs": [
        {
          "output_type": "stream",
          "name": "stdout",
          "text": [
            "invalid literal for int() with base 10: 'sudh'\n",
            "invalid literal for int() with base 10: 'sudh'\n"
          ]
        }
      ]
    },
    {
      "cell_type": "code",
      "source": [
        "##if don't know which error may exists,\n",
        "##then use this general syntax\n",
        "try:\n",
        "  int(\"sudh\")\n",
        "except:\n",
        "  print(\"there is error in this code\")"
      ],
      "metadata": {
        "colab": {
          "base_uri": "https://localhost:8080/"
        },
        "id": "_EV2qePneWlj",
        "outputId": "b9fa02ef-a368-47db-abcd-ac1a6d6e1b71"
      },
      "execution_count": null,
      "outputs": [
        {
          "output_type": "stream",
          "name": "stdout",
          "text": [
            "there is error in this code\n"
          ]
        }
      ]
    },
    {
      "cell_type": "code",
      "source": [
        "## error while importing the libraries\n",
        "try:\n",
        "  import sudh\n",
        "except ImportError as e:\n",
        "  print(e)\n",
        "\n",
        "10/3"
      ],
      "metadata": {
        "colab": {
          "base_uri": "https://localhost:8080/"
        },
        "id": "3gqrzbUxe_R2",
        "outputId": "f659723a-1dd5-4fc9-a4ba-c6b705b541f6"
      },
      "execution_count": null,
      "outputs": [
        {
          "output_type": "stream",
          "name": "stdout",
          "text": [
            "No module named 'sudh'\n"
          ]
        },
        {
          "output_type": "execute_result",
          "data": {
            "text/plain": [
              "3.3333333333333335"
            ]
          },
          "metadata": {},
          "execution_count": 29
        }
      ]
    },
    {
      "cell_type": "code",
      "source": [
        "##key error may present in dict, list, tuple\n",
        "try:\n",
        "  d = {\"key\" : \"sudh\", 1 : [1, 2, 3, 4]}\n",
        "  print(d[\"key2\"])\n",
        "except KeyError as e:\n",
        "  print(f\"error is {e}\")"
      ],
      "metadata": {
        "colab": {
          "base_uri": "https://localhost:8080/"
        },
        "id": "bbpGZ5ukfU9Z",
        "outputId": "a0bf9bc4-eaf6-47f5-ac75-8ac9426d23d3"
      },
      "execution_count": null,
      "outputs": [
        {
          "output_type": "stream",
          "name": "stdout",
          "text": [
            "error is 'key2'\n"
          ]
        }
      ]
    },
    {
      "cell_type": "code",
      "source": [
        "## Attribute error while accessing the function from files\n",
        "try:\n",
        "  \"sudh\".test()\n",
        "except AttributeError as e:\n",
        "  print(e)"
      ],
      "metadata": {
        "colab": {
          "base_uri": "https://localhost:8080/"
        },
        "id": "QKhsu8nhfoSG",
        "outputId": "a434ab03-0291-4660-add2-d54fa84fb5e7"
      },
      "execution_count": null,
      "outputs": [
        {
          "output_type": "stream",
          "name": "stdout",
          "text": [
            "'str' object has no attribute 'test'\n"
          ]
        }
      ]
    },
    {
      "cell_type": "code",
      "source": [
        "## index error - if index out of range\n",
        "try:\n",
        "  l = [1, 2, 3, 4]\n",
        "  print(l[5])\n",
        "except IndexError as e:\n",
        "  print(e)"
      ],
      "metadata": {
        "colab": {
          "base_uri": "https://localhost:8080/"
        },
        "id": "xH3Y6x03ghlF",
        "outputId": "9f63da5a-fb57-4da7-dc88-089056df2c5f"
      },
      "execution_count": null,
      "outputs": [
        {
          "output_type": "stream",
          "name": "stdout",
          "text": [
            "list index out of range\n"
          ]
        }
      ]
    },
    {
      "cell_type": "code",
      "source": [
        "##Type error while concatanation\n",
        "try:\n",
        "  123 + 'sudh'\n",
        "except TypeError as e:\n",
        "  print(e)"
      ],
      "metadata": {
        "colab": {
          "base_uri": "https://localhost:8080/"
        },
        "id": "ZJoLZcwggvu8",
        "outputId": "58832ea8-b244-47f6-c69a-7306a40aa4f5"
      },
      "execution_count": null,
      "outputs": [
        {
          "output_type": "stream",
          "name": "stdout",
          "text": [
            "unsupported operand type(s) for +: 'int' and 'str'\n"
          ]
        }
      ]
    },
    {
      "cell_type": "code",
      "source": [
        "#if file not found in directory\n",
        "try:\n",
        "  with open(\"test.csv\", 'r') as f:\n",
        "    test = f.read()\n",
        "except FileNotFoundError as e:\n",
        "  print(e)"
      ],
      "metadata": {
        "colab": {
          "base_uri": "https://localhost:8080/"
        },
        "id": "xGnX_qxxmpgg",
        "outputId": "9c8de251-e76e-4244-97cc-c6cb67e59d5b"
      },
      "execution_count": null,
      "outputs": [
        {
          "output_type": "stream",
          "name": "stdout",
          "text": [
            "[Errno 2] No such file or directory: 'test.csv'\n"
          ]
        }
      ]
    },
    {
      "cell_type": "code",
      "source": [
        "## Bad Practice\n",
        "try:\n",
        "  with open(\"test.csv\", 'r') as f:\n",
        "    test = f.read()\n",
        "except Exception as e: #it is high genertic exception handler\n",
        "  print(e)\n",
        "except FileNotFoundError as e:\n",
        "  print(\"test \", e)"
      ],
      "metadata": {
        "colab": {
          "base_uri": "https://localhost:8080/"
        },
        "id": "Bi2kvbghm7-H",
        "outputId": "e1aeb203-d1fe-4b1d-b280-e9fc5ba52a5f"
      },
      "execution_count": null,
      "outputs": [
        {
          "output_type": "stream",
          "name": "stdout",
          "text": [
            "[Errno 2] No such file or directory: 'test.csv'\n"
          ]
        }
      ]
    },
    {
      "cell_type": "markdown",
      "source": [
        "- while writing a code with error handlers, always notice that the code must contain the generic high priority error handler at last, as it can handle all the errors so it will not give others chance to show the respective error by them."
      ],
      "metadata": {
        "id": "eXQPk3fhnzY3"
      }
    },
    {
      "cell_type": "code",
      "source": [
        "# Good Practice\n",
        "try:\n",
        "  with open(\"test.csv\", 'r') as f:\n",
        "    test = f.read()\n",
        "except FileNotFoundError as e:\n",
        "  print(\"test \", e)\n",
        "except Exception as e: #it is high genertic exception handler\n",
        "  print(e)"
      ],
      "metadata": {
        "colab": {
          "base_uri": "https://localhost:8080/"
        },
        "id": "CDex5F6WnpOG",
        "outputId": "6b3ae0b8-e44f-47d1-a8b6-38d6cd44a70d"
      },
      "execution_count": null,
      "outputs": [
        {
          "output_type": "stream",
          "name": "stdout",
          "text": [
            "test  [Errno 2] No such file or directory: 'test.csv'\n"
          ]
        }
      ]
    },
    {
      "cell_type": "markdown",
      "source": [
        "### Best Practice of Exception Handling"
      ],
      "metadata": {
        "id": "hcEVYe0joyPx"
      }
    },
    {
      "cell_type": "code",
      "source": [
        "##use always a specific exception\n",
        "#bad practice\n",
        "try:\n",
        "  10/0\n",
        "except Exception as e:\n",
        "  print(e)"
      ],
      "metadata": {
        "colab": {
          "base_uri": "https://localhost:8080/"
        },
        "id": "clrLfYS7oUrw",
        "outputId": "41945aac-227a-4a80-a8f8-c0858a764ad2"
      },
      "execution_count": null,
      "outputs": [
        {
          "output_type": "stream",
          "name": "stdout",
          "text": [
            "division by zero\n"
          ]
        }
      ]
    },
    {
      "cell_type": "code",
      "source": [
        "#Good Practice\n",
        "try:\n",
        "  10/0\n",
        "except ZeroDivisionError as e:\n",
        "  print(e)"
      ],
      "metadata": {
        "colab": {
          "base_uri": "https://localhost:8080/"
        },
        "id": "In7zctplqfhP",
        "outputId": "0c3c6dcb-5e77-4356-b26d-661bf0b27e6a"
      },
      "execution_count": null,
      "outputs": [
        {
          "output_type": "stream",
          "name": "stdout",
          "text": [
            "division by zero\n"
          ]
        }
      ]
    },
    {
      "cell_type": "code",
      "source": [
        "#print always a proper message\n",
        "try:\n",
        "  10/0\n",
        "except ZeroDivisionError as e:\n",
        "  print(\"I am trying to handle the zero division error\", e)"
      ],
      "metadata": {
        "colab": {
          "base_uri": "https://localhost:8080/"
        },
        "id": "chRcO9PMqk6i",
        "outputId": "bcb276d0-2b42-4108-d1f7-389b7c4622ba"
      },
      "execution_count": null,
      "outputs": [
        {
          "output_type": "stream",
          "name": "stdout",
          "text": [
            "I am trying to handle the zero division error division by zero\n"
          ]
        }
      ]
    },
    {
      "cell_type": "code",
      "source": [
        "#always try to log your error\n",
        "import logging\n",
        "logging.basicConfig(filename = \"/content/sample_data/error.log\", level = logging.ERROR)\n",
        "\n",
        "try:\n",
        "  10/0\n",
        "except ZeroDivisionError as e:\n",
        "  print(\"I am trying to handle the zero division error\", e)"
      ],
      "metadata": {
        "colab": {
          "base_uri": "https://localhost:8080/"
        },
        "id": "K7QO25rFq3IC",
        "outputId": "1ef7b7b7-3b00-4eb7-957d-98147941ee86"
      },
      "execution_count": null,
      "outputs": [
        {
          "output_type": "stream",
          "name": "stdout",
          "text": [
            "I am trying to handle the zero division error division by zero\n"
          ]
        }
      ]
    },
    {
      "cell_type": "code",
      "source": [
        "with open(\"/content/sample_data/error.log\", 'r') as log:\n",
        "  log_content = log.read()\n",
        "  print(log_content)"
      ],
      "metadata": {
        "colab": {
          "base_uri": "https://localhost:8080/",
          "height": 193
        },
        "id": "KOLWnzUksUJK",
        "outputId": "48e48183-f667-4128-d29a-56ff67f6a32b"
      },
      "execution_count": null,
      "outputs": [
        {
          "output_type": "error",
          "ename": "FileNotFoundError",
          "evalue": "[Errno 2] No such file or directory: '/content/sample_data/error.log'",
          "traceback": [
            "\u001b[0;31m---------------------------------------------------------------------------\u001b[0m",
            "\u001b[0;31mFileNotFoundError\u001b[0m                         Traceback (most recent call last)",
            "\u001b[0;32m<ipython-input-61-44e64f4857a5>\u001b[0m in \u001b[0;36m<cell line: 1>\u001b[0;34m()\u001b[0m\n\u001b[0;32m----> 1\u001b[0;31m \u001b[0;32mwith\u001b[0m \u001b[0mopen\u001b[0m\u001b[0;34m(\u001b[0m\u001b[0;34m\"/content/sample_data/error.log\"\u001b[0m\u001b[0;34m,\u001b[0m \u001b[0;34m'r'\u001b[0m\u001b[0;34m)\u001b[0m \u001b[0;32mas\u001b[0m \u001b[0mlog\u001b[0m\u001b[0;34m:\u001b[0m\u001b[0;34m\u001b[0m\u001b[0;34m\u001b[0m\u001b[0m\n\u001b[0m\u001b[1;32m      2\u001b[0m   \u001b[0mlog_content\u001b[0m \u001b[0;34m=\u001b[0m \u001b[0mlog\u001b[0m\u001b[0;34m.\u001b[0m\u001b[0mread\u001b[0m\u001b[0;34m(\u001b[0m\u001b[0;34m)\u001b[0m\u001b[0;34m\u001b[0m\u001b[0;34m\u001b[0m\u001b[0m\n\u001b[1;32m      3\u001b[0m   \u001b[0mprint\u001b[0m\u001b[0;34m(\u001b[0m\u001b[0mlog_content\u001b[0m\u001b[0;34m)\u001b[0m\u001b[0;34m\u001b[0m\u001b[0;34m\u001b[0m\u001b[0m\n",
            "\u001b[0;31mFileNotFoundError\u001b[0m: [Errno 2] No such file or directory: '/content/sample_data/error.log'"
          ]
        }
      ]
    },
    {
      "cell_type": "code",
      "source": [
        "#always avoid to write a multiple exception handling\n",
        "try:\n",
        "  10/0\n",
        "except FileNotFoundError as e:\n",
        "  logging.error(\"i am handling file not found {}\".format(e))\n",
        "except AttributeError as e:\n",
        "  logging.error(\"i am handling file not found {}\".format(e))\n",
        "except ZeroDivisionError as e:\n",
        "  logging.error(\"i am handling file not found {}\".format(e))\n"
      ],
      "metadata": {
        "colab": {
          "base_uri": "https://localhost:8080/"
        },
        "id": "8ELRB83quR-t",
        "outputId": "88a0ed0f-6d5e-4b1e-d3d0-15e935232647"
      },
      "execution_count": null,
      "outputs": [
        {
          "output_type": "stream",
          "name": "stderr",
          "text": [
            "ERROR:root:i am handling file not found division by zero\n"
          ]
        }
      ]
    },
    {
      "cell_type": "code",
      "source": [
        "#document all the error\n",
        "#cleanup all the resources\n",
        "try:\n",
        "  with open(\"test.txt\", 'w') as f:\n",
        "    f.write(\"this is my date of file\")\n",
        "except FileNotFoundError as e:\n",
        "  logging.error(\"i am handling file not found {}\".format(e))"
      ],
      "metadata": {
        "id": "al8vqr6Dwvib"
      },
      "execution_count": null,
      "outputs": []
    },
    {
      "cell_type": "code",
      "source": [],
      "metadata": {
        "id": "j_y7UlwaxR_u"
      },
      "execution_count": null,
      "outputs": []
    }
  ]
}