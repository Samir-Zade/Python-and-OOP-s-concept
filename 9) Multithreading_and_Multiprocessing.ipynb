{
  "nbformat": 4,
  "nbformat_minor": 0,
  "metadata": {
    "colab": {
      "provenance": []
    },
    "kernelspec": {
      "name": "python3",
      "display_name": "Python 3"
    },
    "language_info": {
      "name": "python"
    },
    "accelerator": "TPU"
  },
  "cells": [
    {
      "cell_type": "markdown",
      "source": [
        "## MultiThreading\n",
        "- Threading means execute or running multiple threads into one single process"
      ],
      "metadata": {
        "id": "07wTWrSads1U"
      }
    },
    {
      "cell_type": "code",
      "execution_count": null,
      "metadata": {
        "id": "R6YDGXY_cpDR"
      },
      "outputs": [],
      "source": [
        "import threading"
      ]
    },
    {
      "cell_type": "code",
      "source": [
        "def test(id):\n",
        "  print(\"prog start %d\"%id)"
      ],
      "metadata": {
        "id": "QJbw5fQFeLPO"
      },
      "execution_count": null,
      "outputs": []
    },
    {
      "cell_type": "code",
      "source": [
        "test(43)"
      ],
      "metadata": {
        "colab": {
          "base_uri": "https://localhost:8080/"
        },
        "id": "UYLggS1CeRb-",
        "outputId": "876d8361-0872-493f-e6d5-f644cbb4508d"
      },
      "execution_count": null,
      "outputs": [
        {
          "output_type": "stream",
          "name": "stdout",
          "text": [
            "prog start 43\n"
          ]
        }
      ]
    },
    {
      "cell_type": "code",
      "source": [
        "thread = [threading.Thread(target = test, args = (i,) ) for i in range(10)]"
      ],
      "metadata": {
        "id": "tDIaRQqueTPj"
      },
      "execution_count": null,
      "outputs": []
    },
    {
      "cell_type": "code",
      "source": [
        "for t in thread:\n",
        "  t.start()"
      ],
      "metadata": {
        "colab": {
          "base_uri": "https://localhost:8080/"
        },
        "id": "UvA0ukboe7Pa",
        "outputId": "598649c1-2e64-4a71-f115-2651fe7d4971"
      },
      "execution_count": null,
      "outputs": [
        {
          "output_type": "stream",
          "name": "stdout",
          "text": [
            "prog start 0\n",
            "prog start 1\n",
            "prog start 2\n",
            "prog start 3\n",
            "prog start 4\n",
            "prog start 5\n",
            "prog start 6\n",
            "prog start 7\n",
            "prog start 8\n",
            "prog start 9\n"
          ]
        }
      ]
    },
    {
      "cell_type": "code",
      "source": [
        "list(range(10))"
      ],
      "metadata": {
        "colab": {
          "base_uri": "https://localhost:8080/"
        },
        "id": "Hqz71FI3e-Qs",
        "outputId": "5ade9a56-043a-4e36-d246-6a3787faf7ae"
      },
      "execution_count": null,
      "outputs": [
        {
          "output_type": "execute_result",
          "data": {
            "text/plain": [
              "[0, 1, 2, 3, 4, 5, 6, 7, 8, 9]"
            ]
          },
          "metadata": {},
          "execution_count": 6
        }
      ]
    },
    {
      "cell_type": "code",
      "source": [
        "thread"
      ],
      "metadata": {
        "colab": {
          "base_uri": "https://localhost:8080/"
        },
        "id": "CAuMd2T1fPVj",
        "outputId": "e52bf488-fb26-4e6e-e103-1560e4b15607"
      },
      "execution_count": null,
      "outputs": [
        {
          "output_type": "execute_result",
          "data": {
            "text/plain": [
              "[<Thread(Thread-10 (test), stopped 139260371318336)>,\n",
              " <Thread(Thread-11 (test), stopped 139260120249920)>,\n",
              " <Thread(Thread-12 (test), stopped 139260371318336)>,\n",
              " <Thread(Thread-13 (test), stopped 139260120249920)>,\n",
              " <Thread(Thread-14 (test), stopped 139260371318336)>,\n",
              " <Thread(Thread-15 (test), stopped 139260120249920)>,\n",
              " <Thread(Thread-16 (test), stopped 139260371318336)>,\n",
              " <Thread(Thread-17 (test), stopped 139260120249920)>,\n",
              " <Thread(Thread-18 (test), stopped 139260371318336)>,\n",
              " <Thread(Thread-19 (test), stopped 139260120249920)>]"
            ]
          },
          "metadata": {},
          "execution_count": 7
        }
      ]
    },
    {
      "cell_type": "code",
      "source": [
        "id(thread)"
      ],
      "metadata": {
        "colab": {
          "base_uri": "https://localhost:8080/"
        },
        "id": "c0NG256KfW4D",
        "outputId": "043d239a-65df-48af-e8c6-5d3fbfe7bfe4"
      },
      "execution_count": null,
      "outputs": [
        {
          "output_type": "execute_result",
          "data": {
            "text/plain": [
              "139260371813120"
            ]
          },
          "metadata": {},
          "execution_count": 8
        }
      ]
    },
    {
      "cell_type": "code",
      "source": [
        "##try to store multiple file at multiple process\n",
        "#import the data from url into our directory\n",
        "import threading\n",
        "import urllib.request #used to retrieve data from url\n",
        "\n",
        "def file_download(url, filename):\n",
        "  urllib.request.urlretrieve(url, filename)"
      ],
      "metadata": {
        "id": "TW8Q6WrTfbBy"
      },
      "execution_count": null,
      "outputs": []
    },
    {
      "cell_type": "code",
      "source": [
        "file_download(\"https://raw.githubusercontent.com/itsfoss/text-files/master/agatha.txt\", \"sample_code.txt\")"
      ],
      "metadata": {
        "id": "sKAl4XYBhihk"
      },
      "execution_count": null,
      "outputs": []
    },
    {
      "cell_type": "code",
      "source": [
        "url_list = [\"https://raw.githubusercontent.com/itsfoss/text-files/master/agatha.txt\", \"https://raw.githubusercontent.com/itsfoss/text-files/master/agatha_complete.txt\", \"https://raw.githubusercontent.com/itsfoss/text-files/master/sherlock.txt\"]"
      ],
      "metadata": {
        "id": "HTuH7u-Qhp_q"
      },
      "execution_count": null,
      "outputs": []
    },
    {
      "cell_type": "code",
      "source": [
        "url_list"
      ],
      "metadata": {
        "colab": {
          "base_uri": "https://localhost:8080/"
        },
        "id": "aICiP9mgjQnx",
        "outputId": "fa1170e1-0f06-4eda-c221-a20f8b46d0ad"
      },
      "execution_count": null,
      "outputs": [
        {
          "output_type": "execute_result",
          "data": {
            "text/plain": [
              "['https://raw.githubusercontent.com/itsfoss/text-files/master/agatha.txt',\n",
              " 'https://raw.githubusercontent.com/itsfoss/text-files/master/agatha_complete.txt',\n",
              " 'https://raw.githubusercontent.com/itsfoss/text-files/master/sherlock.txt']"
            ]
          },
          "metadata": {},
          "execution_count": 12
        }
      ]
    },
    {
      "cell_type": "code",
      "source": [
        "file_name = [\"data1.txt\", \"data2.txt\", \"data3.txt\"]"
      ],
      "metadata": {
        "id": "Kwpe51NGjR3B"
      },
      "execution_count": null,
      "outputs": []
    },
    {
      "cell_type": "code",
      "source": [
        "from re import I\n",
        "ther = [threading.Thread(target = file_download, args = (url_list[i], file_name[i])) for i in range(len(url_list))]"
      ],
      "metadata": {
        "id": "xX0aGXDUjlqG"
      },
      "execution_count": null,
      "outputs": []
    },
    {
      "cell_type": "code",
      "source": [
        "ther"
      ],
      "metadata": {
        "colab": {
          "base_uri": "https://localhost:8080/"
        },
        "id": "m8M01lVuj8E8",
        "outputId": "7a217cae-8f18-4de4-b4ff-723a57f26a26"
      },
      "execution_count": null,
      "outputs": [
        {
          "output_type": "execute_result",
          "data": {
            "text/plain": [
              "[<Thread(Thread-20 (file_download), initial)>,\n",
              " <Thread(Thread-21 (file_download), initial)>,\n",
              " <Thread(Thread-22 (file_download), initial)>]"
            ]
          },
          "metadata": {},
          "execution_count": 15
        }
      ]
    },
    {
      "cell_type": "code",
      "source": [
        "for t in ther:\n",
        "  t.start()"
      ],
      "metadata": {
        "id": "-ML_YgCokE4r"
      },
      "execution_count": null,
      "outputs": []
    },
    {
      "cell_type": "code",
      "source": [
        "ther"
      ],
      "metadata": {
        "colab": {
          "base_uri": "https://localhost:8080/"
        },
        "id": "XLYkKUeVkPgK",
        "outputId": "d3877785-0dfc-4fed-ab5f-c3491ad0ab40"
      },
      "execution_count": null,
      "outputs": [
        {
          "output_type": "execute_result",
          "data": {
            "text/plain": [
              "[<Thread(Thread-20 (file_download), stopped 139260120249920)>,\n",
              " <Thread(Thread-21 (file_download), stopped 139260371318336)>,\n",
              " <Thread(Thread-22 (file_download), stopped 139260103464512)>]"
            ]
          },
          "metadata": {},
          "execution_count": 17
        }
      ]
    },
    {
      "cell_type": "code",
      "source": [
        "##how sleep() used in OS for context switching between the processes\n",
        "##so that CPU should not be idle\n",
        "import time"
      ],
      "metadata": {
        "id": "BmJM_sCzkaDx"
      },
      "execution_count": null,
      "outputs": []
    },
    {
      "cell_type": "code",
      "source": [
        "def testing(id) :\n",
        "  for i in range(10) :\n",
        "    print(\"test1 %d printing %d %s\" %(id,i,time.ctime()))\n",
        "    time.sleep(1)"
      ],
      "metadata": {
        "id": "NAn6i9DVmBDR"
      },
      "execution_count": null,
      "outputs": []
    },
    {
      "cell_type": "code",
      "source": [
        "testing(1) #it will print after every 1 sec as it sleep for 1 sec"
      ],
      "metadata": {
        "colab": {
          "base_uri": "https://localhost:8080/"
        },
        "id": "CiUUgvgAmRf0",
        "outputId": "dc01308a-9a17-456b-d430-c29ce735f8e2"
      },
      "execution_count": null,
      "outputs": [
        {
          "output_type": "stream",
          "name": "stdout",
          "text": [
            "test1 1 printing 0 Fri Feb 16 02:17:36 2024\n",
            "test1 1 printing 1 Fri Feb 16 02:17:37 2024\n",
            "test1 1 printing 2 Fri Feb 16 02:17:38 2024\n",
            "test1 1 printing 3 Fri Feb 16 02:17:39 2024\n",
            "test1 1 printing 4 Fri Feb 16 02:17:40 2024\n",
            "test1 1 printing 5 Fri Feb 16 02:17:41 2024\n",
            "test1 1 printing 6 Fri Feb 16 02:17:42 2024\n",
            "test1 1 printing 7 Fri Feb 16 02:17:43 2024\n",
            "test1 1 printing 8 Fri Feb 16 02:17:44 2024\n",
            "test1 1 printing 9 Fri Feb 16 02:17:45 2024\n"
          ]
        }
      ]
    },
    {
      "cell_type": "code",
      "source": [
        "thread2 = [threading.Thread(target = testing, args  = (i,)) for i in range(10)]"
      ],
      "metadata": {
        "id": "kO5E5pgZmV5h"
      },
      "execution_count": null,
      "outputs": []
    },
    {
      "cell_type": "code",
      "source": [
        "for t in thread2:\n",
        "  t.start()"
      ],
      "metadata": {
        "colab": {
          "base_uri": "https://localhost:8080/"
        },
        "id": "3SDD0A9_mz4E",
        "outputId": "c054d45c-d981-401f-b92d-997e0dfcd74b"
      },
      "execution_count": null,
      "outputs": [
        {
          "output_type": "stream",
          "name": "stdout",
          "text": [
            "test1 0 printing 0 Fri Feb 16 02:17:50 2024\n",
            "test1 1 printing 0 Fri Feb 16 02:17:50 2024\n",
            "test1 2 printing 0 Fri Feb 16 02:17:50 2024\n",
            "test1 3 printing 0 Fri Feb 16 02:17:50 2024\n",
            "test1 4 printing 0 Fri Feb 16 02:17:50 2024\n",
            "test1 5 printing 0 Fri Feb 16 02:17:50 2024\n",
            "test1 6 printing 0 Fri Feb 16 02:17:50 2024\n",
            "test1 7 printing 0 Fri Feb 16 02:17:50 2024test1 8 printing 0 Fri Feb 16 02:17:50 2024\n",
            "\n",
            "test1 9 printing 0 Fri Feb 16 02:17:50 2024\n"
          ]
        }
      ]
    },
    {
      "cell_type": "code",
      "source": [
        "thread2"
      ],
      "metadata": {
        "colab": {
          "base_uri": "https://localhost:8080/"
        },
        "id": "eXYmUGQ8m2wG",
        "outputId": "c1ed4a6c-7150-49ed-a6fc-68a6071ee3a3"
      },
      "execution_count": null,
      "outputs": [
        {
          "output_type": "stream",
          "name": "stdout",
          "text": [
            "test1 0 printing 3 Fri Feb 16 02:17:53 2024\n",
            "test1 1 printing 3 Fri Feb 16 02:17:53 2024\n",
            "test1 2 printing 3 Fri Feb 16 02:17:53 2024\n",
            "test1 3 printing 3 Fri Feb 16 02:17:53 2024\n",
            "test1 4 printing 3 Fri Feb 16 02:17:53 2024\n",
            "test1 5 printing 3 Fri Feb 16 02:17:53 2024\n",
            "test1 8 printing 3 Fri Feb 16 02:17:53 2024\n",
            "test1 6 printing 3 Fri Feb 16 02:17:53 2024\n",
            "test1 7 printing 3 Fri Feb 16 02:17:53 2024\n",
            "test1 9 printing 3 Fri Feb 16 02:17:53 2024\n"
          ]
        },
        {
          "output_type": "execute_result",
          "data": {
            "text/plain": [
              "[<Thread(Thread-23 (testing), started 139260103464512)>,\n",
              " <Thread(Thread-24 (testing), started 139260371318336)>,\n",
              " <Thread(Thread-25 (testing), started 139260120249920)>,\n",
              " <Thread(Thread-26 (testing), started 139259616949824)>,\n",
              " <Thread(Thread-27 (testing), started 139259608557120)>,\n",
              " <Thread(Thread-28 (testing), started 139259600164416)>,\n",
              " <Thread(Thread-29 (testing), started 139259591771712)>,\n",
              " <Thread(Thread-30 (testing), started 139259583379008)>,\n",
              " <Thread(Thread-31 (testing), started 139259574986304)>,\n",
              " <Thread(Thread-32 (testing), started 139259566593600)>]"
            ]
          },
          "metadata": {},
          "execution_count": 23
        }
      ]
    },
    {
      "cell_type": "code",
      "source": [
        "testing(0)"
      ],
      "metadata": {
        "colab": {
          "base_uri": "https://localhost:8080/"
        },
        "id": "ByBNneoJn_8A",
        "outputId": "cae92c63-7571-481d-f266-e3c15b12a6b3"
      },
      "execution_count": null,
      "outputs": [
        {
          "output_type": "stream",
          "name": "stdout",
          "text": [
            "test1 0 printing 0 Fri Feb 16 02:17:55 2024\n",
            "test1 0 printing 6 Fri Feb 16 02:17:56 2024\n",
            "test1 1 printing 6 Fri Feb 16 02:17:56 2024\n",
            "test1 2 printing 6 Fri Feb 16 02:17:56 2024\n",
            "test1 3 printing 6 Fri Feb 16 02:17:56 2024\n",
            "test1 4 printing 6 Fri Feb 16 02:17:56 2024\n",
            "test1 5 printing 6 Fri Feb 16 02:17:56 2024\n",
            "test1 8 printing 6 Fri Feb 16 02:17:56 2024\n",
            "test1 6 printing 6 Fri Feb 16 02:17:56 2024\n",
            "test1 7 printing 6 Fri Feb 16 02:17:56 2024\n",
            "test1 9 printing 6 Fri Feb 16 02:17:56 2024\n",
            "test1 0 printing 1 Fri Feb 16 02:17:56 2024\n",
            "test1 0 printing 7 Fri Feb 16 02:17:57 2024\n",
            "test1 1 printing 7 Fri Feb 16 02:17:57 2024\n",
            "test1 2 printing 7 Fri Feb 16 02:17:57 2024\n",
            "test1 3 printing 7 Fri Feb 16 02:17:57 2024\n",
            "test1 4 printing 7 Fri Feb 16 02:17:57 2024\n",
            "test1 5 printing 7 Fri Feb 16 02:17:57 2024\n",
            "test1 8 printing 7 Fri Feb 16 02:17:57 2024\n",
            "test1 6 printing 7 Fri Feb 16 02:17:57 2024\n",
            "test1 7 printing 7 Fri Feb 16 02:17:57 2024\n",
            "test1 9 printing 7 Fri Feb 16 02:17:57 2024\n",
            "test1 0 printing 2 Fri Feb 16 02:17:57 2024\n",
            "test1 0 printing 8 Fri Feb 16 02:17:58 2024\n",
            "test1 1 printing 8 Fri Feb 16 02:17:58 2024\n",
            "test1 2 printing 8 Fri Feb 16 02:17:58 2024\n",
            "test1 3 printing 8 Fri Feb 16 02:17:58 2024\n",
            "test1 4 printing 8 Fri Feb 16 02:17:58 2024\n",
            "test1 5 printing 8 Fri Feb 16 02:17:58 2024\n",
            "test1 8 printing 8 Fri Feb 16 02:17:58 2024\n",
            "test1 6 printing 8 Fri Feb 16 02:17:58 2024\n",
            "test1 7 printing 8 Fri Feb 16 02:17:58 2024\n",
            "test1 9 printing 8 Fri Feb 16 02:17:58 2024\n",
            "test1 0 printing 3 Fri Feb 16 02:17:58 2024\n",
            "test1 0 printing 9 Fri Feb 16 02:17:59 2024\n",
            "test1 1 printing 9 Fri Feb 16 02:17:59 2024\n",
            "test1 2 printing 9 Fri Feb 16 02:17:59 2024\n",
            "test1 3 printing 9 Fri Feb 16 02:17:59 2024\n",
            "test1 4 printing 9 Fri Feb 16 02:17:59 2024test1 5 printing 9 Fri Feb 16 02:17:59 2024\n",
            "\n",
            "test1 8 printing 9 Fri Feb 16 02:17:59 2024\n",
            "test1 6 printing 9 Fri Feb 16 02:17:59 2024\n",
            "test1 7 printing 9 Fri Feb 16 02:17:59 2024\n",
            "test1 9 printing 9 Fri Feb 16 02:17:59 2024\n",
            "test1 0 printing 4 Fri Feb 16 02:17:59 2024\n",
            "test1 0 printing 5 Fri Feb 16 02:18:00 2024\n",
            "test1 0 printing 6 Fri Feb 16 02:18:01 2024\n",
            "test1 0 printing 7 Fri Feb 16 02:18:02 2024\n",
            "test1 0 printing 8 Fri Feb 16 02:18:03 2024\n",
            "test1 0 printing 9 Fri Feb 16 02:18:04 2024\n"
          ]
        }
      ]
    },
    {
      "cell_type": "code",
      "source": [
        "##working with global shared variable by threads\n",
        "shared_var = 0\n",
        "lock_var = threading.Lock()"
      ],
      "metadata": {
        "id": "_QJ0sAYToyc3"
      },
      "execution_count": null,
      "outputs": []
    },
    {
      "cell_type": "code",
      "source": [
        "def test2(id):\n",
        "  global shared_var\n",
        "  with lock_var:\n",
        "    shared_var = shared_var + 1\n",
        "    print(\"test2 is %d has increased the shared variable by %d\" %(id ,shared_var))\n",
        "    time.sleep(1)\n",
        "\n",
        "ther3 = [threading.Thread(target = test2, args = (i,) ) for i in range(3)]\n",
        "for t in ther3:\n",
        "  t.start()"
      ],
      "metadata": {
        "colab": {
          "base_uri": "https://localhost:8080/"
        },
        "id": "oP0hMVk7rkmp",
        "outputId": "4fa42eea-e0c8-4b43-db76-ed72e99c60c3"
      },
      "execution_count": null,
      "outputs": [
        {
          "output_type": "stream",
          "name": "stdout",
          "text": [
            "test2 is 0 has increased the shared variable by 1\n"
          ]
        }
      ]
    },
    {
      "cell_type": "code",
      "source": [
        "ther3"
      ],
      "metadata": {
        "colab": {
          "base_uri": "https://localhost:8080/"
        },
        "id": "DKVvcdBarrrb",
        "outputId": "64857e91-6736-407f-cabc-6aef51530d96"
      },
      "execution_count": null,
      "outputs": [
        {
          "output_type": "execute_result",
          "data": {
            "text/plain": [
              "[<Thread(Thread-33 (test2), stopped 139259566593600)>,\n",
              " <Thread(Thread-34 (test2), stopped 139259583379008)>,\n",
              " <Thread(Thread-35 (test2), stopped 139259591771712)>]"
            ]
          },
          "metadata": {},
          "execution_count": 27
        }
      ]
    },
    {
      "cell_type": "markdown",
      "source": [
        "## MultiProcessing"
      ],
      "metadata": {
        "id": "Jy6uXaq7162Y"
      }
    },
    {
      "cell_type": "code",
      "source": [
        "#execution of processes into multiple processors"
      ],
      "metadata": {
        "id": "AQ-HoUoJ3gOa"
      },
      "execution_count": null,
      "outputs": []
    },
    {
      "cell_type": "code",
      "source": [
        "#join the main program of 1 processor with child program of another processor\n",
        "import multiprocessing\n",
        "def test(): #child process\n",
        "  print(\"this is my multiprocessing program\")\n",
        "\n",
        "if __name__ == \"__main__\": #python main program, used for multiprocessing\n",
        "  m = multiprocessing.Process(target = test) #Process() used for crate multiprocesses\n",
        "  print(\"this is my main program\")\n",
        "  m.start()\n",
        "  m.join()"
      ],
      "metadata": {
        "colab": {
          "base_uri": "https://localhost:8080/"
        },
        "id": "2i_FHAiksSQZ",
        "outputId": "fd78babb-aa17-4d86-cb1a-ec570e925e3e"
      },
      "execution_count": null,
      "outputs": [
        {
          "output_type": "stream",
          "name": "stdout",
          "text": [
            "this is my main program\n",
            "this is my multiprocessing program\n"
          ]
        }
      ]
    },
    {
      "cell_type": "code",
      "source": [
        "#Pool divide the program into number of processes(where we assign the no of processes)\n",
        "def square(n):\n",
        "  return n**2\n",
        "\n",
        "if __name__ == \"__main__\":\n",
        "  with multiprocessing.Pool(processes = 10) as pool: #here 10 processes used for calculate the square of list\n",
        "    out = pool.map(square, [1, 2, 3, 4, 5,6 , 7, 8, 9])\n",
        "    print(out)"
      ],
      "metadata": {
        "colab": {
          "base_uri": "https://localhost:8080/"
        },
        "id": "sWfUynU-3NQY",
        "outputId": "5ba0e1a0-5908-4b60-d5ce-6914ccd00cd2"
      },
      "execution_count": null,
      "outputs": [
        {
          "output_type": "stream",
          "name": "stdout",
          "text": [
            "[1, 4, 9, 16, 25, 36, 49, 64, 81]\n"
          ]
        }
      ]
    },
    {
      "cell_type": "code",
      "source": [
        "#queue - dividing the program into no of processes and run in queue\n",
        "import multiprocessing\n",
        "def producer(q):\n",
        "  for i in [\"sudh\", \"kumar\", \"krish\"]:\n",
        "    q.put(i)\n",
        "\n",
        "def consume(q):\n",
        "  while True:\n",
        "    item = q.get()\n",
        "    if item is None:\n",
        "      break\n",
        "    print(item)\n",
        "\n",
        "if __name__ == \"__main__\":\n",
        "  queue = multiprocessing.Queue()\n",
        "  m1 = multiprocessing.Process(target = producer, args = (queue,))\n",
        "  m2 = multiprocessing.Process(target = consume, args = (queue,))\n",
        "  m1.start()\n",
        "  m2.start()\n",
        "  queue.put(\"sudh\")\n",
        "  m1.join()\n",
        "  m2.join()"
      ],
      "metadata": {
        "colab": {
          "base_uri": "https://localhost:8080/",
          "height": 706
        },
        "id": "JN3bW_Dl4hPE",
        "outputId": "5339e8ff-f2ce-42ef-c85b-89b764c8a2b6"
      },
      "execution_count": null,
      "outputs": [
        {
          "output_type": "stream",
          "name": "stdout",
          "text": [
            "sudh\n",
            "kumar\n",
            "krish\n",
            "sudh\n"
          ]
        },
        {
          "output_type": "stream",
          "name": "stderr",
          "text": [
            "Process Process-32:\n",
            "Traceback (most recent call last):\n",
            "  File \"/usr/lib/python3.10/multiprocessing/process.py\", line 314, in _bootstrap\n",
            "    self.run()\n",
            "  File \"/usr/lib/python3.10/multiprocessing/connection.py\", line 414, in _recv_bytes\n",
            "    buf = self._recv(4)\n",
            "  File \"/usr/lib/python3.10/multiprocessing/connection.py\", line 379, in _recv\n",
            "    chunk = read(handle, remaining)\n",
            "  File \"/usr/lib/python3.10/multiprocessing/connection.py\", line 216, in recv_bytes\n",
            "    buf = self._recv_bytes(maxlength)\n",
            "  File \"/usr/lib/python3.10/multiprocessing/process.py\", line 108, in run\n",
            "    self._target(*self._args, **self._kwargs)\n",
            "  File \"<ipython-input-42-d86c44e3486a>\", line 9, in consume\n",
            "    item = q.get()\n",
            "  File \"/usr/lib/python3.10/multiprocessing/queues.py\", line 103, in get\n",
            "    res = self._recv_bytes()\n",
            "KeyboardInterrupt\n"
          ]
        },
        {
          "output_type": "error",
          "ename": "KeyboardInterrupt",
          "evalue": "",
          "traceback": [
            "\u001b[0;31m---------------------------------------------------------------------------\u001b[0m",
            "\u001b[0;31mKeyboardInterrupt\u001b[0m                         Traceback (most recent call last)",
            "\u001b[0;32m<ipython-input-42-d86c44e3486a>\u001b[0m in \u001b[0;36m<cell line: 14>\u001b[0;34m()\u001b[0m\n\u001b[1;32m     20\u001b[0m   \u001b[0mqueue\u001b[0m\u001b[0;34m.\u001b[0m\u001b[0mput\u001b[0m\u001b[0;34m(\u001b[0m\u001b[0;34m\"sudh\"\u001b[0m\u001b[0;34m)\u001b[0m\u001b[0;34m\u001b[0m\u001b[0;34m\u001b[0m\u001b[0m\n\u001b[1;32m     21\u001b[0m   \u001b[0mm1\u001b[0m\u001b[0;34m.\u001b[0m\u001b[0mjoin\u001b[0m\u001b[0;34m(\u001b[0m\u001b[0;34m)\u001b[0m\u001b[0;34m\u001b[0m\u001b[0;34m\u001b[0m\u001b[0m\n\u001b[0;32m---> 22\u001b[0;31m   \u001b[0mm2\u001b[0m\u001b[0;34m.\u001b[0m\u001b[0mjoin\u001b[0m\u001b[0;34m(\u001b[0m\u001b[0;34m)\u001b[0m\u001b[0;34m\u001b[0m\u001b[0;34m\u001b[0m\u001b[0m\n\u001b[0m",
            "\u001b[0;32m/usr/lib/python3.10/multiprocessing/process.py\u001b[0m in \u001b[0;36mjoin\u001b[0;34m(self, timeout)\u001b[0m\n\u001b[1;32m    147\u001b[0m         \u001b[0;32massert\u001b[0m \u001b[0mself\u001b[0m\u001b[0;34m.\u001b[0m\u001b[0m_parent_pid\u001b[0m \u001b[0;34m==\u001b[0m \u001b[0mos\u001b[0m\u001b[0;34m.\u001b[0m\u001b[0mgetpid\u001b[0m\u001b[0;34m(\u001b[0m\u001b[0;34m)\u001b[0m\u001b[0;34m,\u001b[0m \u001b[0;34m'can only join a child process'\u001b[0m\u001b[0;34m\u001b[0m\u001b[0;34m\u001b[0m\u001b[0m\n\u001b[1;32m    148\u001b[0m         \u001b[0;32massert\u001b[0m \u001b[0mself\u001b[0m\u001b[0;34m.\u001b[0m\u001b[0m_popen\u001b[0m \u001b[0;32mis\u001b[0m \u001b[0;32mnot\u001b[0m \u001b[0;32mNone\u001b[0m\u001b[0;34m,\u001b[0m \u001b[0;34m'can only join a started process'\u001b[0m\u001b[0;34m\u001b[0m\u001b[0;34m\u001b[0m\u001b[0m\n\u001b[0;32m--> 149\u001b[0;31m         \u001b[0mres\u001b[0m \u001b[0;34m=\u001b[0m \u001b[0mself\u001b[0m\u001b[0;34m.\u001b[0m\u001b[0m_popen\u001b[0m\u001b[0;34m.\u001b[0m\u001b[0mwait\u001b[0m\u001b[0;34m(\u001b[0m\u001b[0mtimeout\u001b[0m\u001b[0;34m)\u001b[0m\u001b[0;34m\u001b[0m\u001b[0;34m\u001b[0m\u001b[0m\n\u001b[0m\u001b[1;32m    150\u001b[0m         \u001b[0;32mif\u001b[0m \u001b[0mres\u001b[0m \u001b[0;32mis\u001b[0m \u001b[0;32mnot\u001b[0m \u001b[0;32mNone\u001b[0m\u001b[0;34m:\u001b[0m\u001b[0;34m\u001b[0m\u001b[0;34m\u001b[0m\u001b[0m\n\u001b[1;32m    151\u001b[0m             \u001b[0m_children\u001b[0m\u001b[0;34m.\u001b[0m\u001b[0mdiscard\u001b[0m\u001b[0;34m(\u001b[0m\u001b[0mself\u001b[0m\u001b[0;34m)\u001b[0m\u001b[0;34m\u001b[0m\u001b[0;34m\u001b[0m\u001b[0m\n",
            "\u001b[0;32m/usr/lib/python3.10/multiprocessing/popen_fork.py\u001b[0m in \u001b[0;36mwait\u001b[0;34m(self, timeout)\u001b[0m\n\u001b[1;32m     41\u001b[0m                     \u001b[0;32mreturn\u001b[0m \u001b[0;32mNone\u001b[0m\u001b[0;34m\u001b[0m\u001b[0;34m\u001b[0m\u001b[0m\n\u001b[1;32m     42\u001b[0m             \u001b[0;31m# This shouldn't block if wait() returned successfully.\u001b[0m\u001b[0;34m\u001b[0m\u001b[0;34m\u001b[0m\u001b[0m\n\u001b[0;32m---> 43\u001b[0;31m             \u001b[0;32mreturn\u001b[0m \u001b[0mself\u001b[0m\u001b[0;34m.\u001b[0m\u001b[0mpoll\u001b[0m\u001b[0;34m(\u001b[0m\u001b[0mos\u001b[0m\u001b[0;34m.\u001b[0m\u001b[0mWNOHANG\u001b[0m \u001b[0;32mif\u001b[0m \u001b[0mtimeout\u001b[0m \u001b[0;34m==\u001b[0m \u001b[0;36m0.0\u001b[0m \u001b[0;32melse\u001b[0m \u001b[0;36m0\u001b[0m\u001b[0;34m)\u001b[0m\u001b[0;34m\u001b[0m\u001b[0;34m\u001b[0m\u001b[0m\n\u001b[0m\u001b[1;32m     44\u001b[0m         \u001b[0;32mreturn\u001b[0m \u001b[0mself\u001b[0m\u001b[0;34m.\u001b[0m\u001b[0mreturncode\u001b[0m\u001b[0;34m\u001b[0m\u001b[0;34m\u001b[0m\u001b[0m\n\u001b[1;32m     45\u001b[0m \u001b[0;34m\u001b[0m\u001b[0m\n",
            "\u001b[0;32m/usr/lib/python3.10/multiprocessing/popen_fork.py\u001b[0m in \u001b[0;36mpoll\u001b[0;34m(self, flag)\u001b[0m\n\u001b[1;32m     25\u001b[0m         \u001b[0;32mif\u001b[0m \u001b[0mself\u001b[0m\u001b[0;34m.\u001b[0m\u001b[0mreturncode\u001b[0m \u001b[0;32mis\u001b[0m \u001b[0;32mNone\u001b[0m\u001b[0;34m:\u001b[0m\u001b[0;34m\u001b[0m\u001b[0;34m\u001b[0m\u001b[0m\n\u001b[1;32m     26\u001b[0m             \u001b[0;32mtry\u001b[0m\u001b[0;34m:\u001b[0m\u001b[0;34m\u001b[0m\u001b[0;34m\u001b[0m\u001b[0m\n\u001b[0;32m---> 27\u001b[0;31m                 \u001b[0mpid\u001b[0m\u001b[0;34m,\u001b[0m \u001b[0msts\u001b[0m \u001b[0;34m=\u001b[0m \u001b[0mos\u001b[0m\u001b[0;34m.\u001b[0m\u001b[0mwaitpid\u001b[0m\u001b[0;34m(\u001b[0m\u001b[0mself\u001b[0m\u001b[0;34m.\u001b[0m\u001b[0mpid\u001b[0m\u001b[0;34m,\u001b[0m \u001b[0mflag\u001b[0m\u001b[0;34m)\u001b[0m\u001b[0;34m\u001b[0m\u001b[0;34m\u001b[0m\u001b[0m\n\u001b[0m\u001b[1;32m     28\u001b[0m             \u001b[0;32mexcept\u001b[0m \u001b[0mOSError\u001b[0m\u001b[0;34m:\u001b[0m\u001b[0;34m\u001b[0m\u001b[0;34m\u001b[0m\u001b[0m\n\u001b[1;32m     29\u001b[0m                 \u001b[0;31m# Child process not yet created. See #1731717\u001b[0m\u001b[0;34m\u001b[0m\u001b[0;34m\u001b[0m\u001b[0m\n",
            "\u001b[0;31mKeyboardInterrupt\u001b[0m: "
          ]
        }
      ]
    },
    {
      "cell_type": "code",
      "source": [
        "#working with array\n",
        "import multiprocessing\n",
        "def square(index, value):\n",
        "  value[index] = value[index] ** 2\n",
        "\n",
        "if __name__ == \"__main__\":\n",
        "  arr = multiprocessing.Array('i', [2, 3, 4, 6, 7, 8, 9])\n",
        "  process = []\n",
        "  for i in range(7):\n",
        "    m = multiprocessing.Process(target = square, args = (i, arr))\n",
        "    process.append(m)\n",
        "    m.start()\n",
        "  for m in process:\n",
        "    m.join()\n",
        "  print(list(arr))"
      ],
      "metadata": {
        "colab": {
          "base_uri": "https://localhost:8080/"
        },
        "id": "P0-68S_l5aCt",
        "outputId": "fbb90f59-58a1-416e-8829-26c5f46c1ff8"
      },
      "execution_count": null,
      "outputs": [
        {
          "output_type": "stream",
          "name": "stdout",
          "text": [
            "[4, 9, 16, 36, 49, 64, 81]\n"
          ]
        }
      ]
    },
    {
      "cell_type": "code",
      "source": [
        "#working with pipe which is similar to array and queue\n",
        "#pipe work on two duplex connections like two ends of pipe\n",
        "\n",
        "import multiprocessing\n",
        "def sender(conn, msg):\n",
        "  for i in msg:\n",
        "    conn.send(i)\n",
        "  conn.close()\n",
        "\n",
        "def receive(conn):\n",
        "  while True:\n",
        "    try:\n",
        "      msg = conn.recv()\n",
        "    except Exception as e:\n",
        "      print(e)\n",
        "      break\n",
        "    print(msg)"
      ],
      "metadata": {
        "id": "MMnAfrza9FNS"
      },
      "execution_count": null,
      "outputs": []
    },
    {
      "cell_type": "code",
      "source": [
        "if __name__ == \"__main__\":\n",
        "  msg = [\"my name is sudh\", \"this is my pipe program\", \"I am learning multiprocessing\"]\n",
        "  parent_conn, child_conn = multiprocessing.Pipe()\n",
        "  m1 = multiprocessing.Process(target = sender, args = (child_conn, msg))\n",
        "  m2 = multiprocessing.Process(target = receive, args = (parent_conn,))\n",
        "  m1.start()\n",
        "  m2.start()\n",
        "  m1.join()\n",
        "  child_conn.close()\n",
        "  m2.join()\n",
        "  parent_conn.close()"
      ],
      "metadata": {
        "colab": {
          "base_uri": "https://localhost:8080/",
          "height": 671
        },
        "id": "uJQn75BD_0Ms",
        "outputId": "01d4c675-adae-4fe5-a076-0089a6887837"
      },
      "execution_count": null,
      "outputs": [
        {
          "output_type": "stream",
          "name": "stdout",
          "text": [
            "my name is sudh\n",
            "this is my pipe program\n",
            "I am learning multiprocessing\n"
          ]
        },
        {
          "output_type": "stream",
          "name": "stderr",
          "text": [
            "Process Process-57:\n",
            "Traceback (most recent call last):\n",
            "  File \"/usr/lib/python3.10/multiprocessing/process.py\", line 314, in _bootstrap\n",
            "    self.run()\n",
            "  File \"/usr/lib/python3.10/multiprocessing/process.py\", line 108, in run\n",
            "    self._target(*self._args, **self._kwargs)\n",
            "  File \"<ipython-input-47-71d26e2e5e51>\", line 13, in receive\n",
            "    msg = conn.recv()\n",
            "  File \"/usr/lib/python3.10/multiprocessing/connection.py\", line 250, in recv\n",
            "    buf = self._recv_bytes()\n",
            "  File \"/usr/lib/python3.10/multiprocessing/connection.py\", line 414, in _recv_bytes\n",
            "    buf = self._recv(4)\n",
            "  File \"/usr/lib/python3.10/multiprocessing/connection.py\", line 379, in _recv\n",
            "    chunk = read(handle, remaining)\n",
            "KeyboardInterrupt\n"
          ]
        },
        {
          "output_type": "error",
          "ename": "KeyboardInterrupt",
          "evalue": "",
          "traceback": [
            "\u001b[0;31m---------------------------------------------------------------------------\u001b[0m",
            "\u001b[0;31mKeyboardInterrupt\u001b[0m                         Traceback (most recent call last)",
            "\u001b[0;32m<ipython-input-48-0d8126c6f449>\u001b[0m in \u001b[0;36m<cell line: 1>\u001b[0;34m()\u001b[0m\n\u001b[1;32m      8\u001b[0m   \u001b[0mm1\u001b[0m\u001b[0;34m.\u001b[0m\u001b[0mjoin\u001b[0m\u001b[0;34m(\u001b[0m\u001b[0;34m)\u001b[0m\u001b[0;34m\u001b[0m\u001b[0;34m\u001b[0m\u001b[0m\n\u001b[1;32m      9\u001b[0m   \u001b[0mchild_conn\u001b[0m\u001b[0;34m.\u001b[0m\u001b[0mclose\u001b[0m\u001b[0;34m(\u001b[0m\u001b[0;34m)\u001b[0m\u001b[0;34m\u001b[0m\u001b[0;34m\u001b[0m\u001b[0m\n\u001b[0;32m---> 10\u001b[0;31m   \u001b[0mm2\u001b[0m\u001b[0;34m.\u001b[0m\u001b[0mjoin\u001b[0m\u001b[0;34m(\u001b[0m\u001b[0;34m)\u001b[0m\u001b[0;34m\u001b[0m\u001b[0;34m\u001b[0m\u001b[0m\n\u001b[0m\u001b[1;32m     11\u001b[0m   \u001b[0mparent_conn\u001b[0m\u001b[0;34m.\u001b[0m\u001b[0mclose\u001b[0m\u001b[0;34m(\u001b[0m\u001b[0;34m)\u001b[0m\u001b[0;34m\u001b[0m\u001b[0;34m\u001b[0m\u001b[0m\n",
            "\u001b[0;32m/usr/lib/python3.10/multiprocessing/process.py\u001b[0m in \u001b[0;36mjoin\u001b[0;34m(self, timeout)\u001b[0m\n\u001b[1;32m    147\u001b[0m         \u001b[0;32massert\u001b[0m \u001b[0mself\u001b[0m\u001b[0;34m.\u001b[0m\u001b[0m_parent_pid\u001b[0m \u001b[0;34m==\u001b[0m \u001b[0mos\u001b[0m\u001b[0;34m.\u001b[0m\u001b[0mgetpid\u001b[0m\u001b[0;34m(\u001b[0m\u001b[0;34m)\u001b[0m\u001b[0;34m,\u001b[0m \u001b[0;34m'can only join a child process'\u001b[0m\u001b[0;34m\u001b[0m\u001b[0;34m\u001b[0m\u001b[0m\n\u001b[1;32m    148\u001b[0m         \u001b[0;32massert\u001b[0m \u001b[0mself\u001b[0m\u001b[0;34m.\u001b[0m\u001b[0m_popen\u001b[0m \u001b[0;32mis\u001b[0m \u001b[0;32mnot\u001b[0m \u001b[0;32mNone\u001b[0m\u001b[0;34m,\u001b[0m \u001b[0;34m'can only join a started process'\u001b[0m\u001b[0;34m\u001b[0m\u001b[0;34m\u001b[0m\u001b[0m\n\u001b[0;32m--> 149\u001b[0;31m         \u001b[0mres\u001b[0m \u001b[0;34m=\u001b[0m \u001b[0mself\u001b[0m\u001b[0;34m.\u001b[0m\u001b[0m_popen\u001b[0m\u001b[0;34m.\u001b[0m\u001b[0mwait\u001b[0m\u001b[0;34m(\u001b[0m\u001b[0mtimeout\u001b[0m\u001b[0;34m)\u001b[0m\u001b[0;34m\u001b[0m\u001b[0;34m\u001b[0m\u001b[0m\n\u001b[0m\u001b[1;32m    150\u001b[0m         \u001b[0;32mif\u001b[0m \u001b[0mres\u001b[0m \u001b[0;32mis\u001b[0m \u001b[0;32mnot\u001b[0m \u001b[0;32mNone\u001b[0m\u001b[0;34m:\u001b[0m\u001b[0;34m\u001b[0m\u001b[0;34m\u001b[0m\u001b[0m\n\u001b[1;32m    151\u001b[0m             \u001b[0m_children\u001b[0m\u001b[0;34m.\u001b[0m\u001b[0mdiscard\u001b[0m\u001b[0;34m(\u001b[0m\u001b[0mself\u001b[0m\u001b[0;34m)\u001b[0m\u001b[0;34m\u001b[0m\u001b[0;34m\u001b[0m\u001b[0m\n",
            "\u001b[0;32m/usr/lib/python3.10/multiprocessing/popen_fork.py\u001b[0m in \u001b[0;36mwait\u001b[0;34m(self, timeout)\u001b[0m\n\u001b[1;32m     41\u001b[0m                     \u001b[0;32mreturn\u001b[0m \u001b[0;32mNone\u001b[0m\u001b[0;34m\u001b[0m\u001b[0;34m\u001b[0m\u001b[0m\n\u001b[1;32m     42\u001b[0m             \u001b[0;31m# This shouldn't block if wait() returned successfully.\u001b[0m\u001b[0;34m\u001b[0m\u001b[0;34m\u001b[0m\u001b[0m\n\u001b[0;32m---> 43\u001b[0;31m             \u001b[0;32mreturn\u001b[0m \u001b[0mself\u001b[0m\u001b[0;34m.\u001b[0m\u001b[0mpoll\u001b[0m\u001b[0;34m(\u001b[0m\u001b[0mos\u001b[0m\u001b[0;34m.\u001b[0m\u001b[0mWNOHANG\u001b[0m \u001b[0;32mif\u001b[0m \u001b[0mtimeout\u001b[0m \u001b[0;34m==\u001b[0m \u001b[0;36m0.0\u001b[0m \u001b[0;32melse\u001b[0m \u001b[0;36m0\u001b[0m\u001b[0;34m)\u001b[0m\u001b[0;34m\u001b[0m\u001b[0;34m\u001b[0m\u001b[0m\n\u001b[0m\u001b[1;32m     44\u001b[0m         \u001b[0;32mreturn\u001b[0m \u001b[0mself\u001b[0m\u001b[0;34m.\u001b[0m\u001b[0mreturncode\u001b[0m\u001b[0;34m\u001b[0m\u001b[0;34m\u001b[0m\u001b[0m\n\u001b[1;32m     45\u001b[0m \u001b[0;34m\u001b[0m\u001b[0m\n",
            "\u001b[0;32m/usr/lib/python3.10/multiprocessing/popen_fork.py\u001b[0m in \u001b[0;36mpoll\u001b[0;34m(self, flag)\u001b[0m\n\u001b[1;32m     25\u001b[0m         \u001b[0;32mif\u001b[0m \u001b[0mself\u001b[0m\u001b[0;34m.\u001b[0m\u001b[0mreturncode\u001b[0m \u001b[0;32mis\u001b[0m \u001b[0;32mNone\u001b[0m\u001b[0;34m:\u001b[0m\u001b[0;34m\u001b[0m\u001b[0;34m\u001b[0m\u001b[0m\n\u001b[1;32m     26\u001b[0m             \u001b[0;32mtry\u001b[0m\u001b[0;34m:\u001b[0m\u001b[0;34m\u001b[0m\u001b[0;34m\u001b[0m\u001b[0m\n\u001b[0;32m---> 27\u001b[0;31m                 \u001b[0mpid\u001b[0m\u001b[0;34m,\u001b[0m \u001b[0msts\u001b[0m \u001b[0;34m=\u001b[0m \u001b[0mos\u001b[0m\u001b[0;34m.\u001b[0m\u001b[0mwaitpid\u001b[0m\u001b[0;34m(\u001b[0m\u001b[0mself\u001b[0m\u001b[0;34m.\u001b[0m\u001b[0mpid\u001b[0m\u001b[0;34m,\u001b[0m \u001b[0mflag\u001b[0m\u001b[0;34m)\u001b[0m\u001b[0;34m\u001b[0m\u001b[0;34m\u001b[0m\u001b[0m\n\u001b[0m\u001b[1;32m     28\u001b[0m             \u001b[0;32mexcept\u001b[0m \u001b[0mOSError\u001b[0m\u001b[0;34m:\u001b[0m\u001b[0;34m\u001b[0m\u001b[0;34m\u001b[0m\u001b[0m\n\u001b[1;32m     29\u001b[0m                 \u001b[0;31m# Child process not yet created. See #1731717\u001b[0m\u001b[0;34m\u001b[0m\u001b[0;34m\u001b[0m\u001b[0m\n",
            "\u001b[0;31mKeyboardInterrupt\u001b[0m: "
          ]
        }
      ]
    },
    {
      "cell_type": "code",
      "source": [
        "#this is multiprocessing"
      ],
      "metadata": {
        "id": "Nu34s6JSBcrj"
      },
      "execution_count": null,
      "outputs": []
    },
    {
      "cell_type": "code",
      "source": [],
      "metadata": {
        "id": "aWVBaWo2Bfaw"
      },
      "execution_count": null,
      "outputs": []
    }
  ]
}