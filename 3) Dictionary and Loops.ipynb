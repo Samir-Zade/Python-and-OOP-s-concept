{
 "cells": [
  {
   "cell_type": "code",
   "execution_count": 1,
   "id": "3d862fd7",
   "metadata": {},
   "outputs": [],
   "source": [
    "d = {}"
   ]
  },
  {
   "cell_type": "code",
   "execution_count": 2,
   "id": "0c978a54",
   "metadata": {},
   "outputs": [
    {
     "data": {
      "text/plain": [
       "dict"
      ]
     },
     "execution_count": 2,
     "metadata": {},
     "output_type": "execute_result"
    }
   ],
   "source": [
    "type(d)"
   ]
  },
  {
   "cell_type": "code",
   "execution_count": 3,
   "id": "74428a2d",
   "metadata": {},
   "outputs": [],
   "source": [
    "d1 = {'Name':'samir', 'email':'samir@x.com', 'number':90322}"
   ]
  },
  {
   "cell_type": "code",
   "execution_count": 4,
   "id": "3ae86691",
   "metadata": {},
   "outputs": [
    {
     "data": {
      "text/plain": [
       "{'Name': 'samir', 'email': 'samir@x.com', 'number': 90322}"
      ]
     },
     "execution_count": 4,
     "metadata": {},
     "output_type": "execute_result"
    }
   ],
   "source": [
    "d1"
   ]
  },
  {
   "cell_type": "code",
   "execution_count": 5,
   "id": "435ea105",
   "metadata": {},
   "outputs": [
    {
     "ename": "SyntaxError",
     "evalue": "invalid syntax (Temp/ipykernel_15408/3781147320.py, line 1)",
     "output_type": "error",
     "traceback": [
      "\u001b[1;36m  File \u001b[1;32m\"C:\\Users\\User\\AppData\\Local\\Temp/ipykernel_15408/3781147320.py\"\u001b[1;36m, line \u001b[1;32m1\u001b[0m\n\u001b[1;33m    d2 = {123:'samir', @eer:33}\u001b[0m\n\u001b[1;37m                       ^\u001b[0m\n\u001b[1;31mSyntaxError\u001b[0m\u001b[1;31m:\u001b[0m invalid syntax\n"
     ]
    }
   ],
   "source": [
    "d2 = {123:'samir', @eer:33}"
   ]
  },
  {
   "cell_type": "code",
   "execution_count": 6,
   "id": "c8b2b277",
   "metadata": {},
   "outputs": [],
   "source": [
    "d2 = {123:'samir', 'eer':33, True:355}"
   ]
  },
  {
   "cell_type": "code",
   "execution_count": 7,
   "id": "59b85d2b",
   "metadata": {},
   "outputs": [
    {
     "data": {
      "text/plain": [
       "{123: 'samir', 'eer': 33, True: 355}"
      ]
     },
     "execution_count": 7,
     "metadata": {},
     "output_type": "execute_result"
    }
   ],
   "source": [
    "d2"
   ]
  },
  {
   "cell_type": "code",
   "execution_count": 8,
   "id": "3ae86ebe",
   "metadata": {},
   "outputs": [
    {
     "data": {
      "text/plain": [
       "'samir'"
      ]
     },
     "execution_count": 8,
     "metadata": {},
     "output_type": "execute_result"
    }
   ],
   "source": [
    "d2[123]"
   ]
  },
  {
   "cell_type": "code",
   "execution_count": 9,
   "id": "d10b7a34",
   "metadata": {},
   "outputs": [
    {
     "data": {
      "text/plain": [
       "33"
      ]
     },
     "execution_count": 9,
     "metadata": {},
     "output_type": "execute_result"
    }
   ],
   "source": [
    "d2['eer']"
   ]
  },
  {
   "cell_type": "code",
   "execution_count": 10,
   "id": "cb99e540",
   "metadata": {},
   "outputs": [
    {
     "ename": "NameError",
     "evalue": "name 'eer' is not defined",
     "output_type": "error",
     "traceback": [
      "\u001b[1;31m---------------------------------------------------------------------------\u001b[0m",
      "\u001b[1;31mNameError\u001b[0m                                 Traceback (most recent call last)",
      "\u001b[1;32m~\\AppData\\Local\\Temp/ipykernel_15408/4234769245.py\u001b[0m in \u001b[0;36m<module>\u001b[1;34m\u001b[0m\n\u001b[1;32m----> 1\u001b[1;33m \u001b[0md2\u001b[0m\u001b[1;33m[\u001b[0m\u001b[0meer\u001b[0m\u001b[1;33m]\u001b[0m\u001b[1;33m\u001b[0m\u001b[1;33m\u001b[0m\u001b[0m\n\u001b[0m",
      "\u001b[1;31mNameError\u001b[0m: name 'eer' is not defined"
     ]
    }
   ],
   "source": [
    "d2[eer]"
   ]
  },
  {
   "cell_type": "code",
   "execution_count": 11,
   "id": "dfb21f11",
   "metadata": {},
   "outputs": [],
   "source": [
    "d4 = {'Name':'samir', 'email':'samir@x.com', 'name':'zade'}"
   ]
  },
  {
   "cell_type": "code",
   "execution_count": 12,
   "id": "b38f11e7",
   "metadata": {},
   "outputs": [
    {
     "data": {
      "text/plain": [
       "'zade'"
      ]
     },
     "execution_count": 12,
     "metadata": {},
     "output_type": "execute_result"
    }
   ],
   "source": [
    "d4['name'] #same key is overwrite by new value here 'samir' is overvalued by 'zade'"
   ]
  },
  {
   "cell_type": "code",
   "execution_count": 13,
   "id": "c0bd4e77",
   "metadata": {},
   "outputs": [],
   "source": [
    "d5 = {'company':'pwskills', 'course':[\"web dev\", \"data science\", \"Java and c\"]}"
   ]
  },
  {
   "cell_type": "code",
   "execution_count": 14,
   "id": "4c1bf5c1",
   "metadata": {},
   "outputs": [
    {
     "data": {
      "text/plain": [
       "{'company': 'pwskills', 'course': ['web dev', 'data science', 'Java and c']}"
      ]
     },
     "execution_count": 14,
     "metadata": {},
     "output_type": "execute_result"
    }
   ],
   "source": [
    "d5"
   ]
  },
  {
   "cell_type": "code",
   "execution_count": 15,
   "id": "f1ff0f71",
   "metadata": {},
   "outputs": [
    {
     "data": {
      "text/plain": [
       "['web dev', 'data science', 'Java and c']"
      ]
     },
     "execution_count": 15,
     "metadata": {},
     "output_type": "execute_result"
    }
   ],
   "source": [
    "d5[\"course\"]"
   ]
  },
  {
   "cell_type": "code",
   "execution_count": 16,
   "id": "fbea78ee",
   "metadata": {},
   "outputs": [
    {
     "data": {
      "text/plain": [
       "'data science'"
      ]
     },
     "execution_count": 16,
     "metadata": {},
     "output_type": "execute_result"
    }
   ],
   "source": [
    "d5[\"course\"][1]"
   ]
  },
  {
   "cell_type": "code",
   "execution_count": 17,
   "id": "11169b7d",
   "metadata": {},
   "outputs": [],
   "source": [
    "d6 = {'number':[1, 44, 22,53], \"assignment\":(2, 4, 3, 5, 3), \"launch_date\":{13, 43, 43}, \"class_time\":{\"web_dev\":8, \"data_scienc\":5, \"java_and_c\":12}}"
   ]
  },
  {
   "cell_type": "code",
   "execution_count": 18,
   "id": "fbec3286",
   "metadata": {},
   "outputs": [
    {
     "data": {
      "text/plain": [
       "{'number': [1, 44, 22, 53],\n",
       " 'assignment': (2, 4, 3, 5, 3),\n",
       " 'launch_date': {13, 43},\n",
       " 'class_time': {'web_dev': 8, 'data_scienc': 5, 'java_and_c': 12}}"
      ]
     },
     "execution_count": 18,
     "metadata": {},
     "output_type": "execute_result"
    }
   ],
   "source": [
    "d6 #inside = list, tuple, set and dictionary"
   ]
  },
  {
   "cell_type": "code",
   "execution_count": 19,
   "id": "2b32c61c",
   "metadata": {},
   "outputs": [
    {
     "data": {
      "text/plain": [
       "dict"
      ]
     },
     "execution_count": 19,
     "metadata": {},
     "output_type": "execute_result"
    }
   ],
   "source": [
    "type(d6)"
   ]
  },
  {
   "cell_type": "code",
   "execution_count": 20,
   "id": "d40e86e0",
   "metadata": {},
   "outputs": [
    {
     "data": {
      "text/plain": [
       "12"
      ]
     },
     "execution_count": 20,
     "metadata": {},
     "output_type": "execute_result"
    }
   ],
   "source": [
    "d6[\"class_time\"][\"java_and_c\"]"
   ]
  },
  {
   "cell_type": "code",
   "execution_count": 21,
   "id": "54685cbc",
   "metadata": {},
   "outputs": [],
   "source": [
    "d6[\"mentor\"] = [\"Sudhanshu\", \"Krish\", \"Safal\", \"Sujal\"] #it append the key:value if not present in the dictionary"
   ]
  },
  {
   "cell_type": "code",
   "execution_count": 22,
   "id": "98993611",
   "metadata": {},
   "outputs": [
    {
     "data": {
      "text/plain": [
       "{'number': [1, 44, 22, 53],\n",
       " 'assignment': (2, 4, 3, 5, 3),\n",
       " 'launch_date': {13, 43},\n",
       " 'class_time': {'web_dev': 8, 'data_scienc': 5, 'java_and_c': 12},\n",
       " 'mentor': ['Sudhanshu', 'Krish', 'Safal', 'Sujal']}"
      ]
     },
     "execution_count": 22,
     "metadata": {},
     "output_type": "execute_result"
    }
   ],
   "source": [
    "d6"
   ]
  },
  {
   "cell_type": "code",
   "execution_count": 23,
   "id": "36a22f64",
   "metadata": {},
   "outputs": [],
   "source": [
    "del d6[\"number\"]"
   ]
  },
  {
   "cell_type": "code",
   "execution_count": 24,
   "id": "00020137",
   "metadata": {},
   "outputs": [
    {
     "data": {
      "text/plain": [
       "{'assignment': (2, 4, 3, 5, 3),\n",
       " 'launch_date': {13, 43},\n",
       " 'class_time': {'web_dev': 8, 'data_scienc': 5, 'java_and_c': 12},\n",
       " 'mentor': ['Sudhanshu', 'Krish', 'Safal', 'Sujal']}"
      ]
     },
     "execution_count": 24,
     "metadata": {},
     "output_type": "execute_result"
    }
   ],
   "source": [
    "d6"
   ]
  },
  {
   "cell_type": "code",
   "execution_count": 25,
   "id": "c50eb70c",
   "metadata": {},
   "outputs": [
    {
     "data": {
      "text/plain": [
       "dict_keys(['assignment', 'launch_date', 'class_time', 'mentor'])"
      ]
     },
     "execution_count": 25,
     "metadata": {},
     "output_type": "execute_result"
    }
   ],
   "source": [
    "d6.keys()"
   ]
  },
  {
   "cell_type": "code",
   "execution_count": 26,
   "id": "727c87db",
   "metadata": {},
   "outputs": [
    {
     "data": {
      "text/plain": [
       "['assignment', 'launch_date', 'class_time', 'mentor']"
      ]
     },
     "execution_count": 26,
     "metadata": {},
     "output_type": "execute_result"
    }
   ],
   "source": [
    "list(d6.keys())"
   ]
  },
  {
   "cell_type": "code",
   "execution_count": 27,
   "id": "0814c07c",
   "metadata": {},
   "outputs": [
    {
     "data": {
      "text/plain": [
       "dict_values([(2, 4, 3, 5, 3), {43, 13}, {'web_dev': 8, 'data_scienc': 5, 'java_and_c': 12}, ['Sudhanshu', 'Krish', 'Safal', 'Sujal']])"
      ]
     },
     "execution_count": 27,
     "metadata": {},
     "output_type": "execute_result"
    }
   ],
   "source": [
    "d6.values()"
   ]
  },
  {
   "cell_type": "code",
   "execution_count": 28,
   "id": "226f256f",
   "metadata": {},
   "outputs": [
    {
     "data": {
      "text/plain": [
       "[(2, 4, 3, 5, 3),\n",
       " {13, 43},\n",
       " {'web_dev': 8, 'data_scienc': 5, 'java_and_c': 12},\n",
       " ['Sudhanshu', 'Krish', 'Safal', 'Sujal']]"
      ]
     },
     "execution_count": 28,
     "metadata": {},
     "output_type": "execute_result"
    }
   ],
   "source": [
    "list(d6.values())"
   ]
  },
  {
   "cell_type": "code",
   "execution_count": 29,
   "id": "af16e372",
   "metadata": {},
   "outputs": [
    {
     "data": {
      "text/plain": [
       "[('assignment', (2, 4, 3, 5, 3)),\n",
       " ('launch_date', {13, 43}),\n",
       " ('class_time', {'web_dev': 8, 'data_scienc': 5, 'java_and_c': 12}),\n",
       " ('mentor', ['Sudhanshu', 'Krish', 'Safal', 'Sujal'])]"
      ]
     },
     "execution_count": 29,
     "metadata": {},
     "output_type": "execute_result"
    }
   ],
   "source": [
    "list(d6.items())"
   ]
  },
  {
   "cell_type": "code",
   "execution_count": 30,
   "id": "084412b7",
   "metadata": {},
   "outputs": [
    {
     "data": {
      "text/plain": [
       "(2, 4, 3, 5, 3)"
      ]
     },
     "execution_count": 30,
     "metadata": {},
     "output_type": "execute_result"
    }
   ],
   "source": [
    "d6.pop(\"assignment\")"
   ]
  },
  {
   "cell_type": "code",
   "execution_count": 31,
   "id": "55572077",
   "metadata": {},
   "outputs": [
    {
     "data": {
      "text/plain": [
       "{'launch_date': {13, 43},\n",
       " 'class_time': {'web_dev': 8, 'data_scienc': 5, 'java_and_c': 12},\n",
       " 'mentor': ['Sudhanshu', 'Krish', 'Safal', 'Sujal']}"
      ]
     },
     "execution_count": 31,
     "metadata": {},
     "output_type": "execute_result"
    }
   ],
   "source": [
    "d6 #two ways to remove - del or pop"
   ]
  },
  {
   "cell_type": "code",
   "execution_count": 32,
   "id": "ba66a631",
   "metadata": {},
   "outputs": [
    {
     "ename": "TypeError",
     "evalue": "pop expected at least 1 argument, got 0",
     "output_type": "error",
     "traceback": [
      "\u001b[1;31m---------------------------------------------------------------------------\u001b[0m",
      "\u001b[1;31mTypeError\u001b[0m                                 Traceback (most recent call last)",
      "\u001b[1;32m~\\AppData\\Local\\Temp/ipykernel_15408/3559129430.py\u001b[0m in \u001b[0;36m<module>\u001b[1;34m\u001b[0m\n\u001b[1;32m----> 1\u001b[1;33m \u001b[0md6\u001b[0m\u001b[1;33m.\u001b[0m\u001b[0mpop\u001b[0m\u001b[1;33m(\u001b[0m\u001b[1;33m)\u001b[0m \u001b[1;31m#either give a correct element position or it shows error, not like list where it remove last element\u001b[0m\u001b[1;33m\u001b[0m\u001b[1;33m\u001b[0m\u001b[0m\n\u001b[0m",
      "\u001b[1;31mTypeError\u001b[0m: pop expected at least 1 argument, got 0"
     ]
    }
   ],
   "source": [
    "d6.pop() #either give a correct element position or it shows error, not like list where it remove last element"
   ]
  },
  {
   "cell_type": "code",
   "execution_count": 33,
   "id": "0f035107",
   "metadata": {},
   "outputs": [
    {
     "name": "stdout",
     "output_type": "stream",
     "text": [
      "You will be in A1 batch\n"
     ]
    }
   ],
   "source": [
    "marks = 65\n",
    "\n",
    "if marks >= 80:\n",
    "    print(\"You will be in A0 batch\")\n",
    "elif marks >= 60 and marks < 80:\n",
    "    print(\"You will be in A1 batch\")\n",
    "elif marks >= 40 and marks < 60:\n",
    "    print(\"You will be in A2 batch\")\n",
    "else:\n",
    "    print(\"You will be in A3 batch\")"
   ]
  },
  {
   "cell_type": "code",
   "execution_count": 34,
   "id": "296474fc",
   "metadata": {},
   "outputs": [
    {
     "name": "stdout",
     "output_type": "stream",
     "text": [
      "Enter you marks: 89\n",
      "You will be in A0 batch\n"
     ]
    }
   ],
   "source": [
    "marks = int(input(\"Enter you marks: \"))\n",
    "\n",
    "if marks >= 80:\n",
    "    print(\"You will be in A0 batch\")\n",
    "elif marks >= 60 and marks < 80:\n",
    "    print(\"You will be in A1 batch\")\n",
    "elif marks >= 40 and marks < 60:\n",
    "    print(\"You will be in A2 batch\")\n",
    "else:\n",
    "    print(\"You will be in A3 batch\")"
   ]
  },
  {
   "cell_type": "code",
   "execution_count": 36,
   "id": "3f11d7dc",
   "metadata": {},
   "outputs": [
    {
     "name": "stdout",
     "output_type": "stream",
     "text": [
      "Enter your money: 50000\n",
      "I will purchased\n"
     ]
    }
   ],
   "source": [
    "price = int(input(\"Enter your money: \"))\n",
    "if price > 1000:\n",
    "    print(\"I will purchased\")\n",
    "else:\n",
    "    print(\"I will not purchased\")"
   ]
  },
  {
   "cell_type": "code",
   "execution_count": 38,
   "id": "fc0a8484",
   "metadata": {},
   "outputs": [
    {
     "name": "stdout",
     "output_type": "stream",
     "text": [
      "Enter your money: 100\n",
      "not interested\n"
     ]
    }
   ],
   "source": [
    "price = int(input(\"Enter your money: \"))\n",
    "if price > 1000:\n",
    "    print(\"I will not purchased\")\n",
    "    if price > 5000:\n",
    "        print(\"this is too high\")\n",
    "    elif price < 2000:\n",
    "        print(\"It's affordable\")\n",
    "else:\n",
    "    print(\"not interested\")"
   ]
  },
  {
   "cell_type": "code",
   "execution_count": 39,
   "id": "7c31968a",
   "metadata": {},
   "outputs": [],
   "source": [
    "l = [1, 2, 3, 4, 5, 6, 7, 8]"
   ]
  },
  {
   "cell_type": "code",
   "execution_count": null,
   "id": "fabf005c",
   "metadata": {},
   "outputs": [],
   "source": [
    "for i in l:\n",
    "    l.append(l[i] + 1)"
   ]
  },
  {
   "cell_type": "code",
   "execution_count": null,
   "id": "db5b82dc",
   "metadata": {},
   "outputs": [],
   "source": [
    "l"
   ]
  },
  {
   "cell_type": "code",
   "execution_count": null,
   "id": "adf52d26",
   "metadata": {},
   "outputs": [],
   "source": []
  }
 ],
 "metadata": {
  "kernelspec": {
   "display_name": "Python 3 (ipykernel)",
   "language": "python",
   "name": "python3"
  },
  "language_info": {
   "codemirror_mode": {
    "name": "ipython",
    "version": 3
   },
   "file_extension": ".py",
   "mimetype": "text/x-python",
   "name": "python",
   "nbconvert_exporter": "python",
   "pygments_lexer": "ipython3",
   "version": "3.9.7"
  }
 },
 "nbformat": 4,
 "nbformat_minor": 5
}
