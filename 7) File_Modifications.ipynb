{
  "nbformat": 4,
  "nbformat_minor": 0,
  "metadata": {
    "colab": {
      "provenance": []
    },
    "kernelspec": {
      "name": "python3",
      "display_name": "Python 3"
    },
    "language_info": {
      "name": "python"
    }
  },
  "cells": [
    {
      "cell_type": "markdown",
      "source": [
        "## Working with files"
      ],
      "metadata": {
        "id": "pvxKKhxzOquN"
      }
    },
    {
      "cell_type": "code",
      "execution_count": null,
      "metadata": {
        "id": "L3JX3y2OOjN2"
      },
      "outputs": [],
      "source": [
        "f = open(\"text.txt\", 'w')"
      ]
    },
    {
      "cell_type": "code",
      "source": [
        "pwd #Present Working Directory"
      ],
      "metadata": {
        "colab": {
          "base_uri": "https://localhost:8080/",
          "height": 36
        },
        "id": "taL_ZzgNUGqW",
        "outputId": "f1741cd5-4294-4dea-f363-59a881c97d0f"
      },
      "execution_count": null,
      "outputs": [
        {
          "output_type": "execute_result",
          "data": {
            "text/plain": [
              "'/content/sample_data'"
            ],
            "application/vnd.google.colaboratory.intrinsic+json": {
              "type": "string"
            }
          },
          "metadata": {},
          "execution_count": 55
        }
      ]
    },
    {
      "cell_type": "code",
      "source": [
        "ls #list of folders"
      ],
      "metadata": {
        "colab": {
          "base_uri": "https://localhost:8080/"
        },
        "id": "TwCWZvozUI_h",
        "outputId": "13ccb888-0c71-4627-fa65-f83bf68fcad4"
      },
      "execution_count": null,
      "outputs": [
        {
          "output_type": "stream",
          "name": "stdout",
          "text": [
            "\u001b[0m\u001b[01;32manscombe.json\u001b[0m*                copy_file.txt   mnist_train_small.csv  text.txt\n",
            "california_housing_test.csv   \u001b[01;34mFile_data\u001b[0m/      new.txt\n",
            "california_housing_train.csv  mnist_test.csv  \u001b[01;32mREADME.md\u001b[0m*\n"
          ]
        }
      ]
    },
    {
      "cell_type": "code",
      "source": [
        "cd /content/sample_data"
      ],
      "metadata": {
        "colab": {
          "base_uri": "https://localhost:8080/"
        },
        "id": "j__AxQeWUyKq",
        "outputId": "0162bc84-d124-4c8b-9fb0-f77814b7cfd5"
      },
      "execution_count": null,
      "outputs": [
        {
          "output_type": "stream",
          "name": "stdout",
          "text": [
            "/content/sample_data\n"
          ]
        }
      ]
    },
    {
      "cell_type": "code",
      "source": [
        "ls #list of files present"
      ],
      "metadata": {
        "id": "IVWHsKZ1Vrlk",
        "colab": {
          "base_uri": "https://localhost:8080/"
        },
        "outputId": "5b84fa38-9c83-43fd-babc-aae083d7e465"
      },
      "execution_count": null,
      "outputs": [
        {
          "output_type": "stream",
          "name": "stdout",
          "text": [
            "\u001b[0m\u001b[01;32manscombe.json\u001b[0m*                copy_file.txt   mnist_train_small.csv  text.txt\n",
            "california_housing_test.csv   \u001b[01;34mFile_data\u001b[0m/      new.txt\n",
            "california_housing_train.csv  mnist_test.csv  \u001b[01;32mREADME.md\u001b[0m*\n"
          ]
        }
      ]
    },
    {
      "cell_type": "code",
      "source": [
        "#again open same file and update the data present in file\n",
        "f.write(\"this is my first file to write\")"
      ],
      "metadata": {
        "colab": {
          "base_uri": "https://localhost:8080/"
        },
        "id": "mmLaiONRXHXH",
        "outputId": "9c0ff934-b452-4c0c-ce40-5f5115ef1387"
      },
      "execution_count": null,
      "outputs": [
        {
          "output_type": "execute_result",
          "data": {
            "text/plain": [
              "30"
            ]
          },
          "metadata": {},
          "execution_count": 59
        }
      ]
    },
    {
      "cell_type": "code",
      "source": [
        "f.close()"
      ],
      "metadata": {
        "id": "1F5B5ZmPXYPm"
      },
      "execution_count": null,
      "outputs": []
    },
    {
      "cell_type": "code",
      "source": [
        "f = open(\"text.txt\", 'w')"
      ],
      "metadata": {
        "id": "fx13h2JlXaFA"
      },
      "execution_count": null,
      "outputs": []
    },
    {
      "cell_type": "code",
      "source": [
        "f.write(\"this is my file\")"
      ],
      "metadata": {
        "colab": {
          "base_uri": "https://localhost:8080/"
        },
        "id": "QTMIHrDVXnge",
        "outputId": "76335464-c08a-44d0-96f8-c38a643e8d26"
      },
      "execution_count": null,
      "outputs": [
        {
          "output_type": "execute_result",
          "data": {
            "text/plain": [
              "15"
            ]
          },
          "metadata": {},
          "execution_count": 62
        }
      ]
    },
    {
      "cell_type": "code",
      "source": [
        "f.close()"
      ],
      "metadata": {
        "id": "l2rLVyy9XrKm"
      },
      "execution_count": null,
      "outputs": []
    },
    {
      "cell_type": "code",
      "source": [
        "#open the file without truncate or delete previous data\n",
        "f = open(\"text.txt\", 'a')"
      ],
      "metadata": {
        "id": "tV0N1lrRXxsN"
      },
      "execution_count": null,
      "outputs": []
    },
    {
      "cell_type": "code",
      "source": [
        "f.write(\"this is second mode where we want to add text without delete previous data\")"
      ],
      "metadata": {
        "colab": {
          "base_uri": "https://localhost:8080/"
        },
        "id": "MCehh8H2YCzI",
        "outputId": "1f3e80b2-12c4-4002-c88e-5c59bf85cf39"
      },
      "execution_count": null,
      "outputs": [
        {
          "output_type": "execute_result",
          "data": {
            "text/plain": [
              "74"
            ]
          },
          "metadata": {},
          "execution_count": 65
        }
      ]
    },
    {
      "cell_type": "code",
      "source": [
        "f.close()"
      ],
      "metadata": {
        "id": "ZJMZXte1YSZW"
      },
      "execution_count": null,
      "outputs": []
    },
    {
      "cell_type": "code",
      "source": [
        "##open file only in read mode\n",
        "data = open(\"text.txt\", 'r')"
      ],
      "metadata": {
        "id": "POVKuO9-YU5C"
      },
      "execution_count": null,
      "outputs": []
    },
    {
      "cell_type": "code",
      "source": [
        "data.read()"
      ],
      "metadata": {
        "colab": {
          "base_uri": "https://localhost:8080/",
          "height": 53
        },
        "id": "-OxYGByIZAU_",
        "outputId": "3b24749a-3037-43c5-b746-987339906903"
      },
      "execution_count": null,
      "outputs": [
        {
          "output_type": "execute_result",
          "data": {
            "text/plain": [
              "'this is my filethis is second mode where we want to add text without delete previous data'"
            ],
            "application/vnd.google.colaboratory.intrinsic+json": {
              "type": "string"
            }
          },
          "metadata": {},
          "execution_count": 68
        }
      ]
    },
    {
      "cell_type": "code",
      "source": [
        "#want to read data from line to line\n",
        "data.readline()"
      ],
      "metadata": {
        "colab": {
          "base_uri": "https://localhost:8080/",
          "height": 36
        },
        "id": "wdpb0pbsZBeL",
        "outputId": "33bc159b-96a5-4a71-8746-251fb1518dc5"
      },
      "execution_count": null,
      "outputs": [
        {
          "output_type": "execute_result",
          "data": {
            "text/plain": [
              "''"
            ],
            "application/vnd.google.colaboratory.intrinsic+json": {
              "type": "string"
            }
          },
          "metadata": {},
          "execution_count": 69
        }
      ]
    },
    {
      "cell_type": "code",
      "source": [
        "#it shows nothing as pointer or cursor is at last so just make it it's position\n",
        "data.seek(0)"
      ],
      "metadata": {
        "colab": {
          "base_uri": "https://localhost:8080/"
        },
        "id": "QYRdJrzDZINC",
        "outputId": "1bbeffc5-4db4-4342-cf95-21df9a6fde0d"
      },
      "execution_count": null,
      "outputs": [
        {
          "output_type": "execute_result",
          "data": {
            "text/plain": [
              "0"
            ]
          },
          "metadata": {},
          "execution_count": 70
        }
      ]
    },
    {
      "cell_type": "code",
      "source": [
        "data.readline()"
      ],
      "metadata": {
        "colab": {
          "base_uri": "https://localhost:8080/",
          "height": 53
        },
        "id": "ecScBOk8ZTuh",
        "outputId": "555c0d57-86bb-490d-8953-445d482d5899"
      },
      "execution_count": null,
      "outputs": [
        {
          "output_type": "execute_result",
          "data": {
            "text/plain": [
              "'this is my filethis is second mode where we want to add text without delete previous data'"
            ],
            "application/vnd.google.colaboratory.intrinsic+json": {
              "type": "string"
            }
          },
          "metadata": {},
          "execution_count": 71
        }
      ]
    },
    {
      "cell_type": "code",
      "source": [
        "data.seek(10)"
      ],
      "metadata": {
        "colab": {
          "base_uri": "https://localhost:8080/"
        },
        "id": "z_nZ6Hg0ZVeR",
        "outputId": "52a01412-34cd-4a21-c972-e3f0d09e7013"
      },
      "execution_count": null,
      "outputs": [
        {
          "output_type": "execute_result",
          "data": {
            "text/plain": [
              "10"
            ]
          },
          "metadata": {},
          "execution_count": 72
        }
      ]
    },
    {
      "cell_type": "code",
      "source": [
        "data.readline()"
      ],
      "metadata": {
        "colab": {
          "base_uri": "https://localhost:8080/",
          "height": 53
        },
        "id": "Zu2OGFwSZYil",
        "outputId": "1fda1e12-e7af-4c11-fa24-77a888c68450"
      },
      "execution_count": null,
      "outputs": [
        {
          "output_type": "execute_result",
          "data": {
            "text/plain": [
              "' filethis is second mode where we want to add text without delete previous data'"
            ],
            "application/vnd.google.colaboratory.intrinsic+json": {
              "type": "string"
            }
          },
          "metadata": {},
          "execution_count": 73
        }
      ]
    },
    {
      "cell_type": "code",
      "source": [
        "data.read()"
      ],
      "metadata": {
        "colab": {
          "base_uri": "https://localhost:8080/",
          "height": 36
        },
        "id": "l7WnRnE7Zc1G",
        "outputId": "0e7f0975-4a84-463f-d350-c3761259907b"
      },
      "execution_count": null,
      "outputs": [
        {
          "output_type": "execute_result",
          "data": {
            "text/plain": [
              "''"
            ],
            "application/vnd.google.colaboratory.intrinsic+json": {
              "type": "string"
            }
          },
          "metadata": {},
          "execution_count": 74
        }
      ]
    },
    {
      "cell_type": "code",
      "source": [
        "#check the size of file\n",
        "import os"
      ],
      "metadata": {
        "id": "LFtiP5OpZZ1Z"
      },
      "execution_count": null,
      "outputs": []
    },
    {
      "cell_type": "code",
      "source": [
        "os.path.getsize(\"text.txt\") #get size"
      ],
      "metadata": {
        "colab": {
          "base_uri": "https://localhost:8080/"
        },
        "id": "_xY5RYgkZ4qJ",
        "outputId": "cf9f4292-b582-4f82-8a7f-66336d741652"
      },
      "execution_count": null,
      "outputs": [
        {
          "output_type": "execute_result",
          "data": {
            "text/plain": [
              "89"
            ]
          },
          "metadata": {},
          "execution_count": 76
        }
      ]
    },
    {
      "cell_type": "code",
      "source": [
        "os.remove(\"text.txt\") #remove the file"
      ],
      "metadata": {
        "id": "Ayohdo4PZ9UB"
      },
      "execution_count": null,
      "outputs": []
    },
    {
      "cell_type": "code",
      "source": [
        "f = open(\"text1.txt\", \"w\")"
      ],
      "metadata": {
        "id": "tRKy51zxaBLO"
      },
      "execution_count": null,
      "outputs": []
    },
    {
      "cell_type": "code",
      "source": [
        "f.write(\" file this is second mode where we want to add text without delete previous data\")"
      ],
      "metadata": {
        "colab": {
          "base_uri": "https://localhost:8080/"
        },
        "id": "OKhtEI3BaXxU",
        "outputId": "001574c3-35ee-4e93-e431-077c820ca3c8"
      },
      "execution_count": null,
      "outputs": [
        {
          "output_type": "execute_result",
          "data": {
            "text/plain": [
              "80"
            ]
          },
          "metadata": {},
          "execution_count": 79
        }
      ]
    },
    {
      "cell_type": "code",
      "source": [
        "f.close()"
      ],
      "metadata": {
        "id": "taAwzkXFagoC"
      },
      "execution_count": null,
      "outputs": []
    },
    {
      "cell_type": "code",
      "source": [
        "os.rename(\"text1.txt\", \"new.txt\") #rename exist file"
      ],
      "metadata": {
        "id": "CFpyzDVAah-C"
      },
      "execution_count": null,
      "outputs": []
    },
    {
      "cell_type": "code",
      "source": [
        "#copy the file\n",
        "import shutil"
      ],
      "metadata": {
        "id": "4UNZWMNfao8T"
      },
      "execution_count": null,
      "outputs": []
    },
    {
      "cell_type": "code",
      "source": [
        "shutil.copy(\"new.txt\", \"copy_file.txt\")"
      ],
      "metadata": {
        "colab": {
          "base_uri": "https://localhost:8080/",
          "height": 36
        },
        "id": "37QoYT9WbJXr",
        "outputId": "fbf0941c-8ba1-4314-cd1a-3c5e9b08ba94"
      },
      "execution_count": null,
      "outputs": [
        {
          "output_type": "execute_result",
          "data": {
            "text/plain": [
              "'copy_file.txt'"
            ],
            "application/vnd.google.colaboratory.intrinsic+json": {
              "type": "string"
            }
          },
          "metadata": {},
          "execution_count": 83
        }
      ]
    },
    {
      "cell_type": "code",
      "source": [
        "#another way to copy\n",
        "with open(\"new.txt\", \"r\") as f:\n",
        "  print(f.read())"
      ],
      "metadata": {
        "colab": {
          "base_uri": "https://localhost:8080/"
        },
        "id": "HK9Sx6-QbRfg",
        "outputId": "7328799e-ab23-41c2-c03b-20496daca33a"
      },
      "execution_count": null,
      "outputs": [
        {
          "output_type": "stream",
          "name": "stdout",
          "text": [
            " file this is second mode where we want to add text without delete previous data\n"
          ]
        }
      ]
    },
    {
      "cell_type": "markdown",
      "source": [
        "## Read and Write of File"
      ],
      "metadata": {
        "id": "05bIMpZwc38D"
      }
    },
    {
      "cell_type": "code",
      "source": [
        "data = {\n",
        "    \"name\" : \"sudh\",\n",
        "    \"mail_id\" : \"sudh@x.com\",\n",
        "    \"phone_number\" : 93827382748,\n",
        "    \"subject\" : [\"data science\", \"machine lerning\", \"artificial intelligence\"]\n",
        "}"
      ],
      "metadata": {
        "id": "3xna7_9ybbo8"
      },
      "execution_count": null,
      "outputs": []
    },
    {
      "cell_type": "markdown",
      "source": [
        "### JSON File"
      ],
      "metadata": {
        "id": "SwbJgMUOf523"
      }
    },
    {
      "cell_type": "code",
      "source": [
        "#convert into json file\n",
        "import json"
      ],
      "metadata": {
        "id": "ECf3bCKuesp8"
      },
      "execution_count": null,
      "outputs": []
    },
    {
      "cell_type": "code",
      "source": [
        "with open(\"data.json\", \"w\") as f:\n",
        "  json.dump(data, f)"
      ],
      "metadata": {
        "id": "hoQAgtBqezwO"
      },
      "execution_count": null,
      "outputs": []
    },
    {
      "cell_type": "code",
      "source": [
        "#read the json\n",
        "with open(\"data.json\", \"r\") as f:\n",
        "  data1 = json.load(f)"
      ],
      "metadata": {
        "id": "SBj0omEde7TJ"
      },
      "execution_count": null,
      "outputs": []
    },
    {
      "cell_type": "code",
      "source": [
        "data1"
      ],
      "metadata": {
        "colab": {
          "base_uri": "https://localhost:8080/"
        },
        "id": "vlSLTF5ZfbXr",
        "outputId": "f26d56fd-5668-489c-efee-5a44fb95faf1"
      },
      "execution_count": null,
      "outputs": [
        {
          "output_type": "execute_result",
          "data": {
            "text/plain": [
              "{'name': 'sudh',\n",
              " 'mail_id': 'sudh@x.com',\n",
              " 'phone_number': 93827382748,\n",
              " 'subject': ['data science', 'machine lerning', 'artificial intelligence']}"
            ]
          },
          "metadata": {},
          "execution_count": 90
        }
      ]
    },
    {
      "cell_type": "code",
      "source": [
        " data1[\"subject\"]"
      ],
      "metadata": {
        "colab": {
          "base_uri": "https://localhost:8080/"
        },
        "id": "XcLN_rfZfcFg",
        "outputId": "0ce540aa-9ce5-4771-f15f-054e5ec6ff56"
      },
      "execution_count": null,
      "outputs": [
        {
          "output_type": "execute_result",
          "data": {
            "text/plain": [
              "['data science', 'machine lerning', 'artificial intelligence']"
            ]
          },
          "metadata": {},
          "execution_count": 91
        }
      ]
    },
    {
      "cell_type": "code",
      "source": [
        "data1[\"subject\"][2]"
      ],
      "metadata": {
        "colab": {
          "base_uri": "https://localhost:8080/",
          "height": 36
        },
        "id": "YvXkc_tPfkWb",
        "outputId": "a1ebebd9-c30f-49a2-f9e0-bd416f0d857e"
      },
      "execution_count": null,
      "outputs": [
        {
          "output_type": "execute_result",
          "data": {
            "text/plain": [
              "'artificial intelligence'"
            ],
            "application/vnd.google.colaboratory.intrinsic+json": {
              "type": "string"
            }
          },
          "metadata": {},
          "execution_count": 92
        }
      ]
    },
    {
      "cell_type": "markdown",
      "source": [
        "### CSV Files"
      ],
      "metadata": {
        "id": "BsYOSv84fxf0"
      }
    },
    {
      "cell_type": "code",
      "source": [
        "import csv"
      ],
      "metadata": {
        "id": "PsE2x1Tifm8E"
      },
      "execution_count": null,
      "outputs": []
    },
    {
      "cell_type": "code",
      "source": [
        "data = [[\"name\", \"email_id\", \"phone_num\"],\n",
        "        [\"sudh\", \"sudh@x.com\", 934847583],\n",
        "        [\"krish\", \"krish@x.com\", 94746337]]"
      ],
      "metadata": {
        "id": "JS-V-b9Fgd47"
      },
      "execution_count": null,
      "outputs": []
    },
    {
      "cell_type": "code",
      "source": [
        "with open(\"data.csv\", \"w\") as f:\n",
        "  writer = csv.writer(f)\n",
        "\n",
        "  for i in data:\n",
        "    writer.writerow(i)"
      ],
      "metadata": {
        "id": "Y3ajha34gu9_"
      },
      "execution_count": null,
      "outputs": []
    },
    {
      "cell_type": "code",
      "source": [
        "with open(\"data.csv\", \"r\") as f:\n",
        "  read_data = csv.reader(f)\n",
        "\n",
        "  for i in read_data:\n",
        "    print(i)"
      ],
      "metadata": {
        "colab": {
          "base_uri": "https://localhost:8080/"
        },
        "id": "Iokym0Jzg7Pq",
        "outputId": "9df27e81-eef6-4631-caae-a8c4e985325e"
      },
      "execution_count": null,
      "outputs": [
        {
          "output_type": "stream",
          "name": "stdout",
          "text": [
            "['name', 'email_id', 'phone_num']\n",
            "['sudh', 'sudh@x.com', '934847583']\n",
            "['krish', 'krish@x.com', '94746337']\n"
          ]
        }
      ]
    },
    {
      "cell_type": "markdown",
      "source": [
        "### Binary Data"
      ],
      "metadata": {
        "id": "EN5uSnYbhjlB"
      }
    },
    {
      "cell_type": "code",
      "source": [
        "with open(\"data.bin\", \"wb\") as f:\n",
        "  f.write(b\"\\x01\\x02\\x03\")"
      ],
      "metadata": {
        "id": "BLfHnoXPhREx"
      },
      "execution_count": null,
      "outputs": []
    },
    {
      "cell_type": "code",
      "source": [
        "with open(\"data.bin\", \"rb\") as f:\n",
        "  print(f.read())"
      ],
      "metadata": {
        "colab": {
          "base_uri": "https://localhost:8080/"
        },
        "id": "SuNPShdPijcg",
        "outputId": "e4458e18-e42c-42d4-cf17-53ca83bd3f1d"
      },
      "execution_count": null,
      "outputs": [
        {
          "output_type": "stream",
          "name": "stdout",
          "text": [
            "b'\\x01\\x02\\x03'\n"
          ]
        }
      ]
    },
    {
      "cell_type": "code",
      "source": [
        "#buffered read\n",
        "import io"
      ],
      "metadata": {
        "id": "0huM4zamiznm"
      },
      "execution_count": null,
      "outputs": []
    },
    {
      "cell_type": "code",
      "source": [
        "with open(\"test1.txt\", \"wb\") as f:\n",
        "  file = io.BufferedWriter(f)\n",
        "\n",
        "  file.write(b\"data science course is nice course to explore the depth knowledge of it\\n\")\n",
        "  file.write(b\"this is second line code\\n\")\n",
        "  file.flush()"
      ],
      "metadata": {
        "id": "K-QldXQalWOe"
      },
      "execution_count": null,
      "outputs": []
    },
    {
      "cell_type": "code",
      "source": [
        "#read the file\n",
        "with open(\"test1.txt\", \"rb\") as f:\n",
        "  file = io.BufferedReader(f)\n",
        "  data = file.read()"
      ],
      "metadata": {
        "id": "nmkpzpw3l1cn"
      },
      "execution_count": null,
      "outputs": []
    },
    {
      "cell_type": "code",
      "source": [
        "data"
      ],
      "metadata": {
        "colab": {
          "base_uri": "https://localhost:8080/"
        },
        "id": "lLLrYV1YmIPf",
        "outputId": "6c87f81e-e7c9-4458-e862-2390d5146304"
      },
      "execution_count": null,
      "outputs": [
        {
          "output_type": "execute_result",
          "data": {
            "text/plain": [
              "b'data science course is nice course to explore the depth knowledge of it\\nthis is second line code\\n'"
            ]
          },
          "metadata": {},
          "execution_count": 106
        }
      ]
    },
    {
      "cell_type": "code",
      "source": [
        "import logging"
      ],
      "metadata": {
        "id": "7pBWOgrG9Jh4"
      },
      "execution_count": null,
      "outputs": []
    },
    {
      "cell_type": "code",
      "source": [
        "logging.basicConfig(filename = \"test.log\", level = logging.INFO)"
      ],
      "metadata": {
        "id": "IciNhRpK9KFn"
      },
      "execution_count": null,
      "outputs": []
    },
    {
      "cell_type": "code",
      "source": [
        "logging.info(\"this is first line of logging\")"
      ],
      "metadata": {
        "id": "ufU4Px8_9LsB"
      },
      "execution_count": null,
      "outputs": []
    },
    {
      "cell_type": "code",
      "source": [
        "ls"
      ],
      "metadata": {
        "colab": {
          "base_uri": "https://localhost:8080/"
        },
        "id": "4IEe-Vpg9NUq",
        "outputId": "0c61ac9e-da28-4f99-a134-7e298c6e4c14"
      },
      "execution_count": null,
      "outputs": [
        {
          "output_type": "stream",
          "name": "stdout",
          "text": [
            "\u001b[0m\u001b[01;32manscombe.json\u001b[0m*                copy_file.txt  data.json       mnist_train_small.csv  test1.txt\n",
            "california_housing_test.csv   data.bin       \u001b[01;34mFile_data\u001b[0m/      new.txt\n",
            "california_housing_train.csv  data.csv       mnist_test.csv  \u001b[01;32mREADME.md\u001b[0m*\n"
          ]
        }
      ]
    },
    {
      "cell_type": "code",
      "source": [],
      "metadata": {
        "id": "250p5IM99jFl"
      },
      "execution_count": null,
      "outputs": []
    }
  ]
}